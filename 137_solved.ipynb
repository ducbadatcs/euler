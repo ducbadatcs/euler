{
 "cells": [
  {
   "cell_type": "code",
   "execution_count": 1,
   "metadata": {},
   "outputs": [],
   "source": [
    "import math, decimal, os\n",
    "import numpy as np"
   ]
  },
  {
   "cell_type": "markdown",
   "metadata": {},
   "source": [
    "Using generating functions: we have $$A_F(x) = \\frac{x}{1 - x - x^2}$$ and now we want to find inputs $x$ so that $A_F(x)$ is an integer. Let $A_F(x) = n$: \n",
    "\n",
    "$$\n",
    "\\frac{x}{1 - x - x^2} = n \\\\\n",
    "\\Rightarrow x = n - nx - nx^2 \\\\\n",
    "\\Rightarrow -nx^2 - (n + 1)x + n = 0\\\\\n",
    "$$\n",
    "\n",
    "Since this is a quadratic equation, we'll solve it via the formula. First, we identify $\\Delta$:\n",
    "\n",
    "$$\n",
    "\\Delta = (n + 1)^2 - 4 * (-n) * n = 5n^2 + 2n + 1 \\Rightarrow (2n)^2 < \\Delta < (3n)^2\n",
    "$$\n",
    "\n",
    "Now, for the question to have integer solutions, $\\sqrt{\\Delta}$ must be an integer. Since it's bounded between $2n$ and $3n$, let's define $\\sqrt{\\Delta} = 2n + k \\dots$"
   ]
  },
  {
   "cell_type": "markdown",
   "metadata": {},
   "source": [
    "Anyways, now we calculate a first few values of $n, k$"
   ]
  },
  {
   "cell_type": "code",
   "execution_count": 2,
   "metadata": {},
   "outputs": [
    {
     "name": "stdout",
     "output_type": "stream",
     "text": [
      "n = 2, sqrt(5n^2 + 2n + 1) = 5, k = 1\n",
      "n = 15, sqrt(5n^2 + 2n + 1) = 34, k = 4\n",
      "n = 104, sqrt(5n^2 + 2n + 1) = 233, k = 25\n",
      "n = 714, sqrt(5n^2 + 2n + 1) = 1597, k = 169\n",
      "n = 4895, sqrt(5n^2 + 2n + 1) = 10946, k = 1156\n",
      "n = 33552, sqrt(5n^2 + 2n + 1) = 75025, k = 7921\n",
      "n = 229970, sqrt(5n^2 + 2n + 1) = 514229, k = 54289\n",
      "n = 1576239, sqrt(5n^2 + 2n + 1) = 3524578, k = 372100\n",
      "n = 10803704, sqrt(5n^2 + 2n + 1) = 24157817, k = 2550409\n",
      "n = 74049690, sqrt(5n^2 + 2n + 1) = 165580141, k = 17480761\n"
     ]
    }
   ],
   "source": [
    "def is_square(n: int) -> int:\n",
    "    a = math.isqrt(n)\n",
    "    return a if a * a == n else -1\n",
    "\n",
    "k_array = []\n",
    "\n",
    "for i in range(2, 74049690 + 1):\n",
    "    z = 5*i*i + 2*i + 1\n",
    "    p = is_square(z)\n",
    "    if p >= 0:\n",
    "        print(f\"n = {i}, sqrt(5n^2 + 2n + 1) = {p}, k = {p - 2 * i}\")\n",
    "        k_array.append(p - 2 * i)"
   ]
  },
  {
   "cell_type": "markdown",
   "metadata": {},
   "source": [
    "All the computed $k$ 's were squares... Since they're squares, let's analyze their square roots!"
   ]
  },
  {
   "cell_type": "code",
   "execution_count": 3,
   "metadata": {},
   "outputs": [
    {
     "name": "stdout",
     "output_type": "stream",
     "text": [
      "[1, 4, 25, 169, 1156, 7921, 54289, 372100, 2550409, 17480761]\n",
      "[1, 2, 5, 13, 34, 89, 233, 610, 1597, 4181]\n"
     ]
    }
   ],
   "source": [
    "print(k_array)\n",
    "print([math.isqrt(i) for i in k_array])"
   ]
  },
  {
   "cell_type": "markdown",
   "metadata": {},
   "source": [
    "A Fibonacci index \n",
    "\n",
    "Those values seem to be Fibonacci numbers, so let's see their Fibonacci index! The Fibonacci index of a number $m$ is the first number $n$ such that $F_n = m$."
   ]
  },
  {
   "cell_type": "code",
   "execution_count": 4,
   "metadata": {},
   "outputs": [
    {
     "name": "stdout",
     "output_type": "stream",
     "text": [
      "[1, 2, 5, 13, 34, 89, 233, 610, 1597, 4181] 10\n",
      "[None, 3, 5, 7, 9, 11, 13, 15, 17, 19] 10\n"
     ]
    }
   ],
   "source": [
    "def fibonacci_index(n: int) -> int:\n",
    "    l = [1, 1]\n",
    "    while l[-1] != n:\n",
    "        l.append(l[-1] + l[-2])\n",
    "        if l[-1] > n: return -1\n",
    "        elif l[-1] == n: return len(l)\n",
    "\n",
    "v = [is_square(i) for i in k_array]        \n",
    "x = [fibonacci_index(is_square(i)) for i in k_array]\n",
    "print(v, len(v))\n",
    "print(x, len(x))"
   ]
  },
  {
   "cell_type": "code",
   "execution_count": 5,
   "metadata": {},
   "outputs": [
    {
     "name": "stdout",
     "output_type": "stream",
     "text": [
      "0 1\n",
      "1 1\n",
      "2 1\n",
      "3 2\n",
      "4 3\n",
      "5 5\n",
      "6 8\n",
      "7 13\n",
      "8 21\n",
      "9 34\n"
     ]
    }
   ],
   "source": [
    "def fib(n: int) -> int:\n",
    "    if n <= 2: return 1\n",
    "    else:\n",
    "        l = [1, 1]\n",
    "        for _ in range(n - 2):\n",
    "            l.append(l[-1] + l[-2])\n",
    "        return l[-1]\n",
    "for i in range(10):\n",
    "    print(i, fib(i))"
   ]
  },
  {
   "cell_type": "code",
   "execution_count": 6,
   "metadata": {},
   "outputs": [
    {
     "data": {
      "text/plain": [
       "264431464441"
      ]
     },
     "execution_count": 6,
     "metadata": {},
     "output_type": "execute_result"
    }
   ],
   "source": [
    "fib(29) ** 2"
   ]
  },
  {
   "cell_type": "code",
   "execution_count": 7,
   "metadata": {},
   "outputs": [
    {
     "name": "stdout",
     "output_type": "stream",
     "text": [
      "1120149658760\n"
     ]
    }
   ],
   "source": [
    "q = 15\n",
    "k = fib(2 * q - 1) ** 2\n",
    "d = (1 - 2 * k) ** 2 - 1 * (1 - k*k)\n",
    "r = 2*k - 1 + is_square(d)\n",
    "print(r)"
   ]
  },
  {
   "cell_type": "code",
   "execution_count": null,
   "metadata": {},
   "outputs": [],
   "source": []
  }
 ],
 "metadata": {
  "kernelspec": {
   "display_name": "Python 3",
   "language": "python",
   "name": "python3"
  },
  "language_info": {
   "codemirror_mode": {
    "name": "ipython",
    "version": 3
   },
   "file_extension": ".py",
   "mimetype": "text/x-python",
   "name": "python",
   "nbconvert_exporter": "python",
   "pygments_lexer": "ipython3",
   "version": "3.13.1"
  }
 },
 "nbformat": 4,
 "nbformat_minor": 2
}
