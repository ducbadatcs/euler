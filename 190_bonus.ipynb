{
 "cells": [
  {
   "cell_type": "code",
   "execution_count": 1,
   "id": "e4e38eda",
   "metadata": {},
   "outputs": [],
   "source": [
    "import numpy as np\n",
    "import math"
   ]
  },
  {
   "cell_type": "code",
   "execution_count": 2,
   "id": "d8cde92d",
   "metadata": {},
   "outputs": [],
   "source": [
    "def lm_P(x: np.ndarray) -> float:\n",
    "    m = len(x)\n",
    "    return np.dot(np.arange(1, m + 1), np.array(x))\n",
    "\n",
    "def P(x: np.ndarray) -> float:\n",
    "    return math.exp(lm_P(x))\n",
    "\n"
   ]
  },
  {
   "cell_type": "code",
   "execution_count": 3,
   "id": "cceb31fb",
   "metadata": {},
   "outputs": [
    {
     "data": {
      "text/plain": [
       "array([0.0320586 , 0.08714432, 0.23688282, 0.64391426])"
      ]
     },
     "execution_count": 3,
     "metadata": {},
     "output_type": "execute_result"
    }
   ],
   "source": [
    "def softmax(x: np.ndarray) -> np.ndarray:\n",
    "    v =  np.exp(x)\n",
    "    s = np.sum(v)\n",
    "    return v / s\n",
    "\n",
    "softmax(np.arange(1, 5))\n",
    "    "
   ]
  },
  {
   "cell_type": "code",
   "execution_count": 4,
   "id": "5ea33a4f",
   "metadata": {},
   "outputs": [
    {
     "data": {
      "text/plain": [
       "array([1. , 2. , 1.5])"
      ]
     },
     "execution_count": 4,
     "metadata": {},
     "output_type": "execute_result"
    }
   ],
   "source": [
    "def grad_ln_P(x: list[float]) -> np.ndarray:\n",
    "    return np.arange(1, len(x) + 1) / x\n",
    "\n",
    "grad_ln_P([1, 1, 2])"
   ]
  },
  {
   "cell_type": "code",
   "execution_count": 11,
   "id": "b81da574",
   "metadata": {},
   "outputs": [
    {
     "data": {
      "text/plain": [
       "array([0.18182071, 0.36363591, 0.54545422, 0.72727244, 0.90909064,\n",
       "       1.09090884, 1.27272703, 1.45454521, 1.6363634 , 1.81818159])"
      ]
     },
     "execution_count": 11,
     "metadata": {},
     "output_type": "execute_result"
    }
   ],
   "source": [
    "def gradient_descent_test(m: int, eta: float = 1e-2, iter: int = 10 ** 3, tol: float = 1e-9) -> np.ndarray:\n",
    "    # we work on vectors $u$, and return exp(u) as the result.\n",
    "    u = np.zeros(m)\n",
    "    s = m * (m + 1) // 2\n",
    "    \n",
    "    for _ in range(iter):\n",
    "        v = np.exp(u - np.max(u))\n",
    "        z = v / np.sum(v)\n",
    "        \n",
    "        g_u = np.arange(1, m + 1) - s * z\n",
    "        \n",
    "        if np.linalg.norm(eta * g_u) < tol:\n",
    "            break\n",
    "        \n",
    "        u += eta * g_u\n",
    "        \n",
    "    v = np.exp(u - np.max(u))\n",
    "    z = v / np.sum(v)\n",
    "    \n",
    "    return m * z\n",
    "    \n",
    "    \n",
    "    # return x\n",
    "\n",
    "gradient_descent_test(10)\n",
    "\n"
   ]
  },
  {
   "cell_type": "code",
   "execution_count": 16,
   "id": "98437356",
   "metadata": {},
   "outputs": [
    {
     "data": {
      "text/plain": [
       "4112.085002442024"
      ]
     },
     "execution_count": 16,
     "metadata": {},
     "output_type": "execute_result"
    }
   ],
   "source": [
    "t = 1.0\n",
    "n = 10\n",
    "l = gradient_descent_test(n)\n",
    "for i in range(1, n + 1):\n",
    "    t *= math.pow(l[i - 1], i)\n",
    "    # t += i * math.log(l[i - 1])\n",
    "# math.exp(t)\n",
    "t"
   ]
  },
  {
   "cell_type": "code",
   "execution_count": null,
   "id": "c9b3bcc1",
   "metadata": {},
   "outputs": [],
   "source": []
  }
 ],
 "metadata": {
  "kernelspec": {
   "display_name": "Python 3",
   "language": "python",
   "name": "python3"
  },
  "language_info": {
   "codemirror_mode": {
    "name": "ipython",
    "version": 3
   },
   "file_extension": ".py",
   "mimetype": "text/x-python",
   "name": "python",
   "nbconvert_exporter": "python",
   "pygments_lexer": "ipython3",
   "version": "3.13.3"
  }
 },
 "nbformat": 4,
 "nbformat_minor": 5
}
