{
 "cells": [
  {
   "cell_type": "code",
   "execution_count": 1,
   "metadata": {},
   "outputs": [],
   "source": [
    "import math\n",
    "import numpy as np"
   ]
  },
  {
   "cell_type": "code",
   "execution_count": 8,
   "metadata": {},
   "outputs": [
    {
     "data": {
      "text/plain": [
       "True"
      ]
     },
     "execution_count": 8,
     "metadata": {},
     "output_type": "execute_result"
    }
   ],
   "source": [
    "def is_cyclic(s: str) -> bool:\n",
    "    n: int = len(s)\n",
    "    p = int(s.lstrip('0')) # for multiply\n",
    "    for i in range(2, n + 1):\n",
    "        v = str(p * i)\n",
    "        if len(v) < n:\n",
    "            v = \"0\" * (n - len(v)) + v\n",
    "        if sorted(v) != sorted(s):\n",
    "            # print(i)\n",
    "            return False\n",
    "    return True\n",
    "\n",
    "\n",
    "is_cyclic(\"0588235294117647\")"
   ]
  },
  {
   "cell_type": "code",
   "execution_count": 9,
   "metadata": {},
   "outputs": [
    {
     "ename": "KeyboardInterrupt",
     "evalue": "",
     "output_type": "error",
     "traceback": [
      "\u001b[1;31m---------------------------------------------------------------------------\u001b[0m",
      "\u001b[1;31mKeyboardInterrupt\u001b[0m                         Traceback (most recent call last)",
      "Cell \u001b[1;32mIn[9], line 2\u001b[0m\n\u001b[0;32m      1\u001b[0m a \u001b[38;5;241m=\u001b[39m \u001b[38;5;241m0\u001b[39m\n\u001b[1;32m----> 2\u001b[0m \u001b[38;5;28;01mwhile\u001b[39;00m \u001b[38;5;28;01mTrue\u001b[39;00m:\n\u001b[0;32m      3\u001b[0m     s \u001b[38;5;241m=\u001b[39m \u001b[38;5;124m\"\u001b[39m\u001b[38;5;124m00000000137\u001b[39m\u001b[38;5;124m\"\u001b[39m \u001b[38;5;241m+\u001b[39m \u001b[38;5;28mstr\u001b[39m(a) \u001b[38;5;241m+\u001b[39m \u001b[38;5;124m\"\u001b[39m\u001b[38;5;124m56789\u001b[39m\u001b[38;5;124m\"\u001b[39m\n\u001b[0;32m      4\u001b[0m     \u001b[38;5;28;01mif\u001b[39;00m is_cyclic(s): \n",
      "\u001b[1;31mKeyboardInterrupt\u001b[0m: "
     ]
    }
   ],
   "source": [
    "a = 0\n",
    "while True:\n",
    "    s = \"00000000137\" + str(a) + \"56789\"\n",
    "    if is_cyclic(s): \n",
    "        print(s)\n",
    "        break\n",
    "    a += 1"
   ]
  },
  {
   "cell_type": "code",
   "execution_count": 13,
   "metadata": {},
   "outputs": [
    {
     "name": "stdout",
     "output_type": "stream",
     "text": [
      "24578\n",
      "77889\n",
      "77889\n",
      "78899\n",
      "88899\n",
      "89999\n",
      "99999\n",
      "99999\n",
      "99999\n",
      "99999\n",
      "99999\n",
      "99999\n",
      "99999\n",
      "99999\n",
      "99999\n",
      "99999\n",
      "99999\n",
      "99999\n",
      "99999\n",
      "99999\n",
      "99999\n",
      "99999\n",
      "99999\n",
      "99999\n",
      "99999\n",
      "99999\n",
      "99999\n",
      "99999\n",
      "99999\n",
      "99999\n",
      "99999\n",
      "99999\n",
      "99999\n",
      "99999\n",
      "99999\n",
      "99999\n",
      "99999\n",
      "99999\n",
      "99999\n",
      "99999\n",
      "99999\n",
      "99999\n",
      "99999\n",
      "99999\n",
      "99999\n",
      "99999\n",
      "99999\n",
      "99999\n",
      "99999\n",
      "99999\n",
      "99999\n",
      "99999\n",
      "99999\n",
      "99999\n",
      "99999\n",
      "99999\n",
      "99999\n",
      "99999\n",
      "99999\n",
      "99999\n"
     ]
    }
   ],
   "source": [
    "l = [7, 17, 19, 23, 29, 47, 59, 61, 97, 109, 113, 131, 149, 167, 179, 181, 193, 223, 229, 233, 257, 263, 269, 313, 337, 367, 379, 383, 389, 419, 433,\n",
    "     461, 487, 491, 499, 503, 509, 541, 571, 577, 593, 619, 647, 659, 701, 709, 727, 743, 811, 821, 823, 857, 863, 887, 937, 941, 953, 971, 977, 983,\n",
    "]\n",
    "for i in l:\n",
    "    a = str((10 ** i - 1) // i)\n",
    "    s = \"\".join(sorted(a))\n",
    "    print(s[-5:])\n",
    "    if s.endswith(\"56789\"):\n",
    "        print(s)"
   ]
  },
  {
   "cell_type": "code",
   "execution_count": null,
   "metadata": {},
   "outputs": [],
   "source": []
  }
 ],
 "metadata": {
  "kernelspec": {
   "display_name": ".venv",
   "language": "python",
   "name": "python3"
  },
  "language_info": {
   "codemirror_mode": {
    "name": "ipython",
    "version": 3
   },
   "file_extension": ".py",
   "mimetype": "text/x-python",
   "name": "python",
   "nbconvert_exporter": "python",
   "pygments_lexer": "ipython3",
   "version": "3.12.6"
  }
 },
 "nbformat": 4,
 "nbformat_minor": 2
}
