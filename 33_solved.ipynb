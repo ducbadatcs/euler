{
 "cells": [
  {
   "cell_type": "code",
   "execution_count": 1,
   "metadata": {},
   "outputs": [],
   "source": [
    "import math"
   ]
  },
  {
   "cell_type": "markdown",
   "metadata": {},
   "source": [
    "Basically since I'm smartass this problem was solved by hand lmao. The fractions are: $$\\frac{16}{64}, \\frac{19}{95},  \\frac{49}{98} ,\\frac{26}{65}$$"
   ]
  },
  {
   "cell_type": "code",
   "execution_count": 2,
   "metadata": {},
   "outputs": [
    {
     "name": "stdout",
     "output_type": "stream",
     "text": [
      "16 64\n",
      "19 95\n",
      "26 65\n",
      "49 98\n"
     ]
    }
   ],
   "source": [
    "for i in range(10, 100):\n",
    "    for j in range(i + 1, 100):\n",
    "        if i != j and math.gcd(i, j) > 1 and (i % 10 == j // 10):\n",
    "            a = i // 10\n",
    "            b = j % 10\n",
    "            if i * b == j * a:\n",
    "                print(i, j)"
   ]
  },
  {
   "cell_type": "markdown",
   "metadata": {},
   "source": [
    "I lied wtf do you expect"
   ]
  },
  {
   "cell_type": "markdown",
   "metadata": {},
   "source": [
    "now we just need to reduce that"
   ]
  },
  {
   "cell_type": "code",
   "execution_count": 3,
   "metadata": {},
   "outputs": [
    {
     "name": "stdout",
     "output_type": "stream",
     "text": [
      "100\n"
     ]
    }
   ],
   "source": [
    "a = 16 * 19 * 26 * 49\n",
    "b = 64 * 95 * 65 * 98\n",
    "# reduce \n",
    "k = math.gcd(a, b)\n",
    "print(b // k)"
   ]
  },
  {
   "cell_type": "code",
   "execution_count": null,
   "metadata": {},
   "outputs": [],
   "source": []
  }
 ],
 "metadata": {
  "kernelspec": {
   "display_name": "Python 3",
   "language": "python",
   "name": "python3"
  },
  "language_info": {
   "codemirror_mode": {
    "name": "ipython",
    "version": 3
   },
   "file_extension": ".py",
   "mimetype": "text/x-python",
   "name": "python",
   "nbconvert_exporter": "python",
   "pygments_lexer": "ipython3",
   "version": "3.13.1"
  }
 },
 "nbformat": 4,
 "nbformat_minor": 2
}
