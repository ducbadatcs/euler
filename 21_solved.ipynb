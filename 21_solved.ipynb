{
 "cells": [
  {
   "cell_type": "code",
   "execution_count": 1,
   "metadata": {},
   "outputs": [],
   "source": [
    "import math"
   ]
  },
  {
   "cell_type": "markdown",
   "metadata": {},
   "source": [
    "Algorithm: just iterate and calculate the sum of divisors, make sure to avoid duplicates or something, use a set, also check that the sum of divisors doesn't equal the number itself."
   ]
  },
  {
   "cell_type": "code",
   "execution_count": 4,
   "metadata": {},
   "outputs": [
    {
     "data": {
      "text/plain": [
       "284"
      ]
     },
     "execution_count": 4,
     "metadata": {},
     "output_type": "execute_result"
    }
   ],
   "source": [
    "def sum_of_divisors(n: int) -> int:\n",
    "    t = 0\n",
    "    for i in range(1, math.isqrt(n) + 1):\n",
    "        if n % i == 0:\n",
    "            t += i\n",
    "            if i * i != n:\n",
    "                t += n // i\n",
    "    return t - n # we included n in that sum above\n",
    "\n",
    "sum_of_divisors(220)"
   ]
  },
  {
   "cell_type": "code",
   "execution_count": 11,
   "metadata": {},
   "outputs": [
    {
     "name": "stdout",
     "output_type": "stream",
     "text": [
      "31626\n"
     ]
    }
   ],
   "source": [
    "s = set()\n",
    "for i in range(1, 10000):\n",
    "    t = sum_of_divisors(i)\n",
    "    if t < 10000 and t != i and sum_of_divisors(t) == i :\n",
    "        s.add(i)\n",
    "        s.add(t)\n",
    "# for i in s:\n",
    "#     print(i)\n",
    "print(sum(s))"
   ]
  },
  {
   "cell_type": "code",
   "execution_count": null,
   "metadata": {},
   "outputs": [],
   "source": [
    "s"
   ]
  }
 ],
 "metadata": {
  "kernelspec": {
   "display_name": "Python 3",
   "language": "python",
   "name": "python3"
  },
  "language_info": {
   "codemirror_mode": {
    "name": "ipython",
    "version": 3
   },
   "file_extension": ".py",
   "mimetype": "text/x-python",
   "name": "python",
   "nbconvert_exporter": "python",
   "pygments_lexer": "ipython3",
   "version": "3.13.1"
  }
 },
 "nbformat": 4,
 "nbformat_minor": 2
}
