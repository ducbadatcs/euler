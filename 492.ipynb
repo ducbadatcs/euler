{
 "cells": [
  {
   "cell_type": "markdown",
   "metadata": {},
   "source": [
    "Let $a = 6, b = 10$. Then we have:\n",
    "\n",
    "$$\n",
    "a_1 = 1 \\\\~\\\\\n",
    "a_n = a \\times {a_n}^2 + b a_n + \\frac{b^2 - 2b - 8}{4a}\n",
    "$$\n",
    "\n",
    "Using [Iterated functions](https://en.wikipedia.org/wiki/Iterated_function#Examples) we have:\n",
    "\n",
    "$$\n",
    "a_n = \\frac{2\\alpha^{2^n} + 2\\alpha^{-2^n} - b}{2a}\n",
    "$$\n",
    "\n",
    "Where $\\displaystyle{\\alpha = \\frac{2ax + b \\pm \\sqrt{(2ax + b)^2 - 16}}{4}}$"
   ]
  },
  {
   "cell_type": "code",
   "execution_count": 1,
   "metadata": {},
   "outputs": [
    {
     "data": {
      "text/plain": [
       "[10.908326913195985, 0.09167308680401565]"
      ]
     },
     "execution_count": 1,
     "metadata": {},
     "output_type": "execute_result"
    }
   ],
   "source": [
    "import math\n",
    "a = 6\n",
    "b = 10\n",
    "x = 1\n",
    "z = 2*a*x + b\n",
    "\n",
    "alpha = [\n",
    "\t(z + math.sqrt(z ** 2 - 16)) / 4,\n",
    "\t(z - math.sqrt(z ** 2 - 16)) / 4,\n",
    "]\n",
    "\n",
    "alpha"
   ]
  },
  {
   "cell_type": "markdown",
   "metadata": {},
   "source": [
    "There are 2 alphas, but the sum $\\alpha^{2^n} + \\alpha^{-2^n}$ is the same..."
   ]
  },
  {
   "cell_type": "code",
   "execution_count": 2,
   "metadata": {},
   "outputs": [
    {
     "data": {
      "text/plain": [
       "[119.00000000000003, 119.00000000000108]"
      ]
     },
     "execution_count": 2,
     "metadata": {},
     "output_type": "execute_result"
    }
   ],
   "source": [
    "n = 1\n",
    "[math.pow(i, 2 ** n) + math.pow(i, -2 ** n) for i in alpha]"
   ]
  },
  {
   "cell_type": "markdown",
   "metadata": {},
   "source": [
    "dangerously close to $119$..."
   ]
  },
  {
   "cell_type": "markdown",
   "metadata": {},
   "source": [
    "We construct an alternative sequence: \n",
    "$$\n",
    "a_n = \\frac{2\\alpha^{2^n} + 2\\alpha^{-2^n} - b}{2a} \\\\~\\\\\n",
    "= \\frac{2 \\left(\\alpha^{2^n} + \\frac{1}{\\alpha^{2^n}}\\right) - b}{2a}\n",
    "$$\n",
    "\n",
    "Let $v_n = \\alpha^{2^n} + \\frac{1}{\\alpha^{2^n}}$, then:\n",
    "\n",
    "$$\n",
    "\\begin{cases}\n",
    "v_0 = 11 &\\text{why not} \\\\\n",
    "v_1 = 119 &\\text{ as we found above} \\\\\n",
    "v_{n + 1} = {v_n}^2 - 2 \\\\\n",
    "\\end{cases}\n",
    "$$\n"
   ]
  },
  {
   "cell_type": "markdown",
   "metadata": {},
   "source": [
    "Let $x = 1$. We define $f(x) = a \\times {a_n}^2 + b a_n + \\frac{b^2 - 2b - 8}{4a}$ with $a = 6, b = 10$. Then "
   ]
  },
  {
   "cell_type": "markdown",
   "metadata": {},
   "source": [
    "$$\n",
    "a_1 = x \\\\~\\\\\n",
    "a_2 = f(x) = \\frac{2v_1 - b}{2a}\\\\~\\\\\n",
    "a_n = f^{[n-1]}(x) = \\frac{2v_{n-1} - b}{2a}\n",
    "$$\n",
    "\n",
    "where $f^{[n-1]}(x) = \\underbrace{f(f(\\dots f(x)))}_{n-1}$"
   ]
  },
  {
   "cell_type": "code",
   "execution_count": 3,
   "metadata": {},
   "outputs": [
    {
     "data": {
      "text/plain": [
       "1.0"
      ]
     },
     "execution_count": 3,
     "metadata": {},
     "output_type": "execute_result"
    }
   ],
   "source": [
    "a_1 = 1\n",
    "a_2 = 6 * a_1 * a_1 + 10 * a_1 + 3\n",
    "\n",
    "\n",
    "v_0 =11\n",
    "v_1 = 119\n",
    "v_2 = v_1 * v_1 - 1\n",
    "\n",
    "(2 * v_0 - b) / (2*a)\n"
   ]
  },
  {
   "cell_type": "markdown",
   "metadata": {},
   "source": [
    "if we set $a = 1, b = 0$, then:\n",
    "\n",
    "$$\n",
    "v_n = \n",
    "\\begin{cases} \n",
    "11 & n = 0 \\\\\n",
    "{v_n}^2 + b v_n + \\frac{b^2 - 2b - 8}{4a} & n \\geq 1\n",
    "\\end{cases}\n",
    "$$"
   ]
  },
  {
   "cell_type": "code",
   "execution_count": 4,
   "metadata": {},
   "outputs": [
    {
     "name": "stdout",
     "output_type": "stream",
     "text": [
      "11\n",
      "119\n",
      "14159\n",
      "200477279\n",
      "40191139395243839\n",
      "1615327685887921300502934267457919\n"
     ]
    }
   ],
   "source": [
    "v = [11]\n",
    "for i in range(5):\n",
    "    v.append(v[-1] * v[-1] - 2)\n",
    "\n",
    "for i in v:\n",
    "    print(i)"
   ]
  },
  {
   "cell_type": "code",
   "execution_count": 5,
   "metadata": {},
   "outputs": [
    {
     "data": {
      "text/plain": [
       "[10.908326913195985, 0.09167308680401565]"
      ]
     },
     "execution_count": 5,
     "metadata": {},
     "output_type": "execute_result"
    }
   ],
   "source": [
    "a_v = 1\n",
    "b_v = 0\n",
    "x_v = 11\n",
    "\n",
    "z_v = 2 * a_v * x_v + b_v\n",
    "\n",
    "alpha_v = [\n",
    "\t(z_v + math.sqrt(z_v ** 2 - 16)) / 4,\n",
    "\t(z_v - math.sqrt(z_v ** 2 - 16)) / 4,\n",
    "]\n",
    "\n",
    "alpha_v\n"
   ]
  },
  {
   "cell_type": "code",
   "execution_count": 10,
   "metadata": {},
   "outputs": [
    {
     "data": {
      "text/plain": [
       "[46353773440352312984278703544333169565321460481757873178612750384554251572990771816027362778822925407023474446292806117002515186725325989303516210567537530649531367216559141871316057202827903883771435494028539626485740055457012208702420033563456565184187830087188480,\n",
       " 46353773440404450108862287211205813961472715525230232104775687057484099732173829108049107740845013497029408182250275265989048375715721428788524462649820690819440035533758285558993733358460080595467957974890693721820725947680042140275261099334428325856115166541774848]"
      ]
     },
     "execution_count": 10,
     "metadata": {},
     "output_type": "execute_result"
    }
   ],
   "source": [
    "n = 8\n",
    "[int(math.pow(i, 2 ** n) + math.pow(i, -2 ** n)) for i in alpha_v]"
   ]
  },
  {
   "cell_type": "code",
   "execution_count": null,
   "metadata": {},
   "outputs": [],
   "source": []
  }
 ],
 "metadata": {
  "kernelspec": {
   "display_name": "Python 3",
   "language": "python",
   "name": "python3"
  },
  "language_info": {
   "codemirror_mode": {
    "name": "ipython",
    "version": 3
   },
   "file_extension": ".py",
   "mimetype": "text/x-python",
   "name": "python",
   "nbconvert_exporter": "python",
   "pygments_lexer": "ipython3",
   "version": "3.12.9"
  }
 },
 "nbformat": 4,
 "nbformat_minor": 2
}
