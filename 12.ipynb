{
 "cells": [
  {
   "cell_type": "code",
   "execution_count": 2,
   "metadata": {},
   "outputs": [],
   "source": [
    "import math\n",
    "import numpy as np"
   ]
  },
  {
   "cell_type": "code",
   "execution_count": 3,
   "metadata": {},
   "outputs": [
    {
     "data": {
      "text/plain": [
       "2"
      ]
     },
     "execution_count": 3,
     "metadata": {},
     "output_type": "execute_result"
    }
   ],
   "source": [
    "def number_of_divisors(n: int) -> int:\n",
    "    t = 0\n",
    "    for i in range(1, math.isqrt(n) + 1):\n",
    "        if n % i == 0:\n",
    "            if i * i != n: t += 2\n",
    "        else: t += 1\n",
    "    return t\n",
    "\n",
    "number_of_divisors(3)"
   ]
  },
  {
   "cell_type": "code",
   "execution_count": 5,
   "metadata": {},
   "outputs": [
    {
     "data": {
      "text/plain": [
       "6"
      ]
     },
     "execution_count": 5,
     "metadata": {},
     "output_type": "execute_result"
    }
   ],
   "source": [
    "def number_of_divisors_tri(n: int) -> int:\n",
    "    d: dict[int, int] = {}\n",
    "    t = n\n",
    "    while t % 2 == 0:\n",
    "        if d.get(2) == None: d[2] = 1\n",
    "        else: d[2] += 1\n",
    "        t //= 2\n",
    "    \n",
    "    while t % 3 == 0:\n",
    "        if d.get(3) == None: d[3] = 1\n",
    "        else: d[3] += 1\n",
    "        t //= 3\n",
    "        \n",
    "    i = 5\n",
    "    while t > 1:\n",
    "        while t % i == 0:\n",
    "            if d.get(i) == None: d[i] = 1\n",
    "            else: d[i] += 1\n",
    "            t //= i\n",
    "        while t % (i + 2) == 0:\n",
    "            if d.get(i + 2) == None: d[i + 2] = 1\n",
    "            else: d[i + 2] += 1\n",
    "            t //= i\n",
    "        i += 6\n",
    "        \n",
    "    t = n + 1\n",
    "    while t % 2 == 0:\n",
    "        if d.get(2) == None: d[2] = 1\n",
    "        else: d[2] += 1\n",
    "        t //= 2\n",
    "    \n",
    "    while t % 3 == 0:\n",
    "        if d.get(3) == None: d[3] = 1\n",
    "        else: d[3] += 1\n",
    "        t //= 3\n",
    "        \n",
    "    i = 5\n",
    "    while t > 1:\n",
    "        while t % i == 0:\n",
    "            if d.get(i) == None: d[i] = 1\n",
    "            else: d[i] += 1\n",
    "            t //= i\n",
    "        while t % (i + 2) == 0:\n",
    "            if d.get(i + 2) == None: d[i + 2] = 1\n",
    "            else: d[i + 2] += 1\n",
    "            t //= i\n",
    "        i += 6\n",
    "        \n",
    "    d[2] -= 1\n",
    "    z = 1\n",
    "    for i in d:\n",
    "        z *= d[i] + 1\n",
    "    return z\n",
    "\n",
    "number_of_divisors_tri(7)\n",
    "            "
   ]
  },
  {
   "cell_type": "code",
   "execution_count": null,
   "metadata": {},
   "outputs": [],
   "source": [
    "n = 6\n",
    "\n",
    "while True:\n",
    "    if number_of_divisors_tri(n) <= 500:\n",
    "        n += 1"
   ]
  },
  {
   "cell_type": "code",
   "execution_count": null,
   "metadata": {},
   "outputs": [],
   "source": []
  }
 ],
 "metadata": {
  "kernelspec": {
   "display_name": "Python 3",
   "language": "python",
   "name": "python3"
  },
  "language_info": {
   "codemirror_mode": {
    "name": "ipython",
    "version": 3
   },
   "file_extension": ".py",
   "mimetype": "text/x-python",
   "name": "python",
   "nbconvert_exporter": "python",
   "pygments_lexer": "ipython3",
   "version": "3.13.3"
  }
 },
 "nbformat": 4,
 "nbformat_minor": 2
}
