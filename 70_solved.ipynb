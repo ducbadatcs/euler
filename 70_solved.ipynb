{
 "cells": [
  {
   "cell_type": "code",
   "execution_count": 1,
   "metadata": {},
   "outputs": [],
   "source": [
    "import math"
   ]
  },
  {
   "cell_type": "markdown",
   "metadata": {},
   "source": [
    "Use the algorithm in [cp-algo](https://cp-algorithms.com/algebra/phi-function.html#etf_1_to_n) to mass calculate phi function to check for permutations, then check for mins"
   ]
  },
  {
   "cell_type": "code",
   "execution_count": 2,
   "metadata": {},
   "outputs": [],
   "source": [
    "n = 10 ** 7\n",
    "phi = [i for i in range(n + 1)]\n",
    "for i in range(2, n + 1):\n",
    "    if phi[i] == i:\n",
    "        for j in range(i, n + 1, i):\n",
    "            phi[j] -= phi[j] // i"
   ]
  },
  {
   "cell_type": "code",
   "execution_count": 4,
   "metadata": {},
   "outputs": [
    {
     "data": {
      "text/plain": [
       "True"
      ]
     },
     "execution_count": 4,
     "metadata": {},
     "output_type": "execute_result"
    }
   ],
   "source": [
    "# permutation check\n",
    "def is_permutation(a: int, b: int) -> bool:\n",
    "    return sorted(str(a)) == sorted(str(b))\n",
    "\n",
    "is_permutation(87109, phi[87109])"
   ]
  },
  {
   "cell_type": "code",
   "execution_count": 6,
   "metadata": {},
   "outputs": [
    {
     "data": {
      "text/plain": [
       "8319823"
      ]
     },
     "execution_count": 6,
     "metadata": {},
     "output_type": "execute_result"
    }
   ],
   "source": [
    "f = float(\"inf\")\n",
    "idx = 0\n",
    "for i in range(2, len(phi)):\n",
    "    if is_permutation(i, phi[i]) and i / phi[i] < f:\n",
    "        f = i / phi[i]\n",
    "        idx = i\n",
    "idx"
   ]
  },
  {
   "cell_type": "code",
   "execution_count": null,
   "metadata": {},
   "outputs": [],
   "source": []
  }
 ],
 "metadata": {
  "kernelspec": {
   "display_name": "Python 3",
   "language": "python",
   "name": "python3"
  },
  "language_info": {
   "codemirror_mode": {
    "name": "ipython",
    "version": 3
   },
   "file_extension": ".py",
   "mimetype": "text/x-python",
   "name": "python",
   "nbconvert_exporter": "python",
   "pygments_lexer": "ipython3",
   "version": "3.13.1"
  }
 },
 "nbformat": 4,
 "nbformat_minor": 2
}
