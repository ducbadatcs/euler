{
 "cells": [
  {
   "cell_type": "code",
   "execution_count": 1,
   "metadata": {},
   "outputs": [],
   "source": [
    "import math"
   ]
  },
  {
   "cell_type": "markdown",
   "metadata": {},
   "source": [
    "Algorithm: We can approximate $\\displaystyle{\\frac{3}{7}}$ by the fraction $\\displaystyle{\\frac{ \\left\\lfloor \\frac{3n}{7} \\right\\rfloor}{n}}$ with $7 \\ \\not| \\ n$, otherwise it's just going to reduce to $\\displaystyle{\\frac{3}{7}}$ again. So we run from $1$ to $1000000$, noting the numbers that are not divisible by $7$ and try to approximate that"
   ]
  },
  {
   "cell_type": "code",
   "execution_count": 12,
   "metadata": {},
   "outputs": [
    {
     "name": "stdout",
     "output_type": "stream",
     "text": [
      "1.4285757138354782e-07\n"
     ]
    },
    {
     "data": {
      "text/plain": [
       "428570"
      ]
     },
     "execution_count": 12,
     "metadata": {},
     "output_type": "execute_result"
    }
   ],
   "source": [
    "f = float(\"inf\")\n",
    "idx = 0\n",
    "for i in range(1, 10 ** 6):\n",
    "    if i % 7 != 0:\n",
    "        t = (i * 3 // 7) # turns out it's best to multiply before divide\n",
    "        if abs(3 / 7 - t / i) < f:\n",
    "            f = abs(3 / 7 - t / i)\n",
    "            idx = t # numerator\n",
    "print(f)\n",
    "idx "
   ]
  },
  {
   "cell_type": "code",
   "execution_count": null,
   "metadata": {},
   "outputs": [],
   "source": []
  }
 ],
 "metadata": {
  "kernelspec": {
   "display_name": "Python 3",
   "language": "python",
   "name": "python3"
  },
  "language_info": {
   "codemirror_mode": {
    "name": "ipython",
    "version": 3
   },
   "file_extension": ".py",
   "mimetype": "text/x-python",
   "name": "python",
   "nbconvert_exporter": "python",
   "pygments_lexer": "ipython3",
   "version": "3.13.1"
  }
 },
 "nbformat": 4,
 "nbformat_minor": 2
}
