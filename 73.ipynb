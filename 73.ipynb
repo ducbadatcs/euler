{
 "cells": [
  {
   "cell_type": "code",
   "execution_count": 1,
   "id": "9e720c37",
   "metadata": {},
   "outputs": [],
   "source": [
    "import math"
   ]
  },
  {
   "cell_type": "code",
   "execution_count": null,
   "id": "dc1879ba",
   "metadata": {},
   "outputs": [],
   "source": [
    "class Fraction:\n",
    "\tdef __init__(self, a: int, b: int) -> None:\n",
    "\t\tself.a = a\n",
    "\t\tself.b = b\n",
    "  \n",
    "\tdef reduced(self) -> \"Fraction\":\n",
    "\t\tk = math.gcd(self.a, self.b)\n",
    "\t\treturn Fraction(self.a // k, self.b // k)\n",
    "\t\n",
    "\tdef __eq__(self, other: \"Fraction\") -> bool:\n",
    "\t\tf = self.reduced()\n",
    "\t\tg = other.reduced()\n",
    "\t\t\n",
    "\t\tpass"
   ]
  }
 ],
 "metadata": {
  "kernelspec": {
   "display_name": "Python 3",
   "language": "python",
   "name": "python3"
  },
  "language_info": {
   "codemirror_mode": {
    "name": "ipython",
    "version": 3
   },
   "file_extension": ".py",
   "mimetype": "text/x-python",
   "name": "python",
   "nbconvert_exporter": "python",
   "pygments_lexer": "ipython3",
   "version": "3.13.3"
  }
 },
 "nbformat": 4,
 "nbformat_minor": 5
}
