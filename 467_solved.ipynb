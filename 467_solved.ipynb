{
 "cells": [
  {
   "cell_type": "code",
   "execution_count": 1,
   "metadata": {},
   "outputs": [],
   "source": [
    "import math\n",
    "import numpy as np"
   ]
  },
  {
   "cell_type": "markdown",
   "metadata": {},
   "source": [
    "Algorithm: SCS from https://www.youtube.com/watch?v=JkjQNJSxXN0"
   ]
  },
  {
   "cell_type": "code",
   "execution_count": 14,
   "metadata": {},
   "outputs": [],
   "source": [
    "def digital_root(n: int) -> int:\n",
    "    if n == 0: return 0\n",
    "    return 9 if n % 9 == 0 else n % 9"
   ]
  },
  {
   "cell_type": "code",
   "execution_count": 9,
   "metadata": {},
   "outputs": [
    {
     "data": {
      "text/plain": [
       "True"
      ]
     },
     "execution_count": 9,
     "metadata": {},
     "output_type": "execute_result"
    }
   ],
   "source": [
    "def small_miller_rabin(n: int) -> bool:\n",
    "    primes = [2, 3, 5, 7, 11, 13, 17, 19, 23, 29]\n",
    "    \n",
    "    d = n - 1\n",
    "    s = 0\n",
    "    while d % 2 == 0:\n",
    "        s += 1\n",
    "        d //= 2\n",
    "    for p in primes:\n",
    "        if n == p: return True\n",
    "        elif n > p and n % p == 0: return False\n",
    "        else:\n",
    "            x = pow(p, d, n)\n",
    "            y = 0\n",
    "            for _ in range(s):\n",
    "                y = pow(x, 2, n)\n",
    "                if y == 1 and x != 1 and x != n - 1: return False\n",
    "                x = y\n",
    "            if y != 1: return False\n",
    "    return True\n",
    "\n",
    "small_miller_rabin(10 ** 1 + 7)\n",
    "                \n",
    "            \n",
    "    \n",
    "    "
   ]
  },
  {
   "cell_type": "code",
   "execution_count": 20,
   "metadata": {},
   "outputs": [
    {
     "data": {
      "text/plain": [
       "False"
      ]
     },
     "execution_count": 20,
     "metadata": {},
     "output_type": "execute_result"
    }
   ],
   "source": [
    "\"e\" < \"ab\""
   ]
  },
  {
   "cell_type": "code",
   "execution_count": 21,
   "metadata": {},
   "outputs": [
    {
     "data": {
      "text/plain": [
       "'abe'"
      ]
     },
     "execution_count": 21,
     "metadata": {},
     "output_type": "execute_result"
    }
   ],
   "source": [
    "from functools import cache\n",
    "\n",
    "def scs(s: str, x: str) -> str:\n",
    "    n, m = len(s), len(x)\n",
    "    p: list[str] = [x[j:] for j in range(m)] + [\"\"]\n",
    "    c: list[str] = []\n",
    "    for i in reversed(range(n)):\n",
    "        c = [\"\" for i in range(m)]\n",
    "        c.append(s[i:])\n",
    "        for j in reversed(range(m)):\n",
    "            if s[i] == x[j]:\n",
    "                c[j] = s[i] + p[j + 1]\n",
    "            else:\n",
    "                r1 = s[i] + p[j]\n",
    "                r2 = x[j] + c[j + 1]\n",
    "                if len(r1) < len(r2) or (len(r1) == len(r2) and r1 < r2):\n",
    "                    c[j] = r1\n",
    "                else:\n",
    "                    c[j] = r2\n",
    "        p = c\n",
    "    return c[0]\n",
    "\n",
    "scs(\"ab\", \"e\")"
   ]
  },
  {
   "cell_type": "code",
   "execution_count": 10,
   "metadata": {},
   "outputs": [],
   "source": [
    "p_d = []\n",
    "c_d = []\n",
    "\n",
    "t = 1\n",
    "while True:\n",
    "    t += 1\n",
    "    if small_miller_rabin(t) and len(p_d) < 10 ** 4: p_d.append(t)\n",
    "    elif len(c_d) < 10 ** 4: c_d.append(t)\n",
    "    if len(p_d) == 10 ** 4 and len(c_d) == 10 ** 4: break\n"
   ]
  },
  {
   "cell_type": "code",
   "execution_count": 15,
   "metadata": {},
   "outputs": [],
   "source": [
    "p_d = [digital_root(i) for i in p_d]\n",
    "c_d = [digital_root(i) for i in c_d]"
   ]
  },
  {
   "cell_type": "code",
   "execution_count": 17,
   "metadata": {},
   "outputs": [
    {
     "data": {
      "text/plain": [
       "[2, 3, 5, 7, 2, 4, 8, 1, 5, 2]"
      ]
     },
     "execution_count": 17,
     "metadata": {},
     "output_type": "execute_result"
    }
   ],
   "source": [
    "p_d[:10]"
   ]
  },
  {
   "cell_type": "code",
   "execution_count": 24,
   "metadata": {},
   "outputs": [
    {
     "data": {
      "text/plain": [
       "771661825"
      ]
     },
     "execution_count": 24,
     "metadata": {},
     "output_type": "execute_result"
    }
   ],
   "source": [
    "def f(n: int) -> int:\n",
    "    p_d = []\n",
    "    c_d = []\n",
    "    t = 1\n",
    "    while True:\n",
    "        t += 1\n",
    "        if small_miller_rabin(t) and len(p_d) < n: p_d.append(t)\n",
    "        elif len(c_d) < n: c_d.append(t)\n",
    "        if len(p_d) == n and len(c_d) == n: break\n",
    "        \n",
    "    p_d = [digital_root(i) for i in p_d]\n",
    "    c_d = [digital_root(i) for i in c_d]\n",
    "    \n",
    "    s = \"\".join(str(i) for i in p_d)\n",
    "    x = \"\".join(str(i) for i in c_d)\n",
    "    return int(scs(s, x))\n",
    "\n",
    "f(100) % (10 ** 9 + 7)"
   ]
  },
  {
   "cell_type": "code",
   "execution_count": 25,
   "metadata": {},
   "outputs": [
    {
     "data": {
      "text/plain": [
       "771661825"
      ]
     },
     "execution_count": 25,
     "metadata": {},
     "output_type": "execute_result"
    }
   ],
   "source": [
    "def f_mod(n: int, m: int) -> int:\n",
    "    p_d = []\n",
    "    c_d = []\n",
    "    t = 1\n",
    "    while True:\n",
    "        t += 1\n",
    "        if small_miller_rabin(t) and len(p_d) < n: p_d.append(t)\n",
    "        elif len(c_d) < n: c_d.append(t)\n",
    "        if len(p_d) == n and len(c_d) == n: break\n",
    "        \n",
    "    p_d = [digital_root(i) for i in p_d]\n",
    "    c_d = [digital_root(i) for i in c_d]\n",
    "    \n",
    "    s = \"\".join(str(i) for i in p_d)\n",
    "    x = \"\".join(str(i) for i in c_d)\n",
    "    \n",
    "    r = scs(s, x)\n",
    "    t = 0\n",
    "    \n",
    "    for c in r:\n",
    "        t = (t * 10 + int(c)) % m\n",
    "    return t % m\n",
    "\n",
    "f_mod(100, 10 ** 9 + 7)\n",
    "    "
   ]
  },
  {
   "cell_type": "code",
   "execution_count": 26,
   "metadata": {},
   "outputs": [
    {
     "data": {
      "text/plain": [
       "775181359"
      ]
     },
     "execution_count": 26,
     "metadata": {},
     "output_type": "execute_result"
    }
   ],
   "source": [
    "f_mod(10 ** 4, 10 ** 9 + 7)"
   ]
  },
  {
   "cell_type": "code",
   "execution_count": null,
   "metadata": {},
   "outputs": [],
   "source": []
  }
 ],
 "metadata": {
  "kernelspec": {
   "display_name": "Python 3",
   "language": "python",
   "name": "python3"
  },
  "language_info": {
   "codemirror_mode": {
    "name": "ipython",
    "version": 3
   },
   "file_extension": ".py",
   "mimetype": "text/x-python",
   "name": "python",
   "nbconvert_exporter": "python",
   "pygments_lexer": "ipython3",
   "version": "3.13.3"
  }
 },
 "nbformat": 4,
 "nbformat_minor": 2
}
