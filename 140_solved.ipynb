{
 "cells": [
  {
   "cell_type": "code",
   "execution_count": 1,
   "metadata": {},
   "outputs": [],
   "source": [
    "import math"
   ]
  },
  {
   "cell_type": "markdown",
   "metadata": {},
   "source": []
  },
  {
   "cell_type": "markdown",
   "metadata": {},
   "source": [
    "$Algorithm: use something like Problem 137.  Moreover, since the series is different, we have to use a different way. Luckily, [Codeforces already has the formula for us](https://codeforces.com/blog/entry/77468):\n",
    "\n",
    "$$\n",
    "F(x) - f_0x^0 - f_1x^1 = x(F(x) - f_0x^0) + x^2F(x)\n",
    "$$\n",
    "\n",
    "We abbreviate $F(x) = F$, and simplify the formula:\n",
    "\n",
    "$$\n",
    "F - (f_0 + f_1x) = x(F - f_0) + x^2F\n",
    "$$\n",
    "\n",
    "Now we can expand to solve for $F$ as a variable of the constant $x$ (After all, because it's $F(x)$, so $F$ depends on $x$, not $x(F)$)\n",
    "\n",
    "$$\n",
    "\\begin{gather}\n",
    "F - (f_0 + f_1x) = x(F - f_0) + x^2F \\\\\\\\\n",
    "\\Rightarrow F - (f_0 + f_1x) = xF - xf_0 + x^2F \\\\\\\\\n",
    "\\Rightarrow F - xF - x^2F = f_0 + (f_1 - f_0)x \\\\\\\\\n",
    "\\Rightarrow F(1 - x - x^2) = f_0 + (f_1 - f_0)x \\\\\\\\\n",
    "\\Rightarrow F = \\frac{f_0 + (f_1 - f_0)x}{1 - x - x^2}\n",
    "\\end{gather}\n",
    "$$\n",
    "\n",
    "With that we only need to solve for $G_0$, since $G_1 = 1$. We use the formula:\n",
    "\n",
    "$$G_2 = G_1 + G_0 \\Rightarrow G_0 = G_2 - G_1 = 4 - 1 = 3$$\n",
    "\n",
    "And so we obtain $$F = \\frac{3-2x}{1-x-x^2}$$\n",
    "\n",
    "But we're not done yet, in fact we note:\n",
    "\n",
    "$$\n",
    "\\begin{matrix}\n",
    "F(x) = \\sum_{i=0}^\\infty G_ix^i & A_G(x) = \\sum_{i=1}^\\infty G_ix^i\n",
    "\\end{matrix}\n",
    "$$\n",
    "\n",
    "And so \n",
    "$$\n",
    "\\displaystyle{A_G(x) = F(x) - G_0x^0 = F(x) - 3 = \\frac{-3x^2 - x}{x^2 + x - 1}}\n",
    "$$\n",
    "But since the problem only concerns values of rational $x$ such that $A_G(x)$ is an integer, we might as well consider the value of $F$ being an integer, and subtract $3$ later. (trust me, without this, computation is impossible)"
   ]
  },
  {
   "cell_type": "markdown",
   "metadata": {},
   "source": [
    "Now we need to actually see where $A_G$ is an integer. We can assume $A_G = n \\in \\mathbb{N}$, and\n",
    "\n",
    "$$\n",
    "\\begin{gather}\n",
    "\\frac{-3x^2 - x}{x^2 + x - 1} = n \\\\\n",
    "-3x^2 - x = nx^2 + nx - n \\\\\n",
    "(n + 3)x^2 + (n + 1)x - n = 0\n",
    "\\end{gather}\n",
    "$$\n",
    "\n",
    "We have \n",
    "\n",
    "$$\n",
    "\\Delta = (n + 1)^2 + 4(n + 3)n = 5n^2 + 14n + 1\n",
    "$$\n",
    "\n",
    "and that means $\\Delta$ is always positive, and again, it's bounded"
   ]
  },
  {
   "cell_type": "markdown",
   "metadata": {},
   "source": [
    "But also same as problem 137 since the delta is bounded between $2n$ and $3n$, so we let $\\Delta = 2n + k$ again..."
   ]
  },
  {
   "cell_type": "code",
   "execution_count": 2,
   "metadata": {},
   "outputs": [
    {
     "name": "stdout",
     "output_type": "stream",
     "text": [
      "n = 2 , sqrt(5n^2 + 14n + 1) 7 , k = 3\n",
      "n = 5 , sqrt(5n^2 + 14n + 1) 14 , k = 4\n",
      "n = 21 , sqrt(5n^2 + 14n + 1) 50 , k = 8\n",
      "n = 42 , sqrt(5n^2 + 14n + 1) 97 , k = 13\n",
      "n = 152 , sqrt(5n^2 + 14n + 1) 343 , k = 39\n",
      "n = 296 , sqrt(5n^2 + 14n + 1) 665 , k = 73\n",
      "n = 1050 , sqrt(5n^2 + 14n + 1) 2351 , k = 251\n",
      "n = 2037 , sqrt(5n^2 + 14n + 1) 4558 , k = 484\n",
      "n = 7205 , sqrt(5n^2 + 14n + 1) 16114 , k = 1704\n",
      "n = 13970 , sqrt(5n^2 + 14n + 1) 31241 , k = 3301\n",
      "n = 49392 , sqrt(5n^2 + 14n + 1) 110447 , k = 11663\n",
      "n = 95760 , sqrt(5n^2 + 14n + 1) 214129 , k = 22609\n",
      "n = 338546 , sqrt(5n^2 + 14n + 1) 757015 , k = 79923\n",
      "n = 656357 , sqrt(5n^2 + 14n + 1) 1467662 , k = 154948\n",
      "n = 2320437 , sqrt(5n^2 + 14n + 1) 5188658 , k = 547784\n",
      "n = 4498746 , sqrt(5n^2 + 14n + 1) 10059505 , k = 1062013\n",
      "n = 15904520 , sqrt(5n^2 + 14n + 1) 35563591 , k = 3754551\n",
      "n = 30834872 , sqrt(5n^2 + 14n + 1) 68948873 , k = 7279129\n",
      "n = 109011210 , sqrt(5n^2 + 14n + 1) 243756479 , k = 25734059\n",
      "n = 211345365 , sqrt(5n^2 + 14n + 1) 472582606 , k = 49891876\n",
      "[3, 4, 8, 13, 39, 73, 251, 484, 1704, 3301, 11663, 22609, 79923, 154948, 547784, 1062013, 3754551, 7279129, 25734059, 49891876]\n"
     ]
    }
   ],
   "source": [
    "def is_square(n: int) -> int:\n",
    "    a = math.isqrt(n)\n",
    "    return a if a * a == n else -1\n",
    "\n",
    "k_list = []\n",
    "t = 20\n",
    "i = 1\n",
    "while t > 0:\n",
    "    i += 1\n",
    "    v = (5 * i * i + 14 * i + 1)\n",
    "    if is_square(v) > 0:\n",
    "        t -= 1\n",
    "        k = is_square(v) - 2*i\n",
    "        print(\"n =\", i, \", sqrt(5n^2 + 14n + 1)\", is_square(v), \", k =\", k)\n",
    "        k_list.append(k)\n",
    "print(k_list)"
   ]
  },
  {
   "cell_type": "markdown",
   "metadata": {},
   "source": [
    "so apparently ChatGPT analyzed the difference and found that the difference is either a fibonacci number or twice a fibo number"
   ]
  },
  {
   "cell_type": "code",
   "execution_count": 5,
   "metadata": {},
   "outputs": [
    {
     "data": {
      "text/plain": [
       "[1,\n",
       " 4,\n",
       " 5,\n",
       " 26,\n",
       " 34,\n",
       " 178,\n",
       " 233,\n",
       " 1220,\n",
       " 1597,\n",
       " 8362,\n",
       " 10946,\n",
       " 57314,\n",
       " 75025,\n",
       " 392836,\n",
       " 514229,\n",
       " 2692538,\n",
       " 3524578,\n",
       " 18454930,\n",
       " 24157817]"
      ]
     },
     "execution_count": 5,
     "metadata": {},
     "output_type": "execute_result"
    }
   ],
   "source": [
    "def partial_sub(l: list[int]) -> list[int]:\n",
    "    d = []\n",
    "    for i in range(len(l) - 1):\n",
    "        d.append(l[i + 1] - l[i])\n",
    "    return d\n",
    "\n",
    "d = partial_sub(k_list)\n",
    "d"
   ]
  },
  {
   "cell_type": "code",
   "execution_count": 6,
   "metadata": {},
   "outputs": [
    {
     "name": "stdout",
     "output_type": "stream",
     "text": [
      "[1, 2, 5, 13, 34, 89, 233, 610, 1597, 4181, 10946, 28657, 75025, 196418, 514229, 1346269, 3524578, 9227465, 24157817]\n"
     ]
    }
   ],
   "source": [
    "b = d.copy()\n",
    "# now if we do the thing\n",
    "for i in range(len(d)):\n",
    "    if i % 2 == 1:\n",
    "        d[i] //= 2\n",
    "# and\n",
    "print(d)"
   ]
  },
  {
   "cell_type": "code",
   "execution_count": 13,
   "metadata": {},
   "outputs": [
    {
     "name": "stdout",
     "output_type": "stream",
     "text": [
      "[1, 2, 5, 13, 34, 89, 233, 610, 1597, 4181, 10946, 28657, 75025, 196418, 514229, 1346269, 3524578, 9227465, 24157817, 63245986, 165580141, 433494437, 1134903170, 2971215073, 7778742049, 20365011074, 53316291173, 139583862445, 365435296162, 956722026041, 2504730781961, 6557470319842, 17167680177565, 44945570212853, 117669030460994, 308061521170129, 806515533049393, 2111485077978050, 5527939700884757, 14472334024676221, 37889062373143906, 99194853094755497, 259695496911122585, 679891637638612258, 1779979416004714189, 4660046610375530309, 12200160415121876738, 31940434634990099905, 83621143489848422977, 218922995834555169026]\n"
     ]
    }
   ],
   "source": [
    "def fib_array(n: int) -> int:\n",
    "    l = [1, 1]\n",
    "    for _ in range(n - 2):\n",
    "        l.append(l[-1] + l[-2])\n",
    "    return l\n",
    "\n",
    "print(fib_array(100)[::2])"
   ]
  },
  {
   "cell_type": "markdown",
   "metadata": {},
   "source": [
    "BINGO!!!!!"
   ]
  },
  {
   "cell_type": "code",
   "execution_count": 19,
   "metadata": {},
   "outputs": [
    {
     "data": {
      "text/plain": [
       "[1,\n",
       " 4,\n",
       " 5,\n",
       " 26,\n",
       " 34,\n",
       " 178,\n",
       " 233,\n",
       " 1220,\n",
       " 1597,\n",
       " 8362,\n",
       " 10946,\n",
       " 57314,\n",
       " 75025,\n",
       " 392836,\n",
       " 514229,\n",
       " 2692538,\n",
       " 3524578,\n",
       " 18454930,\n",
       " 24157817,\n",
       " 126491972]"
      ]
     },
     "execution_count": 19,
     "metadata": {},
     "output_type": "execute_result"
    }
   ],
   "source": [
    "def construct_d(n: int) -> list[int]:\n",
    "    l = fib_array(n * 2)[::2]\n",
    "    for i in range(len(l)):\n",
    "        if i % 2 == 1:\n",
    "            l[i] *= 2\n",
    "    return l\n",
    "\n",
    "construct_d(20)"
   ]
  },
  {
   "cell_type": "markdown",
   "metadata": {},
   "source": [
    "So now we can construct the distance array $d$, we can construct $k$ from the beginning"
   ]
  },
  {
   "cell_type": "code",
   "execution_count": 21,
   "metadata": {},
   "outputs": [
    {
     "name": "stdout",
     "output_type": "stream",
     "text": [
      "[3, 4, 8, 13, 39, 73, 251, 484, 1704, 3301, 11663, 22609, 79923, 154948, 547784, 1062013, 3754551, 7279129, 25734059, 49891876]\n"
     ]
    }
   ],
   "source": [
    "def construct_k(n: int) -> list[int]:\n",
    "    d = construct_d(n - 1)\n",
    "    l = [3]\n",
    "    for i in d:\n",
    "        l.append(l[-1] + i)\n",
    "    return l\n",
    "\n",
    "construct_k(20) == k_list\n",
    "print(construct_k(20))"
   ]
  },
  {
   "cell_type": "markdown",
   "metadata": {},
   "source": [
    "we can now construct the k array "
   ]
  },
  {
   "cell_type": "code",
   "execution_count": 23,
   "metadata": {},
   "outputs": [
    {
     "name": "stdout",
     "output_type": "stream",
     "text": [
      "[3, 4, 8, 13, 39, 73, 251, 484, 1704, 3301, 11663, 22609, 79923, 154948, 547784, 1062013, 3754551, 7279129, 25734059, 49891876, 176383848, 341963989, 1208952863, 2343856033, 8286286179, 16065028228, 56795050376, 110111341549, 389279066439, 754714362601]\n"
     ]
    }
   ],
   "source": [
    "k_30 = construct_k(30)\n",
    "print(k_30)"
   ]
  },
  {
   "cell_type": "markdown",
   "metadata": {},
   "source": [
    "and solve for n:\n",
    "\n",
    "$$\n",
    "\\begin{gather}\n",
    "5n^2 + 14n + 1 = (2n + k)^2 = 4n^2 + 4nk + k^2 \\\\\n",
    "\\Rightarrow n^2 + (14 - 4k)n + (1 - k^2) = 0\\\\\n",
    "\\end{gather}\n",
    "$$\n",
    "\n",
    "and then we solve it like any quadratic eq, taking solution"
   ]
  },
  {
   "cell_type": "code",
   "execution_count": 29,
   "metadata": {},
   "outputs": [
    {
     "name": "stdout",
     "output_type": "stream",
     "text": [
      "2\n",
      "5\n",
      "21\n",
      "42\n",
      "152\n",
      "296\n",
      "1050\n",
      "2037\n",
      "7205\n",
      "13970\n",
      "49392\n",
      "95760\n",
      "338546\n",
      "656357\n",
      "2320437\n",
      "4498746\n",
      "15904520\n",
      "30834872\n",
      "109011210\n",
      "211345365\n"
     ]
    }
   ],
   "source": [
    "def delta(k: int) -> int:\n",
    "    return  (14 - 4 * k) ** 2 - 4 * 1 * (1 - k*k)\n",
    "    \n",
    "k_50 = construct_k(50)\n",
    "def nugget(n: int):\n",
    "    k = k_50[n]\n",
    "    return (4*k - 14 + is_square(delta(k))) // 2\n",
    "\n",
    "for i in range(20):\n",
    "    print(nugget(i))"
   ]
  },
  {
   "cell_type": "code",
   "execution_count": 30,
   "metadata": {},
   "outputs": [
    {
     "data": {
      "text/plain": [
       "5673835352990"
      ]
     },
     "execution_count": 30,
     "metadata": {},
     "output_type": "execute_result"
    }
   ],
   "source": [
    "# DONE!!!!!\n",
    "t = 0\n",
    "for i in range(30):\n",
    "    t += nugget(i)\n",
    "t"
   ]
  },
  {
   "cell_type": "code",
   "execution_count": null,
   "metadata": {},
   "outputs": [],
   "source": []
  }
 ],
 "metadata": {
  "kernelspec": {
   "display_name": "Python 3",
   "language": "python",
   "name": "python3"
  },
  "language_info": {
   "codemirror_mode": {
    "name": "ipython",
    "version": 3
   },
   "file_extension": ".py",
   "mimetype": "text/x-python",
   "name": "python",
   "nbconvert_exporter": "python",
   "pygments_lexer": "ipython3",
   "version": "3.13.1"
  }
 },
 "nbformat": 4,
 "nbformat_minor": 2
}
