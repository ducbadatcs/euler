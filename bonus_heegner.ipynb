version https://git-lfs.github.com/spec/v1
oid sha256:31d50701a7ed2a8ef0299692824d0d1c50c3b0a71f318b639f1390ab2fc10044
size 5757
