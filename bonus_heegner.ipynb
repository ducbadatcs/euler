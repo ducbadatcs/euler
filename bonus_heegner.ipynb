{
 "cells": [
  {
   "cell_type": "code",
   "execution_count": 6,
   "id": "6d29ee87",
   "metadata": {},
   "outputs": [],
   "source": [
    "import math\n",
    "import numpy as np"
   ]
  },
  {
   "cell_type": "code",
   "execution_count": 14,
   "id": "a47a316e",
   "metadata": {},
   "outputs": [
    {
     "data": {
      "text/plain": [
       "31"
      ]
     },
     "execution_count": 14,
     "metadata": {},
     "output_type": "execute_result"
    }
   ],
   "source": [
    "math.isqrt(996)"
   ]
  },
  {
   "cell_type": "code",
   "execution_count": 17,
   "id": "cd6de88a",
   "metadata": {},
   "outputs": [
    {
     "name": "stdout",
     "output_type": "stream",
     "text": [
      "New min: 0.26625534204141565 at i = 2\n",
      "New min: 0.26263112192168037 at i = 5\n",
      "New min: 0.15801754785294933 at i = 6\n",
      "New min: 0.14178381433118248 at i = 8\n",
      "New min: 0.12716290328750046 at i = 10\n",
      "New min: 0.1125391852408872 at i = 12\n",
      "New min: 0.07856348553182979 at i = 15\n",
      "New min: 0.0738593580870971 at i = 17\n",
      "New min: 0.049939090858918234 at i = 24\n",
      "New min: 0.04799613548828319 at i = 26\n",
      "New min: 0.03455301261160726 at i = 35\n",
      "New min: 0.03361160477436642 at i = 37\n",
      "New min: 0.025330136429365435 at i = 48\n",
      "New min: 0.024820517786313112 at i = 50\n",
      "New min: 0.019365825585627494 at i = 63\n",
      "New min: 0.019066528957268125 at i = 65\n",
      "New min: 0.015286514684571206 at i = 80\n",
      "New min: 0.015099420004363151 at i = 82\n",
      "New min: 0.01237347709092873 at i = 99\n",
      "New min: 0.012250608389616668 at i = 101\n",
      "New min: 0.010220764626729828 at i = 120\n",
      "New min: 0.010136784803568388 at i = 122\n",
      "New min: 0.008584930766325827 at i = 143\n",
      "New min: 0.008525603688657402 at i = 145\n",
      "New min: 0.007312750960794534 at i = 168\n",
      "New min: 0.007269660048207061 at i = 170\n",
      "New min: 0.0063038647919878565 at i = 195\n",
      "New min: 0.0062718175274553145 at i = 197\n",
      "New min: 0.005490300935857673 at i = 224\n",
      "New min: 0.005465975847966265 at i = 226\n",
      "New min: 0.00482469359409976 at i = 255\n",
      "New min: 0.004805898917506268 at i = 257\n",
      "New min: 0.004273214750271093 at i = 288\n",
      "New min: 0.004258464540769613 at i = 290\n",
      "New min: 0.003811181899987748 at i = 323\n",
      "New min: 0.0037994445465389104 at i = 325\n",
      "New min: 0.003420243115307975 at i = 360\n",
      "New min: 0.003410787234883861 at i = 362\n",
      "New min: 0.003086523644532768 at i = 399\n",
      "New min: 0.0030788209197747385 at i = 401\n",
      "New min: 0.0027993761349253132 at i = 440\n",
      "New min: 0.0027930384813021902 at i = 442\n",
      "New min: 0.0025505197856871 at i = 483\n",
      "New min: 0.0025452577864347736 at i = 485\n",
      "New min: 0.0023334359896342027 at i = 528\n",
      "New min: 0.002329030832251222 at i = 530\n",
      "New min: 0.00214293668930321 at i = 575\n",
      "New min: 0.0021392208642674326 at i = 577\n",
      "New min: 0.001974851249058718 at i = 624\n",
      "New min: 0.0019716950497673524 at i = 626\n",
      "New min: 0.0018257960565887243 at i = 675\n",
      "New min: 0.0018230979906825873 at i = 677\n",
      "New min: 0.0016930027819904714 at i = 728\n",
      "New min: 0.0016906826641512884 at i = 730\n",
      "New min: 0.001574188825952505 at i = 783\n",
      "New min: 0.0015721827373210706 at i = 785\n",
      "New min: 0.0014674585138613194 at i = 840\n",
      "New min: 0.0014657150792933837 at i = 842\n",
      "New min: 0.0013712269699773794 at i = 899\n",
      "New min: 0.001369704577898756 at i = 901\n",
      "New min: 0.0012841609107493435 at i = 960\n",
      "New min: 0.0012828256154242546 at i = 962\n"
     ]
    },
    {
     "data": {
      "text/plain": [
       "962"
      ]
     },
     "execution_count": 17,
     "metadata": {},
     "output_type": "execute_result"
    }
   ],
   "source": [
    "def is_not_square(n: int) -> bool:\n",
    "    a = math.isqrt(n)\n",
    "    return a * a != n\n",
    "\n",
    "def dist(a: float) -> float:\n",
    "    return abs(a - round(a))\n",
    "\n",
    "v = float(\"inf\")\n",
    "n = 0\n",
    "\n",
    "for i in range(10 ** 3):\n",
    "    # z = dist(math.cos(math.pi * math.sqrt(i)))\n",
    "    # print(f\"Value at i = {i}: {z}\")\n",
    "    if is_not_square(i):\n",
    "        # print(f\"Value at i ={i}: {z}\")\n",
    "        z = dist(math.cos(math.pi * math.sqrt(i)))\n",
    "        if z < v:\n",
    "            print(f\"New min: {z} at i = {i}\")\n",
    "            v = z\n",
    "            n = i\n",
    "n"
   ]
  },
  {
   "cell_type": "code",
   "execution_count": 11,
   "id": "bdb58f8d",
   "metadata": {},
   "outputs": [
    {
     "data": {
      "text/plain": [
       "(-1+1.2246467991473532e-16j)"
      ]
     },
     "execution_count": 11,
     "metadata": {},
     "output_type": "execute_result"
    }
   ],
   "source": [
    "import cmath\n",
    "cmath.exp(complex(0, math.pi))"
   ]
  },
  {
   "cell_type": "code",
   "execution_count": null,
   "id": "66a37ee2",
   "metadata": {},
   "outputs": [],
   "source": []
  }
 ],
 "metadata": {
  "kernelspec": {
   "display_name": "Python 3",
   "language": "python",
   "name": "python3"
  },
  "language_info": {
   "codemirror_mode": {
    "name": "ipython",
    "version": 3
   },
   "file_extension": ".py",
   "mimetype": "text/x-python",
   "name": "python",
   "nbconvert_exporter": "python",
   "pygments_lexer": "ipython3",
   "version": "3.13.3"
  }
 },
 "nbformat": 4,
 "nbformat_minor": 5
}
