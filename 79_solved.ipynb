{
 "cells": [
  {
   "cell_type": "code",
   "execution_count": 1,
   "metadata": {},
   "outputs": [],
   "source": [
    "import math\n",
    "import numpy as np"
   ]
  },
  {
   "cell_type": "code",
   "execution_count": 2,
   "metadata": {},
   "outputs": [
    {
     "data": {
      "text/plain": [
       "['319',\n",
       " '680',\n",
       " '180',\n",
       " '690',\n",
       " '129',\n",
       " '620',\n",
       " '762',\n",
       " '689',\n",
       " '762',\n",
       " '318',\n",
       " '368',\n",
       " '710',\n",
       " '720',\n",
       " '710',\n",
       " '629',\n",
       " '168',\n",
       " '160',\n",
       " '689',\n",
       " '716',\n",
       " '731',\n",
       " '736',\n",
       " '729',\n",
       " '316',\n",
       " '729',\n",
       " '729',\n",
       " '710',\n",
       " '769',\n",
       " '290',\n",
       " '719',\n",
       " '680',\n",
       " '318',\n",
       " '389',\n",
       " '162',\n",
       " '289',\n",
       " '162',\n",
       " '718',\n",
       " '729',\n",
       " '319',\n",
       " '790',\n",
       " '680',\n",
       " '890',\n",
       " '362',\n",
       " '319',\n",
       " '760',\n",
       " '316',\n",
       " '729',\n",
       " '380',\n",
       " '319',\n",
       " '728',\n",
       " '716']"
      ]
     },
     "execution_count": 2,
     "metadata": {},
     "output_type": "execute_result"
    }
   ],
   "source": [
    "l = [line.strip(\"\\n\").strip() for line in open(\"./0079_keylog.txt\", \"r\")]\n",
    "l"
   ]
  },
  {
   "cell_type": "markdown",
   "metadata": {},
   "source": [
    "ALgorithm: For this problem we simply construct the [shortest supersequence](https://en.wikipedia.org/wiki/Shortest_common_supersequence) of the digits that are available in the list. \n",
    "\n",
    "All the strings are unique so we can throw everything into a set, and do a sort based on position"
   ]
  },
  {
   "cell_type": "code",
   "execution_count": 3,
   "metadata": {},
   "outputs": [],
   "source": [
    "def comp(a: str, b: str) -> int:\n",
    "    for line in l:\n",
    "        if a in line and b in line:\n",
    "            return line.index(a) - line.index(b)\n",
    "        \n"
   ]
  },
  {
   "cell_type": "code",
   "execution_count": 4,
   "metadata": {},
   "outputs": [
    {
     "name": "stdout",
     "output_type": "stream",
     "text": [
      "31968027\n"
     ]
    }
   ],
   "source": [
    "# make a set\n",
    "s = \"\"\n",
    "for line in l:\n",
    "    for i in line:\n",
    "        if i not in s:\n",
    "            s += i\n",
    "print(s)"
   ]
  },
  {
   "cell_type": "code",
   "execution_count": 5,
   "metadata": {},
   "outputs": [
    {
     "name": "stdout",
     "output_type": "stream",
     "text": [
      "73162890\n"
     ]
    }
   ],
   "source": [
    "from functools import cmp_to_key\n",
    "v = sorted(s, key = cmp_to_key(comp))\n",
    "s = \"\".join(v)\n",
    "print(s)"
   ]
  },
  {
   "cell_type": "code",
   "execution_count": 6,
   "metadata": {},
   "outputs": [
    {
     "data": {
      "text/plain": [
       "True"
      ]
     },
     "execution_count": 6,
     "metadata": {},
     "output_type": "execute_result"
    }
   ],
   "source": [
    "def is_subsequence(t: str, s: str) -> bool:\n",
    "    a = 0\n",
    "    n = len(t)\n",
    "    if n == 0: return True\n",
    "    for i in s:\n",
    "        if i == t[a]: \n",
    "            a += 1\n",
    "        if a == n:\n",
    "            return True\n",
    "    return False\n",
    "\n",
    "is_subsequence(\"198\", \"139870\")"
   ]
  },
  {
   "cell_type": "code",
   "execution_count": 7,
   "metadata": {},
   "outputs": [
    {
     "data": {
      "text/plain": [
       "True"
      ]
     },
     "execution_count": 7,
     "metadata": {},
     "output_type": "execute_result"
    }
   ],
   "source": [
    "all([is_subsequence(i, s) for i in l])"
   ]
  },
  {
   "cell_type": "code",
   "execution_count": null,
   "metadata": {},
   "outputs": [],
   "source": []
  }
 ],
 "metadata": {
  "kernelspec": {
   "display_name": "Python 3",
   "language": "python",
   "name": "python3"
  },
  "language_info": {
   "codemirror_mode": {
    "name": "ipython",
    "version": 3
   },
   "file_extension": ".py",
   "mimetype": "text/x-python",
   "name": "python",
   "nbconvert_exporter": "python",
   "pygments_lexer": "ipython3",
   "version": "3.12.8"
  }
 },
 "nbformat": 4,
 "nbformat_minor": 2
}
