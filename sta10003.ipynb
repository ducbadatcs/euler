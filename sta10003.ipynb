{
 "cells": [
  {
   "cell_type": "code",
   "execution_count": 1,
   "metadata": {},
   "outputs": [],
   "source": [
    "import math\n"
   ]
  },
  {
   "cell_type": "code",
   "execution_count": 4,
   "metadata": {},
   "outputs": [
    {
     "data": {
      "text/plain": [
       "2.0"
      ]
     },
     "execution_count": 4,
     "metadata": {},
     "output_type": "execute_result"
    }
   ],
   "source": [
    "def mean(dataset: list[float]) -> float:\n",
    "    return sum(dataset) / len(dataset)\n",
    "\n",
    "mean([1, 2, 3])"
   ]
  },
  {
   "cell_type": "code",
   "execution_count": 5,
   "metadata": {},
   "outputs": [
    {
     "data": {
      "text/plain": [
       "4.5"
      ]
     },
     "execution_count": 5,
     "metadata": {},
     "output_type": "execute_result"
    }
   ],
   "source": [
    "def median(dataset: list[float]) -> float:\n",
    "    z: list[float] = list(sorted(dataset))\n",
    "    if len(z) % 2 == 1:\n",
    "        return z[(len(z) - 1) // 2]\n",
    "    else:\n",
    "        return (z[len(z) // 2 - 1] + z[len(z) // 2]) / 2.0\n",
    "\n",
    "\n",
    "median([1, 2, 3, 4, 5, 6, 8, 9])"
   ]
  },
  {
   "cell_type": "code",
   "execution_count": 8,
   "metadata": {},
   "outputs": [],
   "source": [
    "def mode(dataset: list[float]) -> list[float]:\n",
    "    d: dict[float, int] = {}\n",
    "    for value in dataset:\n",
    "        if d.get(value) is None: d[value] = 1\n",
    "        else: d[value] += 1\n",
    "    \n",
    "    m = max(d.values())\n",
    "    result = []\n",
    "    for value in dataset:\n",
    "        if d[value] == m:\n",
    "            result.append(value)\n",
    "    return result"
   ]
  },
  {
   "cell_type": "code",
   "execution_count": 6,
   "metadata": {},
   "outputs": [
    {
     "data": {
      "text/plain": [
       "4.0"
      ]
     },
     "execution_count": 6,
     "metadata": {},
     "output_type": "execute_result"
    }
   ],
   "source": [
    "def variance(dataset: list[float]) -> float:\n",
    "    m: float = mean(dataset)\n",
    "    total_squared_deviation: list[float] = 0.0\n",
    "    \n",
    "    for point in dataset:\n",
    "        deviation = abs(point - m)\n",
    "        total_squared_deviation += deviation * deviation\n",
    "    return total_squared_deviation / len(dataset)\n",
    "\n",
    "variance([2, 4, 4, 4, 5, 5, 7, 9])\n",
    "    "
   ]
  },
  {
   "cell_type": "code",
   "execution_count": 7,
   "metadata": {},
   "outputs": [
    {
     "data": {
      "text/plain": [
       "2.0"
      ]
     },
     "execution_count": 7,
     "metadata": {},
     "output_type": "execute_result"
    }
   ],
   "source": [
    "def standard_deviation(dataset: list[float]) -> float:\n",
    "    return math.sqrt(variance(dataset))\n",
    "\n",
    "\n",
    "standard_deviation([2, 4, 4, 4, 5, 5, 7, 9])"
   ]
  },
  {
   "cell_type": "code",
   "execution_count": 13,
   "metadata": {},
   "outputs": [
    {
     "name": "stdout",
     "output_type": "stream",
     "text": [
      "[7, 9, 7, 8, 5, 7, 7]\n",
      "1.124858267715973\n"
     ]
    }
   ],
   "source": [
    "import secrets\n",
    "def sample_data(size: int, minimum: float = 0, maximum: float = 2 ** 64 - 1):\n",
    "    dataset = []\n",
    "    while len(dataset) < size:\n",
    "        a = secrets.randbelow(maximum)\n",
    "        if a >= minimum: dataset.append(a)\n",
    "    return dataset\n",
    "\n",
    "v = sample_data(7, 5, 10)\n",
    "print(v)\n",
    "print(standard_deviation(v))"
   ]
  },
  {
   "cell_type": "code",
   "execution_count": 16,
   "metadata": {},
   "outputs": [
    {
     "data": {
      "text/plain": [
       "(5, 9)"
      ]
     },
     "execution_count": 16,
     "metadata": {},
     "output_type": "execute_result"
    }
   ],
   "source": [
    "def range(dataset: list[float]) -> tuple[float, float]:\n",
    "    return (min(dataset), max(dataset))\n",
    "\n",
    "range(v)"
   ]
  },
  {
   "cell_type": "code",
   "execution_count": 15,
   "metadata": {},
   "outputs": [
    {
     "name": "stdout",
     "output_type": "stream",
     "text": [
      "16.15549442140351\n",
      "14.089002803605371\n",
      "5.545268253204709\n",
      "38.51298482330343\n"
     ]
    }
   ],
   "source": [
    "l = [[11, 17, 31, 53], [5, 11, 42, 22], [145, 143, 145, 157], [27, 105, 10, 80]]\n",
    "for i in l:\n",
    "    print(standard_deviation(i))"
   ]
  },
  {
   "cell_type": "code",
   "execution_count": 18,
   "metadata": {},
   "outputs": [
    {
     "name": "stdout",
     "output_type": "stream",
     "text": [
      "1.479019945774904\n",
      "2.5860201081971503\n",
      "1.5811388300841898\n",
      "1.8027756377319946\n"
     ]
    }
   ],
   "source": [
    "l = [[5, 7, 8, 9],\n",
    "\n",
    "[31, 33, 35, 38]\n",
    "\n",
    "[35, 36, 38, 39]\n",
    "\n",
    "[82, 84, 85, 87]]\n",
    "\n",
    "for i in l:\n",
    "    print(standard_deviation(i))"
   ]
  },
  {
   "cell_type": "code",
   "execution_count": 19,
   "metadata": {},
   "outputs": [
    {
     "name": "stdout",
     "output_type": "stream",
     "text": [
      "1.5811388300841898\n",
      "1.479019945774904\n",
      "2.5495097567963922\n",
      "1.8027756377319946\n"
     ]
    }
   ],
   "source": [
    "l = [\n",
    "\t[4, 5, 7, 8],\n",
    "\n",
    "[31, 33, 34, 35],\n",
    "\n",
    "[22, 26, 27, 29],\n",
    "\n",
    "[80, 82, 83, 85]\n",
    "]\n",
    "\n",
    "for i in l:\n",
    "    print(standard_deviation(i))"
   ]
  },
  {
   "cell_type": "code",
   "execution_count": null,
   "metadata": {},
   "outputs": [],
   "source": []
  }
 ],
 "metadata": {
  "kernelspec": {
   "display_name": "Python 3",
   "language": "python",
   "name": "python3"
  },
  "language_info": {
   "codemirror_mode": {
    "name": "ipython",
    "version": 3
   },
   "file_extension": ".py",
   "mimetype": "text/x-python",
   "name": "python",
   "nbconvert_exporter": "python",
   "pygments_lexer": "ipython3",
   "version": "3.13.1"
  }
 },
 "nbformat": 4,
 "nbformat_minor": 2
}
