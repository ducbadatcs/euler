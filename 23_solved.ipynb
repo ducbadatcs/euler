{
 "cells": [
  {
   "cell_type": "code",
   "execution_count": 1,
   "metadata": {},
   "outputs": [],
   "source": [
    "import math "
   ]
  },
  {
   "cell_type": "markdown",
   "metadata": {},
   "source": [
    "Algorithm: since the set is not too large, we look for abundant numbers and try to search over them"
   ]
  },
  {
   "cell_type": "code",
   "execution_count": 2,
   "metadata": {},
   "outputs": [
    {
     "data": {
      "text/plain": [
       "284"
      ]
     },
     "execution_count": 2,
     "metadata": {},
     "output_type": "execute_result"
    }
   ],
   "source": [
    "def sum_of_divisors(n: int) -> int:\n",
    "    t = 0\n",
    "    for i in range(1, math.isqrt(n) + 1):\n",
    "        if n % i == 0:\n",
    "            t += i\n",
    "            if i * i != n:\n",
    "                t += n // i\n",
    "    return t - n  # we included n in that sum above\n",
    "\n",
    "\n",
    "sum_of_divisors(220)"
   ]
  },
  {
   "cell_type": "code",
   "execution_count": 5,
   "metadata": {},
   "outputs": [
    {
     "name": "stdout",
     "output_type": "stream",
     "text": [
      "7427\n",
      "[12, 18, 20, 24, 30, 36, 40, 42, 48, 54]\n"
     ]
    }
   ],
   "source": [
    "abundant = [i for i in range(1, 30000) if sum_of_divisors(i) > i]\n",
    "print(len(abundant))\n",
    "print(abundant[:10])"
   ]
  },
  {
   "cell_type": "code",
   "execution_count": 6,
   "metadata": {},
   "outputs": [
    {
     "name": "stdout",
     "output_type": "stream",
     "text": [
      "57802\n"
     ]
    }
   ],
   "source": [
    "s = set()\n",
    "for i in range(0, len(abundant)):\n",
    "    for j in range(i + 1, len(abundant)):\n",
    "        s.add(abundant[i] + abundant[j])\n",
    "        s.add(abundant[i] * 2)\n",
    "print(len(s))"
   ]
  },
  {
   "cell_type": "code",
   "execution_count": 7,
   "metadata": {},
   "outputs": [
    {
     "data": {
      "text/plain": [
       "4179871"
      ]
     },
     "execution_count": 7,
     "metadata": {},
     "output_type": "execute_result"
    }
   ],
   "source": [
    "t = 0\n",
    "for i in range(1, 30000):\n",
    "    if i not in s:\n",
    "        t += i\n",
    "t"
   ]
  },
  {
   "cell_type": "code",
   "execution_count": null,
   "metadata": {},
   "outputs": [],
   "source": []
  }
 ],
 "metadata": {
  "kernelspec": {
   "display_name": "Python 3",
   "language": "python",
   "name": "python3"
  },
  "language_info": {
   "codemirror_mode": {
    "name": "ipython",
    "version": 3
   },
   "file_extension": ".py",
   "mimetype": "text/x-python",
   "name": "python",
   "nbconvert_exporter": "python",
   "pygments_lexer": "ipython3",
   "version": "3.13.1"
  }
 },
 "nbformat": 4,
 "nbformat_minor": 2
}
