{
 "cells": [
  {
   "cell_type": "code",
   "execution_count": null,
   "metadata": {},
   "outputs": [],
   "source": [
    "import math\n",
    "import numpy as np"
   ]
  },
  {
   "cell_type": "markdown",
   "metadata": {},
   "source": [
    "Algorithm: yeah just brute force a few of these number and hope the odd numbers doesn't divide it lmao"
   ]
  },
  {
   "cell_type": "code",
   "execution_count": 12,
   "metadata": {},
   "outputs": [
    {
     "data": {
      "text/plain": [
       "True"
      ]
     },
     "execution_count": 12,
     "metadata": {},
     "output_type": "execute_result"
    }
   ],
   "source": [
    "def nondivisible_tribonacci(n: int) -> bool:\n",
    "    l = [1, 1, 1]\n",
    "    d = {1: 3}\n",
    "    while True:\n",
    "        a = (l[-1] + l[-2] + l[-3]) % n\n",
    "        if a == 0:\n",
    "            return False\n",
    "        else:\n",
    "            l.append(a)\n",
    "            if d.get(a) is None:\n",
    "                d[a] = 1\n",
    "            else:\n",
    "                return True\n",
    "            \n",
    "nondivisible_tribonacci(287)"
   ]
  },
  {
   "cell_type": "code",
   "execution_count": 15,
   "metadata": {},
   "outputs": [
    {
     "data": {
      "text/plain": [
       "True"
      ]
     },
     "execution_count": 15,
     "metadata": {},
     "output_type": "execute_result"
    }
   ],
   "source": [
    "# generate some elements of the tribonacci\n",
    "l = [1, 1, 1]\n",
    "for _ in range(10 ** 5):\n",
    "    l.append(l[-1] + l[-2] + l[-3])\n",
    "    \n",
    "def nondivisible_tribonacci_partial(n: int) -> bool:\n",
    "    global l\n",
    "    for i in l:\n",
    "        if i % n == 0:\n",
    "            return False\n",
    "    return True\n",
    "\n",
    "nondivisible_tribonacci_partial(27)"
   ]
  },
  {
   "cell_type": "code",
   "execution_count": 16,
   "metadata": {},
   "outputs": [
    {
     "name": "stdout",
     "output_type": "stream",
     "text": [
      "2009\n"
     ]
    }
   ],
   "source": [
    "t = 124\n",
    "i = 25\n",
    "while t > 0:\n",
    "    i += 2\n",
    "    if nondivisible_tribonacci_partial(i):\n",
    "        t -= 1\n",
    "print(i)"
   ]
  },
  {
   "cell_type": "code",
   "execution_count": null,
   "metadata": {},
   "outputs": [],
   "source": []
  }
 ],
 "metadata": {
  "kernelspec": {
   "display_name": ".venv",
   "language": "python",
   "name": "python3"
  },
  "language_info": {
   "codemirror_mode": {
    "name": "ipython",
    "version": 3
   },
   "file_extension": ".py",
   "mimetype": "text/x-python",
   "name": "python",
   "nbconvert_exporter": "python",
   "pygments_lexer": "ipython3",
   "version": "3.12.6"
  }
 },
 "nbformat": 4,
 "nbformat_minor": 2
}
