version https://git-lfs.github.com/spec/v1
oid sha256:a3c6b92e904a8462810da634a054099892ec96118616ba37887c68e9d52f1169
size 68737
