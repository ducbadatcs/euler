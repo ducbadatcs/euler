{
 "cells": [
  {
   "cell_type": "code",
   "execution_count": 1,
   "metadata": {},
   "outputs": [],
   "source": [
    "import math, os, sys, itertools, decimal\n",
    "import numpy as np\n",
    "import pandas as pd\n",
    "import matplotlib.pyplot as plt\n"
   ]
  },
  {
   "cell_type": "code",
   "execution_count": 2,
   "metadata": {},
   "outputs": [
    {
     "data": {
      "text/plain": [
       "True"
      ]
     },
     "execution_count": 2,
     "metadata": {},
     "output_type": "execute_result"
    }
   ],
   "source": [
    "a = int(\"3,317,044,064,679,887,385,961,981\".replace(\",\", \"\"))\n",
    "n = 5 * 10 ** 7\n",
    "2*n**2 < a"
   ]
  },
  {
   "cell_type": "code",
   "execution_count": 3,
   "metadata": {},
   "outputs": [],
   "source": [
    "primes = [2, 3, 5, 7, 11, 13, 17, 19, 23, 29, 31, 37, 41]\n",
    "known_t_factors: list[list[int]] = []\n",
    "\n",
    "def miller_rabin(n: int) -> int:\n",
    "    # return 0 if composite but no info, 1 if prime, and a GCD factor if found\n",
    "    #n - 1 = d * 2^s\n",
    "    primes = [2, 3, 5, 7, 11, 13, 17, 19, 23, 29, 31, 37, 41]\n",
    "    d = n - 1\n",
    "    s = 0\n",
    "    while d % 2 == 0:\n",
    "        d //= 2\n",
    "        s += 1\n",
    "    for i in primes:\n",
    "        if n == i: return True\n",
    "        elif n % i == 0: return False\n",
    "        a = i\n",
    "        x = pow(a, d, n)\n",
    "        for _ in range(s):\n",
    "            y = pow(x, 2, n)\n",
    "            if y == 1 and x != 1 and x != n - 1: \n",
    "                return False\n",
    "            x = y\n",
    "        if y != 1: return False\n",
    "    return True"
   ]
  },
  {
   "cell_type": "code",
   "execution_count": 60,
   "metadata": {},
   "outputs": [],
   "source": []
  },
  {
   "cell_type": "code",
   "execution_count": null,
   "metadata": {},
   "outputs": [
    {
     "ename": "KeyboardInterrupt",
     "evalue": "",
     "output_type": "error",
     "traceback": [
      "\u001b[1;31m---------------------------------------------------------------------------\u001b[0m",
      "\u001b[1;31mKeyboardInterrupt\u001b[0m                         Traceback (most recent call last)",
      "Cell \u001b[1;32mIn[4], line 59\u001b[0m\n\u001b[0;32m     57\u001b[0m prange \u001b[38;5;241m=\u001b[39m []\n\u001b[0;32m     58\u001b[0m \u001b[38;5;28;01mfor\u001b[39;00m i \u001b[38;5;129;01min\u001b[39;00m \u001b[38;5;28mrange\u001b[39m(\u001b[38;5;241m2\u001b[39m, N \u001b[38;5;241m+\u001b[39m \u001b[38;5;241m1\u001b[39m):\n\u001b[1;32m---> 59\u001b[0m     a \u001b[38;5;241m=\u001b[39m \u001b[43mmodified_miller_rabin\u001b[49m\u001b[43m(\u001b[49m\u001b[43mi\u001b[49m\u001b[43m)\u001b[49m\n\u001b[0;32m     60\u001b[0m     \u001b[38;5;66;03m# print(a)\u001b[39;00m\n\u001b[0;32m     61\u001b[0m     \u001b[38;5;28;01mif\u001b[39;00m a[\u001b[38;5;241m0\u001b[39m][\u001b[38;5;241m-\u001b[39m\u001b[38;5;241m5\u001b[39m:] \u001b[38;5;241m==\u001b[39m \u001b[38;5;124m\"\u001b[39m\u001b[38;5;124mprime\u001b[39m\u001b[38;5;124m\"\u001b[39m:\n",
      "Cell \u001b[1;32mIn[4], line 25\u001b[0m, in \u001b[0;36mmodified_miller_rabin\u001b[1;34m(n)\u001b[0m\n\u001b[0;32m     21\u001b[0m m \u001b[38;5;241m=\u001b[39m T(n)\n\u001b[0;32m     23\u001b[0m \u001b[38;5;28;01mfor\u001b[39;00m z \u001b[38;5;129;01min\u001b[39;00m info:\n\u001b[0;32m     24\u001b[0m     \u001b[38;5;66;03m# if n % z[1] == z[0] % z[1]:\u001b[39;00m\n\u001b[1;32m---> 25\u001b[0m     \u001b[38;5;28;01mif\u001b[39;00m \u001b[43mmath\u001b[49m\u001b[38;5;241;43m.\u001b[39;49m\u001b[43mgcd\u001b[49m\u001b[43m(\u001b[49m\u001b[43mz\u001b[49m\u001b[43m[\u001b[49m\u001b[38;5;241;43m1\u001b[39;49m\u001b[43m]\u001b[49m\u001b[43m,\u001b[49m\u001b[43m \u001b[49m\u001b[43mn\u001b[49m\u001b[43m \u001b[49m\u001b[38;5;241;43m-\u001b[39;49m\u001b[43m \u001b[49m\u001b[43mz\u001b[49m\u001b[43m[\u001b[49m\u001b[38;5;241;43m0\u001b[39;49m\u001b[43m]\u001b[49m\u001b[43m)\u001b[49m \u001b[38;5;241m>\u001b[39m \u001b[38;5;241m1\u001b[39m:\n\u001b[0;32m     26\u001b[0m         \u001b[38;5;28;01mreturn\u001b[39;00m (\u001b[38;5;124m\"\u001b[39m\u001b[38;5;124mmultiple of\u001b[39m\u001b[38;5;124m\"\u001b[39m, z[\u001b[38;5;241m1\u001b[39m])\n\u001b[0;32m     28\u001b[0m d \u001b[38;5;241m=\u001b[39m \u001b[38;5;241m1\u001b[39m\n",
      "\u001b[1;31mKeyboardInterrupt\u001b[0m: "
     ]
    }
   ],
   "source": [
    "def T(n: int) -> int: return 2 * n * n - 1\n",
    "\n",
    "def modified_gcd(n: int, m: int) -> int:\n",
    "    # gcd of T(n) and m\n",
    "    n %= m\n",
    "    t = T(n) % m\n",
    "    return math.gcd(t, m)   \n",
    "\n",
    "\n",
    "info = []\n",
    "primes = [2, 3, 5, 7, 11, 13, 17, 19, 23, 29, 31, 37,\n",
    "          41]\n",
    "\n",
    "def modified_miller_rabin(n: int) -> tuple[str, int]:\n",
    "    \"\"\"\n",
    "    return the status code + probable factor\n",
    "    (\"prime\" | \"composite\", arbinary int)\n",
    "    (\"multiple of\" , with an int to prove)\n",
    "    \"\"\"\n",
    "    \n",
    "    m = T(n)\n",
    "    \n",
    "    for z in info:\n",
    "        # if n % z[1] == z[0] % z[1]:\n",
    "        if math.gcd(z[1], n - z[0]) > 1:\n",
    "            return (\"multiple of\", z[1])\n",
    "\n",
    "    d = 1\n",
    "    s = 0\n",
    "    for i in [2, n - 1, n + 1]:\n",
    "        x = i\n",
    "        while x % 2 == 0:\n",
    "            x //= 2\n",
    "            s += 1\n",
    "        d *= x\n",
    "    # print(f\"s = {s}, d = {d}, m = {m}\")\n",
    "    for i in primes:\n",
    "        if m == i:\n",
    "            return (\"prime\", i)\n",
    "        elif m % i == 0:\n",
    "            info.append((n, i))\n",
    "            return (\"multiple of\", i)\n",
    "        a = i \n",
    "        x = pow(a, d, m)\n",
    "        for _ in range(s):\n",
    "            y = pow(x, 2, m)\n",
    "            if y == 1 and x != 1 and x != m - 1:\n",
    "                info.append((n, math.gcd(x - 1, m)))\n",
    "                return (\"multiple of \", math.gcd(x - 1, m))\n",
    "            x = y\n",
    "        if y != 1:\n",
    "            return (\"composite\", 0)\n",
    "    return (\"probably prime\", m)\n",
    "    \n",
    "N = 5 * 10 ** 7\n",
    "prange = []\n",
    "for i in range(2, N + 1):\n",
    "    a = modified_miller_rabin(i)\n",
    "    # print(a)\n",
    "    if a[0][-5:] == \"prime\":\n",
    "        prange.append(i)\n",
    "print(info)\n",
    "# print(prange)\n",
    "print(len(prange))"
   ]
  },
  {
   "cell_type": "code",
   "execution_count": null,
   "metadata": {},
   "outputs": [],
   "source": []
  }
 ],
 "metadata": {
  "kernelspec": {
   "display_name": ".venv",
   "language": "python",
   "name": "python3"
  },
  "language_info": {
   "codemirror_mode": {
    "name": "ipython",
    "version": 3
   },
   "file_extension": ".py",
   "mimetype": "text/x-python",
   "name": "python",
   "nbconvert_exporter": "python",
   "pygments_lexer": "ipython3",
   "version": "3.12.6"
  }
 },
 "nbformat": 4,
 "nbformat_minor": 2
}
