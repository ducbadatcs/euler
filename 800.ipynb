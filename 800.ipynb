version https://git-lfs.github.com/spec/v1
oid sha256:0a4a11ce93874594fb8e986e6b292c8e27e095f4877876e0fc57dc171b98d2a7
size 22013
