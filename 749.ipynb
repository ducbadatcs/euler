{
 "cells": [
  {
   "cell_type": "code",
   "execution_count": 1,
   "metadata": {},
   "outputs": [],
   "source": [
    "import math\n",
    "import numpy as np"
   ]
  },
  {
   "cell_type": "code",
   "execution_count": 2,
   "metadata": {},
   "outputs": [
    {
     "data": {
      "text/plain": [
       "-1"
      ]
     },
     "execution_count": 2,
     "metadata": {},
     "output_type": "execute_result"
    }
   ],
   "source": [
    "def is_near_power_sum(n: int) -> int:\n",
    "    s = [int(i) for i in str(n)]\n",
    "    a = len(s)\n",
    "    v = sum([i ** a for i in s])\n",
    "    if v == n - 1: return -1\n",
    "    elif v == n + 1: return 1\n",
    "    else: return 0\n",
    "\n",
    "is_near_power_sum(35)"
   ]
  },
  {
   "cell_type": "code",
   "execution_count": 3,
   "metadata": {},
   "outputs": [
    {
     "name": "stdout",
     "output_type": "stream",
     "text": [
      "31672867 1\n",
      "44936324 -1\n",
      "63645890 1\n",
      "63645891 1\n",
      "71419078 -1\n",
      "73495876 1\n",
      "\n",
      "348815926\n"
     ]
    }
   ],
   "source": [
    "t = 0\n",
    "for i in range(10 ** 7 + 1, 10 ** 8 + 1):\n",
    "    z = is_near_power_sum(i)\n",
    "    if z != 0:\n",
    "        print(i, z)\n",
    "        t += i\n",
    "print(f\"\\n{t}\")"
   ]
  },
  {
   "cell_type": "code",
   "execution_count": null,
   "metadata": {},
   "outputs": [
    {
     "name": "stdout",
     "output_type": "stream",
     "text": [
      "3203324994356\n"
     ]
    }
   ],
   "source": []
  },
  {
   "cell_type": "code",
   "execution_count": null,
   "metadata": {},
   "outputs": [],
   "source": []
  }
 ],
 "metadata": {
  "kernelspec": {
   "display_name": "Python 3",
   "language": "python",
   "name": "python3"
  },
  "language_info": {
   "codemirror_mode": {
    "name": "ipython",
    "version": 3
   },
   "file_extension": ".py",
   "mimetype": "text/x-python",
   "name": "python",
   "nbconvert_exporter": "python",
   "pygments_lexer": "ipython3",
   "version": "3.12.6"
  }
 },
 "nbformat": 4,
 "nbformat_minor": 2
}
