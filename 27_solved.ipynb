{
 "cells": [
  {
   "cell_type": "code",
   "execution_count": 5,
   "id": "14ca1ada",
   "metadata": {},
   "outputs": [],
   "source": [
    "import math\n"
   ]
  },
  {
   "cell_type": "markdown",
   "id": "566be27e",
   "metadata": {},
   "source": [
    "Algorithm: brute force to check basically\n"
   ]
  },
  {
   "cell_type": "code",
   "execution_count": 6,
   "id": "0905f3d1",
   "metadata": {},
   "outputs": [
    {
     "data": {
      "text/plain": [
       "True"
      ]
     },
     "execution_count": 6,
     "metadata": {},
     "output_type": "execute_result"
    }
   ],
   "source": [
    "def is_prime(n: int) -> bool:\n",
    "    if n <= 1:\n",
    "        return False\n",
    "    elif 2 <= n <= 3:\n",
    "        return True\n",
    "    else:\n",
    "        if n % 2 == 0 or n % 3 == 0:\n",
    "            return False\n",
    "        \n",
    "        a = math.isqrt(n) + 2\n",
    "        for i in range(5, a, 6):\n",
    "            if n % i == 0 or n % (i + 2) == 0:\n",
    "                return False\n",
    "        return True\n",
    "    \n",
    "is_prime(10**9 + 7)"
   ]
  },
  {
   "cell_type": "code",
   "execution_count": 11,
   "id": "265fc63d",
   "metadata": {},
   "outputs": [
    {
     "data": {
      "text/plain": [
       "0"
      ]
     },
     "execution_count": 11,
     "metadata": {},
     "output_type": "execute_result"
    }
   ],
   "source": [
    "def prime_streak(a: int, b: int) -> int:\n",
    "    f = lambda n: n * n + a * n + b\n",
    "    t = 0\n",
    "    while is_prime(f(t)): t += 1\n",
    "    return t\n",
    "\n",
    "prime_streak(1,4)"
   ]
  },
  {
   "cell_type": "code",
   "execution_count": 12,
   "id": "50d5acb0",
   "metadata": {},
   "outputs": [
    {
     "name": "stdout",
     "output_type": "stream",
     "text": [
      "-999 2 1\n",
      "-996 997 2\n",
      "-499 997 3\n",
      "-325 977 4\n",
      "-245 977 5\n",
      "-197 983 6\n",
      "-163 983 7\n",
      "-131 941 8\n",
      "-121 947 9\n",
      "-105 967 11\n",
      "-61 971 71\n"
     ]
    }
   ],
   "source": [
    "m = 0\n",
    "z = 0\n",
    "for a in range(-999, 1000):\n",
    "    for b in range(-1000, 1001):\n",
    "        v = prime_streak(a, b)\n",
    "        if v > z:\n",
    "            print(a, b, v)\n",
    "            z = prime_streak(a, b)\n",
    "            m = a * b"
   ]
  },
  {
   "cell_type": "code",
   "execution_count": 13,
   "id": "b83f77b8",
   "metadata": {},
   "outputs": [
    {
     "data": {
      "text/plain": [
       "-59231"
      ]
     },
     "execution_count": 13,
     "metadata": {},
     "output_type": "execute_result"
    }
   ],
   "source": [
    "m"
   ]
  },
  {
   "cell_type": "code",
   "execution_count": null,
   "id": "18d2a1e8",
   "metadata": {},
   "outputs": [],
   "source": []
  }
 ],
 "metadata": {
  "kernelspec": {
   "display_name": "Python 3",
   "language": "python",
   "name": "python3"
  },
  "language_info": {
   "codemirror_mode": {
    "name": "ipython",
    "version": 3
   },
   "file_extension": ".py",
   "mimetype": "text/x-python",
   "name": "python",
   "nbconvert_exporter": "python",
   "pygments_lexer": "ipython3",
   "version": "3.13.3"
  }
 },
 "nbformat": 4,
 "nbformat_minor": 5
}
