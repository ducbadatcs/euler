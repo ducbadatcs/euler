{
 "cells": [
  {
   "cell_type": "code",
   "execution_count": 1,
   "metadata": {},
   "outputs": [],
   "source": [
    "import math\n",
    "import numpy as np"
   ]
  },
  {
   "cell_type": "markdown",
   "metadata": {},
   "source": [
    "Algorithm: Just No. I refuse to document any of this nonsense."
   ]
  },
  {
   "cell_type": "code",
   "execution_count": 2,
   "metadata": {},
   "outputs": [],
   "source": [
    "# 1st layer of preprocess: sample multiples + using the integers themselves\n",
    "import itertools\n",
    "l = [0 for i in range(10001)]\n",
    "d = {9: 12222, 90: 122220, 99: 1122222222, 990: 11222222220, 999: 111222222222222,\n",
    "     9990: 1112222222222220, 9999: 11112222222222222222, 99990: 111122222222222222220}\n",
    "lindex = 1\n",
    "rindex = len(l) - 1\n",
    "r0 = len(l) - 1\n"
   ]
  },
  {
   "cell_type": "code",
   "execution_count": 3,
   "metadata": {},
   "outputs": [],
   "source": [
    "# hardcode 1: resolve some special multiples of 9...99\n",
    "for i in d:\n",
    "    for j in range(1, 11):\n",
    "        if i * j < len(l) and d[i] % (i * j) == 0:\n",
    "            l[i * j] = d[i]\n",
    "            "
   ]
  },
  {
   "cell_type": "code",
   "execution_count": 4,
   "metadata": {},
   "outputs": [],
   "source": [
    "# hardcode layer 2: resolve the numbers themselves\n",
    "\n",
    "def is_012(n: int) -> int:\n",
    "    while n > 0:\n",
    "        if n % 10 > 2:\n",
    "            return False\n",
    "        n //= 10\n",
    "\n",
    "for i in range(1, len(l)):\n",
    "    if is_012(i):\n",
    "        l[i] = i\n",
    "        "
   ]
  },
  {
   "cell_type": "code",
   "execution_count": 5,
   "metadata": {},
   "outputs": [
    {
     "name": "stdout",
     "output_type": "stream",
     "text": [
      "999 111222222222222\n",
      "1998 111222222222222\n",
      "2997 112222221222222\n",
      "3996 121222222222212\n",
      "4995 1112222222222220\n",
      "5994 112222221222222\n",
      "6993 122211222222222\n",
      "7992 221222222222112\n",
      "8991 122212222222221\n",
      "9990 1112222222222220\n"
     ]
    }
   ],
   "source": [
    "# next layer: multiples of 999\n",
    "for j in range(999, 10 ** 4, 999):\n",
    "    l[j] = 10 ** 17\n",
    "for i in itertools.combinations(range(15), 3):\n",
    "    k = [2 for _ in range(15)]\n",
    "    for j in i:\n",
    "        k[j] = 1\n",
    "    n = int(\"\".join(str(j) for j in k))\n",
    "    for j in range(999, 10 ** 4, 999):\n",
    "        if j % 5 == 0:\n",
    "            a = \"\".join(list(sorted(str(n))))\n",
    "            l[j] = int(a + \"0\")\n",
    "        else:\n",
    "            if n % j == 0:\n",
    "                l[j] = min(l[j], n)\n",
    "for j in range(999, 10 ** 4, 999):\n",
    "    print(j, l[j])"
   ]
  },
  {
   "cell_type": "code",
   "execution_count": 6,
   "metadata": {},
   "outputs": [
    {
     "name": "stdout",
     "output_type": "stream",
     "text": [
      "1 10000\n",
      "2 10000\n",
      "3 10000\n",
      "7 10000\n",
      "8 10000\n",
      "13 10000\n",
      "19 10000\n",
      "26 10000\n",
      "27 10000\n",
      "27 9998\n",
      "36 9998\n",
      "45 9998\n",
      "89 9998\n",
      "225 9998\n",
      "381 9998\n",
      "396 9998\n",
      "495 9998\n",
      "1099 9998\n",
      "2079 9998\n",
      "2439 9998\n",
      "2475 9998\n",
      "2475 9989\n",
      "5495 9989\n",
      "8999 9989\n",
      "9899 9989\n",
      "9899 9899\n",
      "10001 0\n",
      "[1, 2, 12, 12, 10, 12, 21, 112, 12222, 10, 11, 12, 221, 112, 120, 112, 102, 12222, 1102, 20, 21, 22, 1012, 120, 100, 1222, 21222, 112, 1102, 120, 2201, 1120, 1122, 102, 210, 22212, 111, 1102, 10101, 120, 11111, 210, 2021, 220, 122220, 1012, 1222, 1200, 11221, 100, 102, 12012, 212, 21222, 110, 112, 11001, 1102, 1121, 120, 122, 11222, 12222, 2112, 2210, 1122, 201, 1020, 2001, 210, 2201, 122112, 1022, 222, 1200, 11020, 1001, 12012, 2212, 1120, 21222, 22222, 11122, 2100, 1020, 12212, 2001, 2112, 1121222, 122220, 1001, 1012, 21111, 1222, 11020, 2112, 12222, 112112, 1122222222]\n",
      "1\n",
      "1111333355557778 1111981904675169\n"
     ]
    }
   ],
   "source": [
    "x = set([])\n",
    "# remaining, should take care of most ints\n",
    "r0 = l.count(0) - 1\n",
    "lindex = 1\n",
    "rindex = len(l) - 1\n",
    "for i in itertools.product(range(3), repeat=15):\n",
    "    s = \"\".join([str(j) for j in i]).lstrip('0')\n",
    "\n",
    "    n = int(s if len(s) > 0 else 0)\n",
    "    for j in range(lindex, rindex + 1):\n",
    "        if n % j == 0:\n",
    "            if l[j] == 0:\n",
    "                l[j] = n\n",
    "                r0 -= 1\n",
    "            if n // j < len(l) and l[n // j] == 0:\n",
    "                l[n // j] = n\n",
    "                r0 -= 1\n",
    "    while lindex < len(l) and l[lindex] != 0:\n",
    "        lindex += 1\n",
    "    while rindex > 0 and l[rindex] != 0 :\n",
    "        rindex -= 1\n",
    "    if (lindex, rindex) not in x:\n",
    "        print(lindex, rindex)\n",
    "        x.add((lindex, rindex))\n",
    "print(l[1:100])\n",
    "print(l.count(0))\n",
    "z = [l[i] // i for i in range(1, len(l))]\n",
    "# print(z)\n",
    "print(max(z), sum(z))"
   ]
  },
  {
   "cell_type": "code",
   "execution_count": 7,
   "metadata": {},
   "outputs": [
    {
     "data": {
      "text/plain": [
       "[0]"
      ]
     },
     "execution_count": 7,
     "metadata": {},
     "output_type": "execute_result"
    }
   ],
   "source": [
    "[i for i in range(len(l)) if l[i] == 0]"
   ]
  },
  {
   "cell_type": "code",
   "execution_count": 8,
   "metadata": {},
   "outputs": [],
   "source": [
    "# verify\n",
    "for i in range(1, len(l)):\n",
    "    if not (l[i] > 0 and l[i] % i == 0):\n",
    "        print(f\"ERROR AT {i}\")"
   ]
  },
  {
   "cell_type": "code",
   "execution_count": 9,
   "metadata": {},
   "outputs": [
    {
     "name": "stdout",
     "output_type": "stream",
     "text": [
      "[0, 1, 2, 12, 12, 10, 12, 21, 112, 12222, 10, 11, 12, 221, 112, 120, 112, 102, 12222, 1102, 20, 21, 22, 1012, 120, 100, 1222, 21222, 112, 1102, 120, 2201, 1120, 1122, 102, 210, 22212, 111, 1102, 10101, 120, 11111, 210, 2021, 220, 122220, 1012, 1222, 1200, 11221, 100, 102, 12012, 212, 21222, 110, 112, 11001, 1102, 1121, 120, 122, 11222, 12222, 2112, 2210, 1122, 201, 1020, 2001, 210, 2201, 122112, 1022, 222, 1200, 11020, 1001, 12012, 2212, 1120, 21222, 22222, 11122, 2100, 1020, 12212, 2001, 2112, 1121222, 122220, 1001, 1012, 21111, 1222, 11020, 2112, 12222, 112112, 1122222222]\n"
     ]
    }
   ],
   "source": [
    "sum(l[i] // i for i in range(1, 100))\n",
    "print(l[:100])"
   ]
  },
  {
   "cell_type": "code",
   "execution_count": 10,
   "metadata": {},
   "outputs": [
    {
     "name": "stdout",
     "output_type": "stream",
     "text": [
      "1111981904675169\n"
     ]
    }
   ],
   "source": [
    "print(sum(z))"
   ]
  },
  {
   "cell_type": "code",
   "execution_count": 11,
   "metadata": {},
   "outputs": [
    {
     "data": {
      "text/plain": [
       "9998"
      ]
     },
     "execution_count": 11,
     "metadata": {},
     "output_type": "execute_result"
    }
   ],
   "source": [
    "z.index(max(z))"
   ]
  },
  {
   "cell_type": "code",
   "execution_count": null,
   "metadata": {},
   "outputs": [],
   "source": []
  }
 ],
 "metadata": {
  "kernelspec": {
   "display_name": "Python 3",
   "language": "python",
   "name": "python3"
  },
  "language_info": {
   "codemirror_mode": {
    "name": "ipython",
    "version": 3
   },
   "file_extension": ".py",
   "mimetype": "text/x-python",
   "name": "python",
   "nbconvert_exporter": "python",
   "pygments_lexer": "ipython3",
   "version": "3.13.1"
  }
 },
 "nbformat": 4,
 "nbformat_minor": 2
}
