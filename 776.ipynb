version https://git-lfs.github.com/spec/v1
oid sha256:47bed20df88bfbcc3e166a5b2d10f43ce3bc7fd45a7d22b094bd4693424fbb1d
size 3883
