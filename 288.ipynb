{
 "cells": [
  {
   "cell_type": "code",
   "execution_count": 1,
   "metadata": {},
   "outputs": [],
   "source": [
    "import math"
   ]
  },
  {
   "cell_type": "code",
   "execution_count": null,
   "metadata": {},
   "outputs": [
    {
     "name": "stdout",
     "output_type": "stream",
     "text": [
      "(1^k + 0^k + 0^k + 0^k + 0^k + 0^k + 0^k + 0^k + 0^k + 0^k) \\times q^{1} +\n",
      " \\\\~\\\\(1^k + 2^k + 0^k + 0^k + 0^k + 0^k + 0^k + 0^k + 0^k + 0^k) \\times q^{2} +\n",
      " \\\\~\\\\(1^k + 0^k + 3^k + 0^k + 0^k + 0^k + 0^k + 0^k + 0^k + 0^k) \\times q^{3} +\n",
      " \\\\~\\\\(1^k + 2^k + 0^k + 4^k + 0^k + 0^k + 0^k + 0^k + 0^k + 0^k) \\times q^{4} +\n",
      " \\\\~\\\\(1^k + 0^k + 0^k + 0^k + 5^k + 0^k + 0^k + 0^k + 0^k + 0^k) \\times q^{5} +\n",
      " \\\\~\\\\(1^k + 2^k + 3^k + 0^k + 0^k + 6^k + 0^k + 0^k + 0^k + 0^k) \\times q^{6} +\n",
      " \\\\~\\\\(1^k + 0^k + 0^k + 0^k + 0^k + 0^k + 7^k + 0^k + 0^k + 0^k) \\times q^{7} +\n",
      " \\\\~\\\\(1^k + 2^k + 0^k + 4^k + 0^k + 0^k + 0^k + 8^k + 0^k + 0^k) \\times q^{8} +\n",
      " \\\\~\\\\(1^k + 0^k + 3^k + 0^k + 0^k + 0^k + 0^k + 0^k + 9^k + 0^k) \\times q^{9} +\n",
      " \\\\~\\\\(1^k + 2^k + 0^k + 0^k + 5^k + 0^k + 0^k + 0^k + 0^k + 10^k) \\times q^{10}\n"
     ]
    },
    {
     "ename": "",
     "evalue": "",
     "output_type": "error",
     "traceback": [
      "\u001b[1;31mThe Kernel crashed while executing code in the current cell or a previous cell. \n",
      "\u001b[1;31mPlease review the code in the cell(s) to identify a possible cause of the failure. \n",
      "\u001b[1;31mClick <a href='https://aka.ms/vscodeJupyterKernelCrash'>here</a> for more info. \n",
      "\u001b[1;31mView Jupyter <a href='command:jupyter.viewOutput'>log</a> for further details."
     ]
    }
   ],
   "source": [
    "l = []\n",
    "for i in range(1, 11):\n",
    "    v = []\n",
    "    for j in range(1, 11):\n",
    "        if i % j == 0:\n",
    "            v.append(str(j) + \"^k\")\n",
    "        else:\n",
    "            v.append(\"0^k\")\n",
    "    l.append(\"(\" + \" + \".join(v) + f\") \\\\times q^{{{i}}}\")\n",
    "print(\" +\\n \\\\\\\\~\\\\\\\\\".join(l))"
   ]
  },
  {
   "cell_type": "code",
   "execution_count": null,
   "metadata": {},
   "outputs": [],
   "source": []
  }
 ],
 "metadata": {
  "kernelspec": {
   "display_name": "Python 3",
   "language": "python",
   "name": "python3"
  },
  "language_info": {
   "codemirror_mode": {
    "name": "ipython",
    "version": 3
   },
   "file_extension": ".py",
   "mimetype": "text/x-python",
   "name": "python",
   "nbconvert_exporter": "python",
   "pygments_lexer": "ipython3",
   "version": "3.12.9"
  }
 },
 "nbformat": 4,
 "nbformat_minor": 2
}
