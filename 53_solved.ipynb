{
 "cells": [
  {
   "cell_type": "code",
   "execution_count": 1,
   "metadata": {},
   "outputs": [],
   "source": [
    "import math"
   ]
  },
  {
   "cell_type": "markdown",
   "metadata": {},
   "source": [
    "Algorithm: Python is invincible, so you can just use `math.comb` to calculate the value and compare it to $10^6$"
   ]
  },
  {
   "cell_type": "code",
   "execution_count": 2,
   "metadata": {},
   "outputs": [
    {
     "name": "stdout",
     "output_type": "stream",
     "text": [
      "4075\n"
     ]
    }
   ],
   "source": [
    "a = 0\n",
    "for n in range(1, 101):\n",
    "    # r is bounded by n\n",
    "    for r in range(1, n + 1):\n",
    "        if math.comb(n, r) > 10 ** 6:\n",
    "            a += 1\n",
    "print(a)"
   ]
  },
  {
   "cell_type": "markdown",
   "metadata": {},
   "source": [
    "Alternative: we compare logarithms, for other languages like `C++` which doesn't have big numbers, which is always an indicator of an extremely lame language\n",
    "\n",
    "Like for what the fucking stupid shit the `C++` devs are cooking can't they just make a goddamn `bigint` class"
   ]
  },
  {
   "cell_type": "markdown",
   "metadata": {},
   "source": [
    "Anyways in essence, we note that: \n",
    "\n",
    "$$\n",
    "\\log_{10} \\left(\\begin{matrix} n \\\\ r \\end{matrix}\\right) = \\log_{10} \\left.\\frac{n!}{r! (n - r)!}\\right. = \\log_{10} {n!} - \\log_{10} {r!} - \\log_{10}{(n - r)!} \n",
    "$$\n",
    "\n",
    "So you can calculate a table of logs of $n!$, using the formula $$\\displaystyle{log_{10}{N!} = \\sum_{i = 1}^N{log_{10} i} = \\sum_{i = 1}^{N - 1}{log_{10} i} + \\log_{10} N = \\log_{10} (N - 1)! + \\log_{10}{N}}$$"
   ]
  },
  {
   "cell_type": "code",
   "execution_count": 4,
   "metadata": {},
   "outputs": [
    {
     "data": {
      "text/plain": [
       "4075"
      ]
     },
     "execution_count": 4,
     "metadata": {},
     "output_type": "execute_result"
    }
   ],
   "source": [
    "logs = [0.0, 0.0]\n",
    "for i in range(2, 101):\n",
    "    logs.append(math.log10(i) + logs[-1])\n",
    "\n",
    "t = 0\n",
    "for n in range(1, 101):\n",
    "    for r in range(1, n + 1):\n",
    "        if logs[n] - logs[r] - logs[n - r] >= 6:\n",
    "            t += 1\n",
    "t"
   ]
  },
  {
   "cell_type": "code",
   "execution_count": null,
   "metadata": {},
   "outputs": [],
   "source": []
  }
 ],
 "metadata": {
  "kernelspec": {
   "display_name": "Python 3",
   "language": "python",
   "name": "python3"
  },
  "language_info": {
   "codemirror_mode": {
    "name": "ipython",
    "version": 3
   },
   "file_extension": ".py",
   "mimetype": "text/x-python",
   "name": "python",
   "nbconvert_exporter": "python",
   "pygments_lexer": "ipython3",
   "version": "3.13.1"
  }
 },
 "nbformat": 4,
 "nbformat_minor": 2
}
