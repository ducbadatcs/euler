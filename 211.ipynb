{
 "cells": [
  {
   "cell_type": "code",
   "execution_count": 1,
   "metadata": {},
   "outputs": [],
   "source": [
    "import math, os, sys, itertools, decimal\n",
    "import numpy as np\n",
    "import pandas as pd\n",
    "import matplotlib.pyplot as plt\n"
   ]
  },
  {
   "cell_type": "code",
   "execution_count": 14,
   "metadata": {},
   "outputs": [
    {
     "name": "stdout",
     "output_type": "stream",
     "text": [
      "2140839788\n"
     ]
    }
   ],
   "source": [
    "def sum_of_divisor_sq(n: int) -> int:\n",
    "    t = 0\n",
    "    for i in range(1, math.isqrt(n) + 1):\n",
    "        if n % i == 0:\n",
    "            t += i * i\n",
    "            if i * i != n:\n",
    "                a = n // i\n",
    "                t += a * a\n",
    "    return t\n",
    "\n",
    "def is_square(n: int) -> int:\n",
    "    a = math.isqrt(n)\n",
    "    return a if a * a == n else 0\n",
    "\n",
    "N = 10 ** 2\n",
    "\n",
    "# print first 10 SOD squares\n",
    "t = 0\n",
    "for i in range(2, 64 * 10 ** 6):\n",
    "    t += is_square(sum_of_divisor_sq(i))\n",
    "print(t)"
   ]
  },
  {
   "cell_type": "code",
   "execution_count": 6,
   "metadata": {},
   "outputs": [
    {
     "data": {
      "text/plain": [
       "2500"
      ]
     },
     "execution_count": 6,
     "metadata": {},
     "output_type": "execute_result"
    }
   ],
   "source": [
    "sum_of_divisor_sq(42)"
   ]
  },
  {
   "cell_type": "code",
   "execution_count": 11,
   "metadata": {},
   "outputs": [
    {
     "data": {
      "text/plain": [
       "258"
      ]
     },
     "execution_count": 11,
     "metadata": {},
     "output_type": "execute_result"
    }
   ],
   "source": [
    "def sum_of_divisor(n: int) -> int:\n",
    "    t = 0\n",
    "    for i in range(1, math.isqrt(n) + 1):\n",
    "        if n % i == 0:\n",
    "            t += i \n",
    "            if i * i != n:\n",
    "                a = n // i\n",
    "                t += a\n",
    "    return t\n",
    "\n",
    "sum_of_divisor(246) - 246"
   ]
  },
  {
   "cell_type": "code",
   "execution_count": null,
   "metadata": {},
   "outputs": [],
   "source": []
  },
  {
   "cell_type": "code",
   "execution_count": null,
   "metadata": {},
   "outputs": [],
   "source": []
  },
  {
   "cell_type": "code",
   "execution_count": null,
   "metadata": {},
   "outputs": [],
   "source": []
  },
  {
   "cell_type": "code",
   "execution_count": null,
   "metadata": {},
   "outputs": [],
   "source": []
  }
 ],
 "metadata": {
  "kernelspec": {
   "display_name": ".venv",
   "language": "python",
   "name": "python3"
  },
  "language_info": {
   "codemirror_mode": {
    "name": "ipython",
    "version": 3
   },
   "file_extension": ".py",
   "mimetype": "text/x-python",
   "name": "python",
   "nbconvert_exporter": "python",
   "pygments_lexer": "ipython3",
   "version": "3.12.6"
  }
 },
 "nbformat": 4,
 "nbformat_minor": 2
}
