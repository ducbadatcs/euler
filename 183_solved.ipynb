{
 "cells": [
  {
   "cell_type": "code",
   "execution_count": 1,
   "metadata": {},
   "outputs": [],
   "source": [
    "import math, sys, os, itertools\n",
    "import pandas as pd\n",
    "import numpy as np"
   ]
  },
  {
   "cell_type": "markdown",
   "metadata": {},
   "source": [
    "Algorithm: Ok so to solve this problem we need to actually identify how to split the number $N$ to maximize that. So here's some average calculus bs"
   ]
  },
  {
   "cell_type": "markdown",
   "metadata": {},
   "source": [
    "Let $k$ be an integer, and $r = \\frac{N}{k}$. We want to find $k$ so that $r^k$ is max. To do so, we consider the function:\n",
    "\n",
    "$$\n",
    "P(k) = \\left(\\frac{N}{k}\\right)^k\n",
    "$$\n",
    "\n",
    "And now we basically find the max value of this function via integer $k$. Let's assume that $k$ isn't just an integer anymore, it's a real value and we want to find maximum of $P(k)$ accross all real value $k$. So we have the first condition: $k > 0$. This will also make $P > 0$. Since $P > 0$, consider it's logarithm.:\n",
    "\n",
    "$$\n",
    "Q(k) = \\ln P(k) = k \\ln\\left(\\frac{N}{k}\\right) = k (\\ln N - \\ln k) = k\\ln N - k\\ln k\n",
    "$$\n",
    "\n",
    "and do the derivative:\n",
    "\n",
    "$$\n",
    "\\frac{\\text{d}Q}{\\text{d}k} = \\ln N - \\left(\\ln k + k \\frac{1}{k}\\right) = \\ln N - \\ln k - 1\n",
    "$$\n",
    "\n",
    "Now we find the zero of the derivative. \n",
    "\n",
    "$$\n",
    "\\ln N - \\ln k - 1 = 0 \\Rightarrow \\ln k = \\ln N - 1 \\Rightarrow k = \\exp(\\ln N - 1) = \\frac{N}{e}\n",
    "$$\n",
    "\n",
    "For $k$ below $\\frac{N}{e}$, the derivative is positive, and for $k$ above $\\frac{N}{e}$, it is negative. Hence the actual function for $k \\leq \\frac{N}{e}$ will increase until it hits $k = \\frac{N}{e}$, and then decrease with $k > \\frac{N}{e}$. So in other words, $k =\\frac{N}{e}$ makes the function attain the maximum value."
   ]
  },
  {
   "cell_type": "markdown",
   "metadata": {},
   "source": [
    "But the problem is now that $k$ is an INTEGER, but we note that the increase/decrease around the maxima is really strict, in the sense that the $k$ is to the value $\\frac{N}{e}$, the better. So we just take $k = \\left\\lfloor \\frac{N}{e} \\right\\rceil$. ok, we can also actually see the plot, thanks to `matplotlib`"
   ]
  },
  {
   "cell_type": "code",
   "execution_count": 8,
   "metadata": {},
   "outputs": [
    {
     "data": {
      "text/plain": [
       "[<matplotlib.lines.Line2D at 0x1b0c704fc50>]"
      ]
     },
     "execution_count": 8,
     "metadata": {},
     "output_type": "execute_result"
    },
    {
     "data": {
      "image/png": "[encoded data removed]",
      "text/plain": [
       "<Figure size 640x480 with 1 Axes>"
      ]
     },
     "metadata": {},
     "output_type": "display_data"
    }
   ],
   "source": [
    "import matplotlib.pyplot as plt\n",
    "import numpy as np\n",
    "\n",
    "n = 30\n",
    "\n",
    "def P(n: int, k: float) -> float:\n",
    "    return math.pow(n / k, k)\n",
    "\n",
    "def Q(n: int, k: float) -> float:\n",
    "    # rewrite like this to prevent floating point bs\n",
    "    return k * (math.log(n) - math.log(k))\n",
    "\n",
    "x = np.linspace(0.01, 50, num=1000)\n",
    "# y = np.array([P(n, i) for i in x])\n",
    "z = np.array([Q(n, i) for i in x])\n",
    "# plt.plot(x, y)\n",
    "plt.plot(x, z, \"r\")"
   ]
  },
  {
   "cell_type": "markdown",
   "metadata": {},
   "source": [
    "meanwhile we do these checks to see if a fraction terminates"
   ]
  },
  {
   "cell_type": "code",
   "execution_count": 3,
   "metadata": {},
   "outputs": [
    {
     "data": {
      "text/plain": [
       "False"
      ]
     },
     "execution_count": 3,
     "metadata": {},
     "output_type": "execute_result"
    }
   ],
   "source": [
    "def is_terminating_denominator(n: int) -> bool:\n",
    "    for i in [2, 5]:\n",
    "        while n % i == 0:\n",
    "            n //= i\n",
    "    return n == 1\n",
    "\n",
    "def is_terminating_fraction(m: int, n: int) -> bool:\n",
    "    k = math.gcd(m, n)\n",
    "    n //= k\n",
    "    return is_terminating_denominator(n)\n",
    "\n",
    "is_terminating_fraction(512, 27)"
   ]
  },
  {
   "cell_type": "markdown",
   "metadata": {},
   "source": [
    "and yeah we just add up. I love calculus AlsOb"
   ]
  },
  {
   "cell_type": "code",
   "execution_count": 4,
   "metadata": {},
   "outputs": [
    {
     "data": {
      "text/plain": [
       "8"
      ]
     },
     "execution_count": 4,
     "metadata": {},
     "output_type": "execute_result"
    }
   ],
   "source": [
    "def pmax_k(n: int) -> int:\n",
    "    return int(round(n / math.e))\n",
    "\n",
    "def D(n: int) -> int:\n",
    "    k = pmax_k(n)\n",
    "    return -n if is_terminating_fraction(n, k) else n \n",
    "\n",
    "D(8)"
   ]
  },
  {
   "cell_type": "code",
   "execution_count": 5,
   "metadata": {},
   "outputs": [
    {
     "data": {
      "text/plain": [
       "48861552"
      ]
     },
     "execution_count": 5,
     "metadata": {},
     "output_type": "execute_result"
    }
   ],
   "source": [
    "t = 0\n",
    "z = 10000\n",
    "for i in range(5, z + 1):\n",
    "    t += D(i)\n",
    "t"
   ]
  },
  {
   "cell_type": "code",
   "execution_count": null,
   "metadata": {},
   "outputs": [],
   "source": []
  }
 ],
 "metadata": {
  "kernelspec": {
   "display_name": "Python 3",
   "language": "python",
   "name": "python3"
  },
  "language_info": {
   "codemirror_mode": {
    "name": "ipython",
    "version": 3
   },
   "file_extension": ".py",
   "mimetype": "text/x-python",
   "name": "python",
   "nbconvert_exporter": "python",
   "pygments_lexer": "ipython3",
   "version": "3.13.1"
  }
 },
 "nbformat": 4,
 "nbformat_minor": 2
}
