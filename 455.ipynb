{
 "cells": [
  {
   "cell_type": "code",
   "execution_count": 1,
   "metadata": {},
   "outputs": [],
   "source": [
    "import math"
   ]
  },
  {
   "cell_type": "markdown",
   "metadata": {},
   "source": [
    "if $n \\mod 10 = 0$ then $n^x$ would end with a bunch of zeros, so it doens't count\n",
    "\n",
    "instead we focus on the other case\n",
    "\n",
    "can we do fixed-point iteration?"
   ]
  },
  {
   "cell_type": "markdown",
   "metadata": {},
   "source": [
    "$$\n",
    "f(x) = n^x \\mod 10^9\n",
    "$$\n",
    "\n",
    "we begin with a guess of $x = n$ itself, idk"
   ]
  },
  {
   "cell_type": "markdown",
   "metadata": {},
   "source": []
  },
  {
   "cell_type": "code",
   "execution_count": 6,
   "metadata": {},
   "outputs": [
    {
     "name": "stdout",
     "output_type": "stream",
     "text": [
      "0\n",
      "1\n",
      "1540\n",
      "0\n",
      "1\n",
      "1540\n",
      "0\n",
      "1\n",
      "1540\n",
      "0\n",
      "1\n",
      "1540\n",
      "0\n",
      "1\n",
      "1540\n",
      "0\n",
      "1\n",
      "1540\n",
      "0\n",
      "1\n",
      "1540\n",
      "0\n",
      "1\n",
      "1540\n",
      "0\n",
      "1\n",
      "1540\n",
      "0\n",
      "1\n",
      "1540\n",
      "0\n",
      "1\n",
      "1540\n",
      "0\n",
      "1\n",
      "1540\n",
      "0\n",
      "1\n",
      "1540\n",
      "0\n",
      "1\n",
      "1540\n",
      "0\n",
      "1\n",
      "1540\n",
      "0\n",
      "1\n",
      "1540\n",
      "0\n",
      "1\n",
      "1540\n",
      "0\n",
      "1\n",
      "1540\n",
      "0\n",
      "1\n",
      "1540\n",
      "0\n",
      "1\n",
      "1540\n",
      "0\n",
      "1\n",
      "1540\n",
      "0\n",
      "1\n",
      "1540\n",
      "0\n",
      "1\n",
      "1540\n",
      "0\n",
      "1\n",
      "1540\n",
      "0\n",
      "1\n",
      "1540\n",
      "0\n",
      "1\n",
      "1540\n",
      "0\n",
      "1\n",
      "1540\n",
      "0\n",
      "1\n",
      "1540\n",
      "0\n",
      "1\n",
      "1540\n",
      "0\n",
      "1\n",
      "1540\n",
      "0\n",
      "1\n",
      "1540\n",
      "0\n",
      "1\n",
      "1540\n",
      "0\n",
      "1\n",
      "1540\n",
      "0\n"
     ]
    }
   ],
   "source": [
    "def f(n: int, x: int) -> int:\n",
    "    return pow(n, x, 10 **9)\n",
    "\n",
    "n = 1540\n",
    "x = n\n",
    "for i in range(100):\n",
    "    x = f(n, x)\n",
    "    print(x)"
   ]
  },
  {
   "cell_type": "code",
   "execution_count": 7,
   "metadata": {},
   "outputs": [
    {
     "data": {
      "text/plain": [
       "442530011399"
      ]
     },
     "execution_count": 7,
     "metadata": {},
     "output_type": "execute_result"
    }
   ],
   "source": [
    "def F(n: int) -> int:\n",
    "    if n % 10 == 0:\n",
    "        return 0\n",
    "    \n",
    "    x = n\n",
    "    for i in range(100):\n",
    "        x = f(n, x)\n",
    "    return x\n",
    "\n",
    "t = 0\n",
    "for i in range(2, 10 ** 3 + 1):\n",
    "    t += F(i)\n",
    "t"
   ]
  },
  {
   "cell_type": "code",
   "execution_count": 8,
   "metadata": {},
   "outputs": [
    {
     "data": {
      "text/plain": [
       "450186511399999"
      ]
     },
     "execution_count": 8,
     "metadata": {},
     "output_type": "execute_result"
    }
   ],
   "source": [
    "t = 0\n",
    "for i in range(2, 10 ** 6 + 1):\n",
    "    t += F(i)\n",
    "t"
   ]
  },
  {
   "cell_type": "code",
   "execution_count": null,
   "metadata": {},
   "outputs": [],
   "source": []
  }
 ],
 "metadata": {
  "kernelspec": {
   "display_name": "Python 3",
   "language": "python",
   "name": "python3"
  },
  "language_info": {
   "codemirror_mode": {
    "name": "ipython",
    "version": 3
   },
   "file_extension": ".py",
   "mimetype": "text/x-python",
   "name": "python",
   "nbconvert_exporter": "python",
   "pygments_lexer": "ipython3",
   "version": "3.13.1"
  }
 },
 "nbformat": 4,
 "nbformat_minor": 2
}
