{
 "cells": [
  {
   "cell_type": "code",
   "execution_count": 1,
   "metadata": {},
   "outputs": [],
   "source": [
    "import math"
   ]
  },
  {
   "cell_type": "markdown",
   "metadata": {},
   "source": [
    "$69$ = nice"
   ]
  },
  {
   "cell_type": "markdown",
   "metadata": {},
   "source": [
    "Anyways algorithm: We note that if $\\displaystyle{n = \\prod_{i = 1}^r {p_i} ^ {a_i}}$ with $r = \\omega(n)$ and $p_i$ are the prime factors of $n$ then $\\displaystyle{\\phi(n) = n\\prod_{i=1}^r \\left( 1 - \\frac{1}{p_i}\\right)}$ and \n",
    "$$\n",
    "\t\\frac{n}{\\phi(n)} = \\frac{1}{\\displaystyle{\\prod_{i=1}^r \\left( 1 - \\frac{1}{p_i}\\right)}} \\\\\\\\\n",
    "\t\\Rightarrow \\argmax_{n \\in \\mathbb{N}_a}\\frac{n}{\\phi \\left( n\\right) } \n",
    "\t= \\argmin_{n \\in \\mathbb{N}_a}\\prod ^{r}_{i=1}\\left( 1-\\dfrac{1}{p_{i}}\\right) \n",
    "$$\n",
    "\n",
    "where $\\mathbb{N}_a$ is the set of integers $\\{1, 2, \\dots, a\\}$\n",
    "\n",
    "Now we note that since all primes are larger than $1,  \\displaystyle{0 \\leq 1 - \\frac{1}{p_i} \\leq 1}$, and smaller primes make the product smaller (since $\\displaystyle{1 - \\frac{1}{p_i}}$ becomes smaller too)"
   ]
  },
  {
   "cell_type": "markdown",
   "metadata": {},
   "source": [
    "In other words, we will use the greedy algorithm multiplying consecutive primes starting from $2$, make sure it's bounded below $a$, so our solution is:\n",
    "\n",
    "$$\n",
    "\\argmax_{n \\in \\mathbb{N}_a}\\frac{n}{\\phi \\left( n\\right) } \n",
    "\t= \\argmin_{n \\in \\mathbb{N}_a}\\prod ^{r}_{i=1}\\left( 1-\\dfrac{1}{p_{i}}\\right) = \\max_{n\\# \\leq a} n\\# \n",
    "$$\n",
    "\n",
    "so we find that max value $n\\#$ by start multiplying primes"
   ]
  },
  {
   "cell_type": "code",
   "execution_count": 6,
   "metadata": {},
   "outputs": [
    {
     "data": {
      "text/plain": [
       "True"
      ]
     },
     "execution_count": 6,
     "metadata": {},
     "output_type": "execute_result"
    }
   ],
   "source": [
    "def small_miller_rabin(n: int) -> bool:\n",
    "    p = [2, 3, 5, 7]\n",
    "    d = n - 1\n",
    "    s = 0\n",
    "    while d % 2 == 0:\n",
    "        d //= 2\n",
    "        s += 1\n",
    "    for i in p:\n",
    "        if n == i:\n",
    "            return True\n",
    "        elif n % i == 0:\n",
    "            return False\n",
    "        a = i\n",
    "        x = pow(a, d, n)\n",
    "        for _ in range(s):\n",
    "            y = pow(x, 2, n)\n",
    "            if y == 1 and x != 1 and x != n - 1:\n",
    "                return False\n",
    "            x = y\n",
    "        if y != 1:\n",
    "            return False\n",
    "    return True\n",
    "\n",
    "\n",
    "small_miller_rabin(10 ** 9 + 7)"
   ]
  },
  {
   "cell_type": "code",
   "execution_count": 10,
   "metadata": {},
   "outputs": [
    {
     "data": {
      "text/plain": [
       "510510"
      ]
     },
     "execution_count": 10,
     "metadata": {},
     "output_type": "execute_result"
    }
   ],
   "source": [
    "# multiplying primes\n",
    "t = 1\n",
    "i = 2\n",
    "while t < 10 ** 6:\n",
    "    if small_miller_rabin(i):\n",
    "        if t * i < 10 ** 6:\n",
    "            t *= i\n",
    "        else:\n",
    "            break\n",
    "    i += 1\n",
    "t"
   ]
  },
  {
   "cell_type": "code",
   "execution_count": null,
   "metadata": {},
   "outputs": [],
   "source": []
  }
 ],
 "metadata": {
  "kernelspec": {
   "display_name": "Python 3",
   "language": "python",
   "name": "python3"
  },
  "language_info": {
   "codemirror_mode": {
    "name": "ipython",
    "version": 3
   },
   "file_extension": ".py",
   "mimetype": "text/x-python",
   "name": "python",
   "nbconvert_exporter": "python",
   "pygments_lexer": "ipython3",
   "version": "3.13.1"
  }
 },
 "nbformat": 4,
 "nbformat_minor": 2
}
