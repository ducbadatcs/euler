{
 "cells": [
  {
   "cell_type": "markdown",
   "id": "1033507b",
   "metadata": {},
   "source": [
    "So in this problem, we want to factor a binomial coefficient. Of course we can't do it the usual way."
   ]
  },
  {
   "cell_type": "markdown",
   "id": "2032fd32",
   "metadata": {},
   "source": [
    "Instead of doing it intedned, we use Legendre's formula. Recall the formula for a binomial coefficient:\n",
    "\n",
    "$$\n",
    "\\binom{n}{k} = \\frac{n!}{k!(n - k)!}\n",
    "$$"
   ]
  },
  {
   "cell_type": "markdown",
   "id": "c17cee3c",
   "metadata": {},
   "source": [
    "For any prime $p$, we define a value $v_p(n)$ as the largest integer $a$ such that $p^a | n!$. We can then calculate the corresponding value for $n, k$, call it $f_p(n, k)$:\n",
    "\n",
    "$$\n",
    "f_p(n, k) = v_p(n) - v_p(k) - v_p(n - k)\n",
    "$$"
   ]
  },
  {
   "cell_type": "markdown",
   "id": "0c0b341a",
   "metadata": {},
   "source": [
    "We can calculate $v_p(n)$ via Legendre's formula."
   ]
  },
  {
   "cell_type": "code",
   "execution_count": 1,
   "id": "4ea0f1e7",
   "metadata": {},
   "outputs": [
    {
     "data": {
      "text/plain": [
       "97"
      ]
     },
     "execution_count": 1,
     "metadata": {},
     "output_type": "execute_result"
    }
   ],
   "source": [
    "def v(p: int, n: int) -> int:\n",
    "    t = 1\n",
    "    z = 0\n",
    "    while t <= n:\n",
    "        t *= p\n",
    "        z += n // t\n",
    "    return z\n",
    "\n",
    "v(2, 100)\n",
    "        "
   ]
  },
  {
   "cell_type": "code",
   "execution_count": 2,
   "id": "71c903f5",
   "metadata": {},
   "outputs": [],
   "source": [
    "def f(p: int, n: int, k: int) -> int:\n",
    "    return v(p, n) - v(p, k) - v(p, n - k)"
   ]
  },
  {
   "cell_type": "markdown",
   "id": "fbe62162",
   "metadata": {},
   "source": [
    "Any prime factor of the value $\\binom{20000000}{15000000}$ would be bounded by $20000000$, so we only needed to search the primes up until there. Then, we calculate the multiplitcity of the $p$, then we add into the result."
   ]
  },
  {
   "cell_type": "code",
   "execution_count": 3,
   "id": "3c93aeae",
   "metadata": {},
   "outputs": [
    {
     "data": {
      "text/plain": [
       "[2, 3, 5, 7, 11, 13, 17, 19, 23, 29]"
      ]
     },
     "execution_count": 3,
     "metadata": {},
     "output_type": "execute_result"
    }
   ],
   "source": [
    "import math\n",
    "\n",
    "n = 2 * 10 ** 7\n",
    "l = [True for i in range(n + 1)]\n",
    "l[0] = False\n",
    "l[1] = False\n",
    "for i in range(2, math.isqrt(n + 3) + 3):\n",
    "    if l[i]:\n",
    "        for j in range(i * i, n + 1, i):\n",
    "            l[j] = False\n",
    "m = []\n",
    "for i in range(len(l)):\n",
    "    if l[i] == True:\n",
    "        m.append(i)\n",
    "        \n",
    "m[:10]\n",
    "        "
   ]
  },
  {
   "cell_type": "code",
   "execution_count": 4,
   "id": "bdd6da80",
   "metadata": {},
   "outputs": [
    {
     "data": {
      "text/plain": [
       "1270607"
      ]
     },
     "execution_count": 4,
     "metadata": {},
     "output_type": "execute_result"
    }
   ],
   "source": [
    "len(m)"
   ]
  },
  {
   "cell_type": "markdown",
   "id": "3bea396d",
   "metadata": {},
   "source": [
    "Now we implement the summatory function\n",
    "\n"
   ]
  },
  {
   "cell_type": "code",
   "execution_count": 5,
   "id": "76af119d",
   "metadata": {},
   "outputs": [
    {
     "data": {
      "text/plain": [
       "14"
      ]
     },
     "execution_count": 5,
     "metadata": {},
     "output_type": "execute_result"
    }
   ],
   "source": [
    "\n",
    "result = 0\n",
    "d = {}\n",
    "n = 10\n",
    "k = 3\n",
    "for i in m:\n",
    "    d[i] = f(i, n, k)\n",
    "sum(i * d[i] for i in d)"
   ]
  },
  {
   "cell_type": "code",
   "execution_count": 6,
   "id": "ddf003b6",
   "metadata": {},
   "outputs": [
    {
     "data": {
      "text/plain": [
       "7526965179680"
      ]
     },
     "execution_count": 6,
     "metadata": {},
     "output_type": "execute_result"
    }
   ],
   "source": [
    "result = 0\n",
    "d = {}\n",
    "n = 2 * 10 ** 7\n",
    "k = 15 * 10 ** 6\n",
    "for i in m:\n",
    "    d[i] = f(i, n, k)\n",
    "sum(i * d[i] for i in d)"
   ]
  },
  {
   "cell_type": "code",
   "execution_count": null,
   "id": "1dd49834",
   "metadata": {},
   "outputs": [],
   "source": []
  }
 ],
 "metadata": {
  "kernelspec": {
   "display_name": "Python 3",
   "language": "python",
   "name": "python3"
  },
  "language_info": {
   "codemirror_mode": {
    "name": "ipython",
    "version": 3
   },
   "file_extension": ".py",
   "mimetype": "text/x-python",
   "name": "python",
   "nbconvert_exporter": "python",
   "pygments_lexer": "ipython3",
   "version": "3.13.3"
  }
 },
 "nbformat": 4,
 "nbformat_minor": 5
}
