version https://git-lfs.github.com/spec/v1
oid sha256:cc8fd66e6d07cc435d844e90d79735d56bd5c8679d0e41eb80d69dd2ab330c77
size 12717
