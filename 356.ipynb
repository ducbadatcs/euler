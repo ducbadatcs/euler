{
 "cells": [
  {
   "cell_type": "code",
   "execution_count": 2,
   "id": "d246a7ef",
   "metadata": {},
   "outputs": [
    {
     "data": {
      "text/plain": [
       "1.4901161193847656e-08"
      ]
     },
     "execution_count": 2,
     "metadata": {},
     "output_type": "execute_result"
    }
   ],
   "source": [
    "import math\n",
    "import sys\n",
    "\n",
    "epsilon = math.sqrt(sys.float_info.epsilon)\n",
    "epsilon"
   ]
  },
  {
   "cell_type": "code",
   "execution_count": 10,
   "id": "fe50a3ee",
   "metadata": {},
   "outputs": [
    {
     "data": {
      "text/plain": [
       "3.8661982625090228"
      ]
     },
     "execution_count": 10,
     "metadata": {},
     "output_type": "execute_result"
    }
   ],
   "source": [
    "from typing import Any, Callable\n",
    "\n",
    "def g_max_root(n: int) -> float:\n",
    "    g: Callable[[float], float] = lambda x: math.pow(x, 3) - math.pow(x, 2) * (2 ** n) + n\n",
    "    g_d: Callable[[float], float] = lambda x: math.pow(x, 2) * 3 - x * (2 ** (n + 1))\n",
    "    \n",
    "    v = 20\n",
    "    x = 10\n",
    "    for _ in range(v):\n",
    "        x = x - g(x) / g_d(x)\n",
    "    return x\n",
    "\n",
    "g_max_root(2)"
   ]
  },
  {
   "cell_type": "code",
   "execution_count": 11,
   "id": "62c5ab2e",
   "metadata": {},
   "outputs": [
    {
     "name": "stdout",
     "output_type": "stream",
     "text": [
      "1 1.6180339887498951\n",
      "2 3.8661982625090228\n",
      "3 7.952564127282367\n",
      "4 -0.4924782284921694\n",
      "5 0.3977645731339351\n",
      "6 0.3069230535716767\n",
      "7 0.23406769900765145\n",
      "8 0.17683778319472782\n",
      "9 0.1325996931689455\n",
      "10 0.09882594582714768\n",
      "11 0.07328905760808574\n",
      "12 0.054126945370303534\n",
      "13 0.03983618680808015\n",
      "14 0.029231724411261664\n",
      "15 0.02139541938747056\n",
      "16 0.015625001862645704\n",
      "17 0.0113885784143849\n",
      "18 0.008286407722997095\n",
      "19 0.006019935584335191\n",
      "20 0.004367320277649224\n",
      "21 0.0031644241715318867\n",
      "22 0.0022902420708515617\n",
      "23 0.0016558422811998672\n",
      "24 0.0011960399135109811\n",
      "25 0.0008631674575142119\n",
      "26 0.0006224389054707558\n",
      "27 0.0004485149675513801\n",
      "28 0.0003229676893391336\n",
      "29 0.00023241495074052603\n",
      "30 0.00016715165939490032\n"
     ]
    }
   ],
   "source": [
    "for i in range(1, 31):\n",
    "    print(i, g_max_root(i))"
   ]
  },
  {
   "cell_type": "code",
   "execution_count": 15,
   "id": "2f16901a",
   "metadata": {},
   "outputs": [
    {
     "ename": "TypeError",
     "evalue": "cannot create mpf from x",
     "output_type": "error",
     "traceback": [
      "\u001b[31m---------------------------------------------------------------------------\u001b[39m",
      "\u001b[31mTypeError\u001b[39m                                 Traceback (most recent call last)",
      "\u001b[36mCell\u001b[39m\u001b[36m \u001b[39m\u001b[32mIn[15]\u001b[39m\u001b[32m, line 6\u001b[39m\n\u001b[32m      3\u001b[39m x = Symbol(\u001b[33m\"\u001b[39m\u001b[33mx\u001b[39m\u001b[33m\"\u001b[39m)\n\u001b[32m      5\u001b[39m \u001b[38;5;28;01mfor\u001b[39;00m n \u001b[38;5;129;01min\u001b[39;00m \u001b[38;5;28mrange\u001b[39m(\u001b[32m1\u001b[39m, \u001b[32m31\u001b[39m):\n\u001b[32m----> \u001b[39m\u001b[32m6\u001b[39m     \u001b[38;5;28mprint\u001b[39m(n, \u001b[43mnsolve\u001b[49m\u001b[43m(\u001b[49m\u001b[43mx\u001b[49m\u001b[43m \u001b[49m\u001b[43m*\u001b[49m\u001b[43m*\u001b[49m\u001b[43m \u001b[49m\u001b[32;43m3\u001b[39;49m\u001b[43m \u001b[49m\u001b[43m-\u001b[49m\u001b[43m \u001b[49m\u001b[43m(\u001b[49m\u001b[32;43m2\u001b[39;49m\u001b[43m \u001b[49m\u001b[43m*\u001b[49m\u001b[43m*\u001b[49m\u001b[43m \u001b[49m\u001b[43mn\u001b[49m\u001b[43m)\u001b[49m\u001b[43m \u001b[49m\u001b[43m*\u001b[49m\u001b[43m \u001b[49m\u001b[43m(\u001b[49m\u001b[43mx\u001b[49m\u001b[43m \u001b[49m\u001b[43m*\u001b[49m\u001b[43m*\u001b[49m\u001b[43m \u001b[49m\u001b[32;43m2\u001b[39;49m\u001b[43m)\u001b[49m\u001b[43m \u001b[49m\u001b[43m+\u001b[49m\u001b[43m \u001b[49m\u001b[43mn\u001b[49m\u001b[43m,\u001b[49m\u001b[43m \u001b[49m\u001b[43mx\u001b[49m\u001b[43m)\u001b[49m)\n",
      "\u001b[36mFile \u001b[39m\u001b[32mc:\\Users\\duc\\AppData\\Local\\Programs\\Python\\Python313\\Lib\\site-packages\\sympy\\utilities\\decorator.py:87\u001b[39m, in \u001b[36mconserve_mpmath_dps.<locals>.func_wrapper\u001b[39m\u001b[34m(*args, **kwargs)\u001b[39m\n\u001b[32m     85\u001b[39m dps = mpmath.mp.dps\n\u001b[32m     86\u001b[39m \u001b[38;5;28;01mtry\u001b[39;00m:\n\u001b[32m---> \u001b[39m\u001b[32m87\u001b[39m     \u001b[38;5;28;01mreturn\u001b[39;00m \u001b[43mfunc\u001b[49m\u001b[43m(\u001b[49m\u001b[43m*\u001b[49m\u001b[43margs\u001b[49m\u001b[43m,\u001b[49m\u001b[43m \u001b[49m\u001b[43m*\u001b[49m\u001b[43m*\u001b[49m\u001b[43mkwargs\u001b[49m\u001b[43m)\u001b[49m\n\u001b[32m     88\u001b[39m \u001b[38;5;28;01mfinally\u001b[39;00m:\n\u001b[32m     89\u001b[39m     mpmath.mp.dps = dps\n",
      "\u001b[36mFile \u001b[39m\u001b[32mc:\\Users\\duc\\AppData\\Local\\Programs\\Python\\Python313\\Lib\\site-packages\\sympy\\solvers\\solvers.py:3083\u001b[39m, in \u001b[36mnsolve\u001b[39m\u001b[34m(dict, *args, **kwargs)\u001b[39m\n\u001b[32m   3077\u001b[39m \u001b[38;5;66;03m# the function is much better behaved if there is no denominator\u001b[39;00m\n\u001b[32m   3078\u001b[39m \u001b[38;5;66;03m# but sending the numerator is left to the user since sometimes\u001b[39;00m\n\u001b[32m   3079\u001b[39m \u001b[38;5;66;03m# the function is better behaved when the denominator is present\u001b[39;00m\n\u001b[32m   3080\u001b[39m \u001b[38;5;66;03m# e.g., issue 11768\u001b[39;00m\n\u001b[32m   3082\u001b[39m f = lambdify(fargs, f, modules)\n\u001b[32m-> \u001b[39m\u001b[32m3083\u001b[39m x = sympify(\u001b[43mfindroot\u001b[49m\u001b[43m(\u001b[49m\u001b[43mf\u001b[49m\u001b[43m,\u001b[49m\u001b[43m \u001b[49m\u001b[43mx0\u001b[49m\u001b[43m,\u001b[49m\u001b[43m \u001b[49m\u001b[43m*\u001b[49m\u001b[43m*\u001b[49m\u001b[43mkwargs\u001b[49m\u001b[43m)\u001b[49m)\n\u001b[32m   3084\u001b[39m \u001b[38;5;28;01mif\u001b[39;00m as_dict:\n\u001b[32m   3085\u001b[39m     \u001b[38;5;28;01mreturn\u001b[39;00m [{fargs: x}]\n",
      "\u001b[36mFile \u001b[39m\u001b[32mc:\\Users\\duc\\AppData\\Local\\Programs\\Python\\Python313\\Lib\\site-packages\\mpmath\\calculus\\optimization.py:920\u001b[39m, in \u001b[36mfindroot\u001b[39m\u001b[34m(ctx, f, x0, solver, tol, verbose, verify, **kwargs)\u001b[39m\n\u001b[32m    918\u001b[39m     x0 = [ctx.convert(x) \u001b[38;5;28;01mfor\u001b[39;00m x \u001b[38;5;129;01min\u001b[39;00m x0]\n\u001b[32m    919\u001b[39m \u001b[38;5;28;01melse\u001b[39;00m:\n\u001b[32m--> \u001b[39m\u001b[32m920\u001b[39m     x0 = [\u001b[43mctx\u001b[49m\u001b[43m.\u001b[49m\u001b[43mconvert\u001b[49m\u001b[43m(\u001b[49m\u001b[43mx0\u001b[49m\u001b[43m)\u001b[49m]\n\u001b[32m    922\u001b[39m \u001b[38;5;28;01mif\u001b[39;00m \u001b[38;5;28misinstance\u001b[39m(solver, \u001b[38;5;28mstr\u001b[39m):\n\u001b[32m    923\u001b[39m     \u001b[38;5;28;01mtry\u001b[39;00m:\n",
      "\u001b[36mFile \u001b[39m\u001b[32mc:\\Users\\duc\\AppData\\Local\\Programs\\Python\\Python313\\Lib\\site-packages\\mpmath\\ctx_mp_python.py:671\u001b[39m, in \u001b[36mPythonMPContext.convert\u001b[39m\u001b[34m(ctx, x, strings)\u001b[39m\n\u001b[32m    669\u001b[39m     \u001b[38;5;28;01mtry\u001b[39;00m: \u001b[38;5;28;01mreturn\u001b[39;00m ctx.make_mpf(from_Decimal(x, prec, rounding))\n\u001b[32m    670\u001b[39m     \u001b[38;5;28;01mexcept\u001b[39;00m: \u001b[38;5;28;01mpass\u001b[39;00m\n\u001b[32m--> \u001b[39m\u001b[32m671\u001b[39m \u001b[38;5;28;01mreturn\u001b[39;00m \u001b[43mctx\u001b[49m\u001b[43m.\u001b[49m\u001b[43m_convert_fallback\u001b[49m\u001b[43m(\u001b[49m\u001b[43mx\u001b[49m\u001b[43m,\u001b[49m\u001b[43m \u001b[49m\u001b[43mstrings\u001b[49m\u001b[43m)\u001b[49m\n",
      "\u001b[36mFile \u001b[39m\u001b[32mc:\\Users\\duc\\AppData\\Local\\Programs\\Python\\Python313\\Lib\\site-packages\\mpmath\\ctx_mp.py:634\u001b[39m, in \u001b[36mMPContext._convert_fallback\u001b[39m\u001b[34m(ctx, x, strings)\u001b[39m\n\u001b[32m    632\u001b[39m     \u001b[38;5;28;01melse\u001b[39;00m:\n\u001b[32m    633\u001b[39m         \u001b[38;5;28;01mraise\u001b[39;00m \u001b[38;5;167;01mValueError\u001b[39;00m(\u001b[33m\"\u001b[39m\u001b[33mcan only create mpf from zero-width interval\u001b[39m\u001b[33m\"\u001b[39m)\n\u001b[32m--> \u001b[39m\u001b[32m634\u001b[39m \u001b[38;5;28;01mraise\u001b[39;00m \u001b[38;5;167;01mTypeError\u001b[39;00m(\u001b[33m\"\u001b[39m\u001b[33mcannot create mpf from \u001b[39m\u001b[33m\"\u001b[39m + \u001b[38;5;28mrepr\u001b[39m(x))\n",
      "\u001b[31mTypeError\u001b[39m: cannot create mpf from x"
     ]
    }
   ],
   "source": [
    "from sympy import nsolve, Symbol\n",
    "\n",
    "x = Symbol(\"x\")\n",
    "\n",
    "for n in range(1, 31):\n",
    "    print(n, nsolve(x ** 3 - (2 ** n) * (x ** 2) + n, x))"
   ]
  },
  {
   "cell_type": "code",
   "execution_count": 9,
   "id": "9cffcb6e",
   "metadata": {},
   "outputs": [
    {
     "name": "stdout",
     "output_type": "stream",
     "text": [
      "16.0 -74.0\n"
     ]
    },
    {
     "ename": "ValueError",
     "evalue": "math domain error",
     "output_type": "error",
     "traceback": [
      "\u001b[31m---------------------------------------------------------------------------\u001b[39m",
      "\u001b[31mValueError\u001b[39m                                Traceback (most recent call last)",
      "\u001b[36mCell\u001b[39m\u001b[36m \u001b[39m\u001b[32mIn[9]\u001b[39m\u001b[32m, line 14\u001b[39m\n\u001b[32m     11\u001b[39m     C = math.pow(g, \u001b[32m1\u001b[39m/\u001b[32m3\u001b[39m)\n\u001b[32m     12\u001b[39m     \u001b[38;5;28;01mreturn\u001b[39;00m (-\u001b[32m1\u001b[39m / (\u001b[32m3\u001b[39m * a)) * (b + C + d0 / C)\n\u001b[32m---> \u001b[39m\u001b[32m14\u001b[39m \u001b[43mg_max_root_alt\u001b[49m\u001b[43m(\u001b[49m\u001b[32;43m2\u001b[39;49m\u001b[43m)\u001b[49m\n",
      "\u001b[36mCell\u001b[39m\u001b[36m \u001b[39m\u001b[32mIn[9]\u001b[39m\u001b[32m, line 9\u001b[39m, in \u001b[36mg_max_root_alt\u001b[39m\u001b[34m(n)\u001b[39m\n\u001b[32m      7\u001b[39m d1 = math.pow(b, \u001b[32m3\u001b[39m) * \u001b[32m2\u001b[39m - a * b * c * \u001b[32m9\u001b[39m + math.pow(a, \u001b[32m2\u001b[39m) * d * \u001b[32m27\u001b[39m\n\u001b[32m      8\u001b[39m \u001b[38;5;28mprint\u001b[39m(d0, d1)\n\u001b[32m----> \u001b[39m\u001b[32m9\u001b[39m g = (d1 + \u001b[43mmath\u001b[49m\u001b[43m.\u001b[49m\u001b[43msqrt\u001b[49m\u001b[43m(\u001b[49m\u001b[43mmath\u001b[49m\u001b[43m.\u001b[49m\u001b[43mpow\u001b[49m\u001b[43m(\u001b[49m\u001b[43md1\u001b[49m\u001b[43m,\u001b[49m\u001b[43m \u001b[49m\u001b[32;43m2\u001b[39;49m\u001b[43m)\u001b[49m\u001b[43m \u001b[49m\u001b[43m-\u001b[49m\u001b[43m \u001b[49m\u001b[43mmath\u001b[49m\u001b[43m.\u001b[49m\u001b[43mpow\u001b[49m\u001b[43m(\u001b[49m\u001b[43md0\u001b[49m\u001b[43m,\u001b[49m\u001b[43m \u001b[49m\u001b[32;43m3\u001b[39;49m\u001b[43m)\u001b[49m\u001b[43m \u001b[49m\u001b[43m*\u001b[49m\u001b[43m \u001b[49m\u001b[32;43m4\u001b[39;49m\u001b[43m)\u001b[49m) / \u001b[32m2\u001b[39m\n\u001b[32m     10\u001b[39m \u001b[38;5;28mprint\u001b[39m(g)\n\u001b[32m     11\u001b[39m C = math.pow(g, \u001b[32m1\u001b[39m/\u001b[32m3\u001b[39m)\n",
      "\u001b[31mValueError\u001b[39m: math domain error"
     ]
    }
   ],
   "source": [
    "def g_max_root_alt(n: int) -> float:\n",
    "    a = 1\n",
    "    b = -math.pow(2, n)\n",
    "    c = 0\n",
    "    d = n\n",
    "    d0 = b * b - a * c * 3\n",
    "    d1 = math.pow(b, 3) * 2 - a * b * c * 9 + math.pow(a, 2) * d * 27\n",
    "    print(d0, d1)\n",
    "    g = (d1 + math.sqrt(math.pow(d1, 2) - math.pow(d0, 3) * 4)) / 2\n",
    "    print(g)\n",
    "    C = math.pow(g, 1/3)\n",
    "    return (-1 / (3 * a)) * (b + C + d0 / C)\n",
    "\n",
    "g_max_root_alt(2)"
   ]
  },
  {
   "cell_type": "code",
   "execution_count": null,
   "id": "f8d64add",
   "metadata": {},
   "outputs": [],
   "source": []
  }
 ],
 "metadata": {
  "kernelspec": {
   "display_name": "Python 3",
   "language": "python",
   "name": "python3"
  },
  "language_info": {
   "codemirror_mode": {
    "name": "ipython",
    "version": 3
   },
   "file_extension": ".py",
   "mimetype": "text/x-python",
   "name": "python",
   "nbconvert_exporter": "python",
   "pygments_lexer": "ipython3",
   "version": "3.13.3"
  }
 },
 "nbformat": 4,
 "nbformat_minor": 5
}
