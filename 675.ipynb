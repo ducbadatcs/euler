{
 "cells": [
  {
   "cell_type": "code",
   "execution_count": 1,
   "metadata": {},
   "outputs": [],
   "source": [
    "import math\n",
    "import numpy as np"
   ]
  },
  {
   "cell_type": "markdown",
   "metadata": {},
   "source": [
    "Approach: We note that for integer $n$:\n",
    "\n",
    "$$\n",
    "\\sum_{d | n} 2^{\\omega(d)} = d(n^2)\n",
    "$$\n",
    "\n",
    "where $d(n)$ is the number of divisors of $n$: if $n = \\prod_{i=1}^{\\omega(n)} {p_i}^{a_i}$ for all $p_i$ prime, then\n",
    "\n",
    "$$\n",
    "d(n) = \\prod_{i=1}^{\\omega(n)} (a_i + 1)\n",
    "$$\n",
    "\n",
    "Thus it is sufficient to obtain a factorization of $n$, then multiply all the exponents by $2$ (corresponding to factorization of $n^2$)\n"
   ]
  },
  {
   "cell_type": "code",
   "execution_count": 2,
   "metadata": {},
   "outputs": [
    {
     "name": "stdout",
     "output_type": "stream",
     "text": [
      "[2, 3, 5, 7, 11, 13, 17, 19, 23, 29, 31, 37, 41, 43, 47, 53, 59, 61, 67, 71]\n",
      "664579\n"
     ]
    }
   ],
   "source": [
    "n = 10  ** 7 + 1\n",
    "l = [True for i in range(n)]\n",
    "l[0] = False\n",
    "l[1] = False\n",
    "for i in range(2, math.isqrt(n) + 1):\n",
    "    if l[i]:\n",
    "        for j in range(i * i, n, i):\n",
    "            l[j] = False\n",
    "m = [i for i in range(2, n) if l[i]]\n",
    "print(m[:20])\n",
    "print(len(m))"
   ]
  },
  {
   "cell_type": "markdown",
   "metadata": {},
   "source": [
    "First, we obtain the factorization of the factorial. We can do this with Legendre's Formula"
   ]
  },
  {
   "cell_type": "code",
   "execution_count": 5,
   "metadata": {},
   "outputs": [
    {
     "data": {
      "text/plain": [
       "4"
      ]
     },
     "execution_count": 5,
     "metadata": {},
     "output_type": "execute_result"
    }
   ],
   "source": [
    "def v_pf(p: int, n: int) -> int:\n",
    "    # f suffix indicates factorial\n",
    "    t = 0\n",
    "    i = 1\n",
    "    while i <= n:\n",
    "        i *= p\n",
    "        t += n // i\n",
    "    return t\n",
    "\n",
    "v_pf(3, 9)"
   ]
  },
  {
   "cell_type": "code",
   "execution_count": 9,
   "metadata": {},
   "outputs": [],
   "source": [
    "# loop over\n",
    "d = {i: 0 for i in m}"
   ]
  },
  {
   "cell_type": "code",
   "execution_count": 10,
   "metadata": {},
   "outputs": [
    {
     "data": {
      "text/plain": [
       "29"
      ]
     },
     "execution_count": 10,
     "metadata": {},
     "output_type": "execute_result"
    }
   ],
   "source": [
    "# ok need to check how bisect works again\n",
    "import bisect\n",
    "m[bisect.bisect_right(m, 23)]"
   ]
  },
  {
   "cell_type": "code",
   "execution_count": null,
   "metadata": {},
   "outputs": [],
   "source": [
    "import bisect\n",
    "z = 10 ** 7\n",
    "t = 0\n",
    "q = 1000000087\n",
    "for i in range(2, z + 1):\n",
    "    x = i\n",
    "    # loop over m[j]\n",
    "    d = {}\n",
    "    for j in range(bisect.bisect_right(m, i)):\n",
    "        while x % m[j] == 0:\n",
    "            if d.get(m[j]) is None:\n",
    "                d[m[j]] = 1  \n",
    "            else: \n",
    "                d[m[j]] += 1\n",
    "            x //= m[j]\n",
    "        if x == 1:\n",
    "            break\n",
    "    v = 1\n",
    "    # print(i, d)\n",
    "    for j in d:\n",
    "        if d[j] != 0:\n",
    "            v = (v * (2 * d[j] + 1)) % q\n",
    "        else:\n",
    "            break\n",
    "    t = (t + v) % q\n",
    "print(t % q)\n"
   ]
  },
  {
   "cell_type": "code",
   "execution_count": null,
   "metadata": {},
   "outputs": [],
   "source": []
  }
 ],
 "metadata": {
  "kernelspec": {
   "display_name": "Python 3",
   "language": "python",
   "name": "python3"
  },
  "language_info": {
   "codemirror_mode": {
    "name": "ipython",
    "version": 3
   },
   "file_extension": ".py",
   "mimetype": "text/x-python",
   "name": "python",
   "nbconvert_exporter": "python",
   "pygments_lexer": "ipython3",
   "version": "3.13.3"
  }
 },
 "nbformat": 4,
 "nbformat_minor": 2
}
