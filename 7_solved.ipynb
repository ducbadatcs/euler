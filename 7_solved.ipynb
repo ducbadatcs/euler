{
 "cells": [
  {
   "cell_type": "code",
   "execution_count": 1,
   "metadata": {},
   "outputs": [],
   "source": [
    "import math\n",
    "import numpy as np "
   ]
  },
  {
   "cell_type": "markdown",
   "metadata": {},
   "source": [
    "Algorithm: just brute force for it lol"
   ]
  },
  {
   "cell_type": "code",
   "execution_count": 2,
   "metadata": {},
   "outputs": [
    {
     "data": {
      "text/plain": [
       "True"
      ]
     },
     "execution_count": 2,
     "metadata": {},
     "output_type": "execute_result"
    }
   ],
   "source": [
    "def small_miller_rabin(n: int) -> bool:\n",
    "    p = [2, 3, 5, 7]\n",
    "    d = n - 1\n",
    "    s = 0\n",
    "    while d % 2 == 0:\n",
    "        d //= 2\n",
    "        s += 1\n",
    "    for i in p:\n",
    "        if n == i:\n",
    "            return True\n",
    "        elif n % i == 0:\n",
    "            return False\n",
    "        a = i\n",
    "        x = pow(a, d, n)\n",
    "        for _ in range(s):\n",
    "            y = pow(x, 2, n)\n",
    "            if y == 1 and x != 1 and x != n - 1:\n",
    "                return False\n",
    "            x = y\n",
    "        if y != 1:\n",
    "            return False\n",
    "    return True\n",
    "\n",
    "\n",
    "small_miller_rabin(10 ** 9 + 7)"
   ]
  },
  {
   "cell_type": "code",
   "execution_count": 6,
   "metadata": {},
   "outputs": [
    {
     "name": "stdout",
     "output_type": "stream",
     "text": [
      "104743\n"
     ]
    }
   ],
   "source": [
    "n = 10001\n",
    "t = 2\n",
    "while n > 0:\n",
    "    if small_miller_rabin(t):\n",
    "        n -= 1\n",
    "    t += 1\n",
    "print(t - 1)"
   ]
  },
  {
   "cell_type": "code",
   "execution_count": null,
   "metadata": {},
   "outputs": [],
   "source": []
  }
 ],
 "metadata": {
  "kernelspec": {
   "display_name": "Python 3",
   "language": "python",
   "name": "python3"
  },
  "language_info": {
   "codemirror_mode": {
    "name": "ipython",
    "version": 3
   },
   "file_extension": ".py",
   "mimetype": "text/x-python",
   "name": "python",
   "nbconvert_exporter": "python",
   "pygments_lexer": "ipython3",
   "version": "3.12.6"
  }
 },
 "nbformat": 4,
 "nbformat_minor": 2
}
