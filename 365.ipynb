{
 "cells": [
  {
   "cell_type": "code",
   "execution_count": 1,
   "metadata": {},
   "outputs": [],
   "source": [
    "import math"
   ]
  },
  {
   "cell_type": "markdown",
   "metadata": {},
   "source": [
    "For this problem, we need to identify $$\\begin{pmatrix} 10^{18} \\\\ 10^9 \\end{pmatrix} \\mod p$$ for an aribtary prime $p$ in that range $[1001, 4999]$ using [Lucas's theorem](https://en.wikipedia.org/wiki/Lucas%27s_theorem#Statement)"
   ]
  },
  {
   "cell_type": "markdown",
   "metadata": {},
   "source": [
    "First we need to write a number $m$ in base $p$"
   ]
  },
  {
   "cell_type": "code",
   "execution_count": 2,
   "metadata": {},
   "outputs": [
    {
     "data": {
      "text/plain": [
       "[1, 1]"
      ]
     },
     "execution_count": 2,
     "metadata": {},
     "output_type": "execute_result"
    }
   ],
   "source": [
    "def expand_base(n: int, p: int) -> list[int]:\n",
    "    l = []\n",
    "    while n > 0:\n",
    "        l.append(n % p)\n",
    "        n //= p\n",
    "    return l[::-1]\n",
    "\n",
    "expand_base(101, 100)"
   ]
  },
  {
   "cell_type": "markdown",
   "metadata": {},
   "source": [
    "We generate the set of factorials from $0$ to $5000$, and use it for modulos via bigint-mod-smallint scenario. I'm smart"
   ]
  },
  {
   "cell_type": "code",
   "execution_count": 3,
   "metadata": {},
   "outputs": [
    {
     "name": "stdout",
     "output_type": "stream",
     "text": [
      "3628800\n"
     ]
    }
   ],
   "source": [
    "# since this is Python it allows us to do exceptionally stupid things\n",
    "import sys\n",
    "sys.set_int_max_str_digits(0)\n",
    "\n",
    "fac = [\"1\"]\n",
    "for i in range(1, 5001):\n",
    "    fac.append(str(int(fac[-1]) * i))\n",
    "print(fac[10])"
   ]
  },
  {
   "cell_type": "code",
   "execution_count": 4,
   "metadata": {},
   "outputs": [
    {
     "data": {
      "text/plain": [
       "0"
      ]
     },
     "execution_count": 4,
     "metadata": {},
     "output_type": "execute_result"
    }
   ],
   "source": [
    "def largeint_mod(s: str, p: int) -> int:\n",
    "    t = 0\n",
    "    for i in s:\n",
    "        t = (10 * t + int(i)) % p\n",
    "    return t % p\n",
    "\n",
    "largeint_mod(fac[100], 5000)"
   ]
  },
  {
   "cell_type": "code",
   "execution_count": 5,
   "metadata": {},
   "outputs": [
    {
     "data": {
      "text/plain": [
       "6"
      ]
     },
     "execution_count": 5,
     "metadata": {},
     "output_type": "execute_result"
    }
   ],
   "source": [
    "def factorial_mod(n: int, p: int) -> int:\n",
    "    global fac\n",
    "    # we can optimize this a bit\n",
    "    if n >= p: return 0\n",
    "    return largeint_mod(fac[n], p)\n",
    "\n",
    "def factorial_mod_inverse(n: int, p: int) -> int:\n",
    "    global fac\n",
    "    a = factorial_mod(n, p)\n",
    "    if math.gcd(a, p) > 1: return -1 # fun fact gcd handles the case a = 0 too\n",
    "    else: return pow(a, p - 2, p)\n",
    "    \n",
    "factorial_mod(6, 7)"
   ]
  },
  {
   "cell_type": "code",
   "execution_count": 6,
   "metadata": {},
   "outputs": [
    {
     "data": {
      "text/plain": [
       "348"
      ]
     },
     "execution_count": 6,
     "metadata": {},
     "output_type": "execute_result"
    }
   ],
   "source": [
    "def binomial_coefficient_mod(m: int, n: int, p: int) -> int:\n",
    "    v = expand_base(m, p)\n",
    "    z = expand_base(n, p)\n",
    "    while len(v) < len(z):\n",
    "        v = [0] + v\n",
    "    while len(z) < len(v):\n",
    "        z = [0] + z\n",
    "    \n",
    "    t = 1\n",
    "    for x, y in zip(v, z):\n",
    "        if x < y: \n",
    "            t = 0\n",
    "            break\n",
    "        t = (t * factorial_mod(x, p)) % p\n",
    "        t = (t * factorial_mod_inverse(y, p)) % p\n",
    "        t = (t * factorial_mod_inverse(x - y, p)) % p\n",
    "    return t\n",
    "\n",
    "math.comb(1124, 14) % (419)"
   ]
  },
  {
   "cell_type": "code",
   "execution_count": 7,
   "metadata": {},
   "outputs": [
    {
     "data": {
      "text/plain": [
       "348"
      ]
     },
     "execution_count": 7,
     "metadata": {},
     "output_type": "execute_result"
    }
   ],
   "source": [
    "binomial_coefficient_mod(1124, 14, 419)"
   ]
  },
  {
   "cell_type": "markdown",
   "metadata": {},
   "source": [
    "ok so we just take this function to steal primes"
   ]
  },
  {
   "cell_type": "code",
   "execution_count": 17,
   "metadata": {},
   "outputs": [
    {
     "name": "stdout",
     "output_type": "stream",
     "text": [
      "[1009, 1013, 1019, 1021, 1031, 1033, 1039, 1049, 1051, 1061, 1063, 1069, 1087, 1091, 1093, 1097, 1103, 1109, 1117, 1123, 1129, 1151, 1153, 1163, 1171, 1181, 1187, 1193, 1201, 1213, 1217, 1223, 1229, 1231, 1237, 1249, 1259, 1277, 1279, 1283, 1289, 1291, 1297, 1301, 1303, 1307, 1319, 1321, 1327, 1361, 1367, 1373, 1381, 1399, 1409, 1423, 1427, 1429, 1433, 1439, 1447, 1451, 1453, 1459, 1471, 1481, 1483, 1487, 1489, 1493, 1499, 1511, 1523, 1531, 1543, 1549, 1553, 1559, 1567, 1571, 1579, 1583, 1597, 1601, 1607, 1609, 1613, 1619, 1621, 1627, 1637, 1657, 1663, 1667, 1669, 1693, 1697, 1699, 1709, 1721, 1723, 1733, 1741, 1747, 1753, 1759, 1777, 1783, 1787, 1789, 1801, 1811, 1823, 1831, 1847, 1861, 1867, 1871, 1873, 1877, 1879, 1889, 1901, 1907, 1913, 1931, 1933, 1949, 1951, 1973, 1979, 1987, 1993, 1997, 1999, 2003, 2011, 2017, 2027, 2029, 2039, 2053, 2063, 2069, 2081, 2083, 2087, 2089, 2099, 2111, 2113, 2129, 2131, 2137, 2141, 2143, 2153, 2161, 2179, 2203, 2207, 2213, 2221, 2237, 2239, 2243, 2251, 2267, 2269, 2273, 2281, 2287, 2293, 2297, 2309, 2311, 2333, 2339, 2341, 2347, 2351, 2357, 2371, 2377, 2381, 2383, 2389, 2393, 2399, 2411, 2417, 2423, 2437, 2441, 2447, 2459, 2467, 2473, 2477, 2503, 2521, 2531, 2539, 2543, 2549, 2551, 2557, 2579, 2591, 2593, 2609, 2617, 2621, 2633, 2647, 2657, 2659, 2663, 2671, 2677, 2683, 2687, 2689, 2693, 2699, 2707, 2711, 2713, 2719, 2729, 2731, 2741, 2749, 2753, 2767, 2777, 2789, 2791, 2797, 2801, 2803, 2819, 2833, 2837, 2843, 2851, 2857, 2861, 2879, 2887, 2897, 2903, 2909, 2917, 2927, 2939, 2953, 2957, 2963, 2969, 2971, 2999, 3001, 3011, 3019, 3023, 3037, 3041, 3049, 3061, 3067, 3079, 3083, 3089, 3109, 3119, 3121, 3137, 3163, 3167, 3169, 3181, 3187, 3191, 3203, 3209, 3217, 3221, 3229, 3251, 3253, 3257, 3259, 3271, 3299, 3301, 3307, 3313, 3319, 3323, 3329, 3331, 3343, 3347, 3359, 3361, 3371, 3373, 3389, 3391, 3407, 3413, 3433, 3449, 3457, 3461, 3463, 3467, 3469, 3491, 3499, 3511, 3517, 3527, 3529, 3533, 3539, 3541, 3547, 3557, 3559, 3571, 3581, 3583, 3593, 3607, 3613, 3617, 3623, 3631, 3637, 3643, 3659, 3671, 3673, 3677, 3691, 3697, 3701, 3709, 3719, 3727, 3733, 3739, 3761, 3767, 3769, 3779, 3793, 3797, 3803, 3821, 3823, 3833, 3847, 3851, 3853, 3863, 3877, 3881, 3889, 3907, 3911, 3917, 3919, 3923, 3929, 3931, 3943, 3947, 3967, 3989, 4001, 4003, 4007, 4013, 4019, 4021, 4027, 4049, 4051, 4057, 4073, 4079, 4091, 4093, 4099, 4111, 4127, 4129, 4133, 4139, 4153, 4157, 4159, 4177, 4201, 4211, 4217, 4219, 4229, 4231, 4241, 4243, 4253, 4259, 4261, 4271, 4273, 4283, 4289, 4297, 4327, 4337, 4339, 4349, 4357, 4363, 4373, 4391, 4397, 4409, 4421, 4423, 4441, 4447, 4451, 4457, 4463, 4481, 4483, 4493, 4507, 4513, 4517, 4519, 4523, 4547, 4549, 4561, 4567, 4583, 4591, 4597, 4603, 4621, 4637, 4639, 4643, 4649, 4651, 4657, 4663, 4673, 4679, 4691, 4703, 4721, 4723, 4729, 4733, 4751, 4759, 4783, 4787, 4789, 4793, 4799, 4801, 4813, 4817, 4831, 4861, 4871, 4877, 4889, 4903, 4909, 4919, 4931, 4933, 4937, 4943, 4951, 4957, 4967, 4969, 4973, 4987, 4993, 4999] 501\n"
     ]
    }
   ],
   "source": [
    "def small_miller_rabin(n: int) -> bool:\n",
    "    p = [2, 3, 5, 7, 11, 13, 17, 19]\n",
    "    d = n - 1\n",
    "    s = 0\n",
    "    while d % 2 == 0:\n",
    "        d //= 2\n",
    "        s += 1\n",
    "    for i in p:\n",
    "        if n == i:\n",
    "            return True\n",
    "        elif n % i == 0:\n",
    "            return False\n",
    "        a = i\n",
    "        x = pow(a, d, n)\n",
    "        for _ in range(s):\n",
    "            y = pow(x, 2, n)\n",
    "            if y == 1 and x != 1 and x != n - 1:\n",
    "                return False\n",
    "            x = y\n",
    "        if y != 1:\n",
    "            return False\n",
    "    return True\n",
    "\n",
    "\n",
    "primes = [i for i in range(1001, 5000) if small_miller_rabin(i)]\n",
    "print(primes, len(primes))"
   ]
  },
  {
   "cell_type": "code",
   "execution_count": 15,
   "metadata": {},
   "outputs": [],
   "source": [
    "a = 2084212\n",
    "b = 41\n",
    "for i in primes:\n",
    "    if math.comb(a, b) % i != binomial_coefficient_mod(a, b, i):\n",
    "        print(i)\n",
    "        break"
   ]
  },
  {
   "cell_type": "markdown",
   "metadata": {},
   "source": [
    "ok so our binomial mod function is probably legit\n",
    "let's construct the big mod "
   ]
  },
  {
   "cell_type": "code",
   "execution_count": 18,
   "metadata": {},
   "outputs": [],
   "source": [
    "p_mod = {i: binomial_coefficient_mod(10 ** 18, 10 ** 9, i) for i in primes}"
   ]
  },
  {
   "cell_type": "code",
   "execution_count": 11,
   "metadata": {},
   "outputs": [
    {
     "data": {
      "text/plain": [
       "376"
      ]
     },
     "execution_count": 11,
     "metadata": {},
     "output_type": "execute_result"
    }
   ],
   "source": [
    "list(p_mod.values()).count(0)"
   ]
  },
  {
   "cell_type": "code",
   "execution_count": 12,
   "metadata": {},
   "outputs": [
    {
     "data": {
      "text/plain": [
       "(316, 210)"
      ]
     },
     "execution_count": 12,
     "metadata": {},
     "output_type": "execute_result"
    }
   ],
   "source": [
    "# would be better to code this seperately\n",
    "def modular_inverse(a: int, p: int) -> int:\n",
    "    return pow(a, p - 2, p)\n",
    "\n",
    "def crt(values: list[tuple[int, int]]) -> tuple[int, int]:\n",
    "    # i[0] are the modulus, i[1] is the prime itself\n",
    "    n = len(values)\n",
    "    l = [i[0] for i in values]\n",
    "    p = [i[1] for i in values]\n",
    "    M = [1 for i in range(n)]\n",
    "    \n",
    "    m = 1\n",
    "    for i in p:\n",
    "        m *= i\n",
    "    M = [m // i for i in p]\n",
    "    N = [modular_inverse(M[i], p[i]) for i in range(n)]\n",
    "    t = 0\n",
    "    m = 1\n",
    "    for i, x, y in zip(values, M, N):\n",
    "        t += i[0] * x * y\n",
    "        m *= i[1]\n",
    "    return (t, m)\n",
    "\n",
    "# test: a mod 2 = 0, a mod 3 = 1, a mod 5 = 1\n",
    "crt([(0, 2), (1, 3), (1, 5), (1, 7)])"
   ]
  },
  {
   "cell_type": "code",
   "execution_count": 13,
   "metadata": {},
   "outputs": [
    {
     "name": "stdout",
     "output_type": "stream",
     "text": [
      "397836820380158570970\n"
     ]
    }
   ],
   "source": [
    "import itertools\n",
    "t = 0\n",
    "\n",
    "# def modular_inverse(a: int, p: int) -> int:\n",
    "#     return pow(a % p, p - 2, p)\n",
    "\n",
    "for i in itertools.combinations(primes, 3):\n",
    "    p, q, r = i[0], i[1], i[2]\n",
    "    # CHINESE\n",
    "    t += crt([\n",
    "        (p_mod[i], i) for i in [p, q, r]\n",
    "    ])[0]\n",
    "    \n",
    "print(t)"
   ]
  },
  {
   "cell_type": "code",
   "execution_count": 14,
   "metadata": {},
   "outputs": [
    {
     "name": "stdout",
     "output_type": "stream",
     "text": [
      "(1, 4, 7)\n",
      "(2, 5, 8)\n",
      "(3, 6, 9)\n"
     ]
    }
   ],
   "source": [
    "for a in zip([1, 2, 3], [4, 5, 6], [7, 8 ,9]):\n",
    "    print(a)"
   ]
  },
  {
   "cell_type": "code",
   "execution_count": null,
   "metadata": {},
   "outputs": [],
   "source": []
  }
 ],
 "metadata": {
  "kernelspec": {
   "display_name": "Python 3",
   "language": "python",
   "name": "python3"
  },
  "language_info": {
   "codemirror_mode": {
    "name": "ipython",
    "version": 3
   },
   "file_extension": ".py",
   "mimetype": "text/x-python",
   "name": "python",
   "nbconvert_exporter": "python",
   "pygments_lexer": "ipython3",
   "version": "3.12.6"
  }
 },
 "nbformat": 4,
 "nbformat_minor": 2
}
