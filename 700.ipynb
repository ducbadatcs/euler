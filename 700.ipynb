{
 "cells": [
  {
   "cell_type": "code",
   "execution_count": 1,
   "metadata": {},
   "outputs": [],
   "source": [
    "import math\n",
    "import numpy as np"
   ]
  },
  {
   "cell_type": "code",
   "execution_count": 2,
   "metadata": {},
   "outputs": [
    {
     "data": {
      "text/plain": [
       "True"
      ]
     },
     "execution_count": 2,
     "metadata": {},
     "output_type": "execute_result"
    }
   ],
   "source": [
    "a = 1504170715041707\n",
    "m = 4503599627370517\n",
    "\n",
    "\n",
    "def small_miller_rabin(n: int) -> bool:\n",
    "    if n < 2:\n",
    "        return False\n",
    "    p = [2, 3, 5, 7, 11, 13, 17, 19]\n",
    "    d = n - 1\n",
    "    s = 0\n",
    "    while d % 2 == 0:\n",
    "        d //= 2\n",
    "        s += 1\n",
    "    for i in p:\n",
    "        if n == i:\n",
    "            return True\n",
    "        elif n % i == 0:\n",
    "            return False\n",
    "        a = i\n",
    "        x = pow(a, d, n)\n",
    "        for _ in range(s):\n",
    "            y = pow(x, 2, n)\n",
    "            if y == 1 and x != 1 and x != n - 1:\n",
    "                return False\n",
    "            x = y\n",
    "        if y != 1:\n",
    "            return False\n",
    "    return True\n",
    "\n",
    "\n",
    "small_miller_rabin(m)"
   ]
  },
  {
   "cell_type": "code",
   "execution_count": 3,
   "metadata": {},
   "outputs": [
    {
     "data": {
      "text/plain": [
       "3451657199285664"
      ]
     },
     "execution_count": 3,
     "metadata": {},
     "output_type": "execute_result"
    }
   ],
   "source": [
    "def prime_modular_inverse(a: int, m: int) -> int:\n",
    "    return pow(a, m - 2, m)\n",
    "\n",
    "prime_modular_inverse(a, m)"
   ]
  },
  {
   "cell_type": "code",
   "execution_count": 2,
   "metadata": {},
   "outputs": [
    {
     "name": "stdout",
     "output_type": "stream",
     "text": [
      "1504170715041707 0\n",
      "8912517754604 2\n",
      "2044785486369 505\n",
      "1311409677241 2526\n",
      "578033868113 4547\n",
      "422691927098 11116\n",
      "267349986083 17685\n",
      "112008045068 24254\n",
      "68674149121 55078\n",
      "25340253174 85902\n",
      "7346610401 202629\n",
      "4046188430 724616\n",
      "745766459 1246603\n",
      "428410324 6755006\n",
      "111054189 12263409\n",
      "15806432 42298632\n",
      "15397267 326125653\n",
      "14988102 609952674\n",
      "14578937 893779695\n",
      "14169772 1177606716\n",
      "13760607 1461433737\n",
      "13351442 1745260758\n",
      "12942277 2029087779\n",
      "12533112 2312914800\n",
      "12123947 2596741821\n",
      "11714782 2880568842\n",
      "11305617 3164395863\n",
      "10896452 3448222884\n",
      "10487287 3732049905\n",
      "10078122 4015876926\n",
      "9668957 4299703947\n",
      "9259792 4583530968\n",
      "8850627 4867357989\n",
      "8441462 5151185010\n",
      "8032297 5435012031\n",
      "7623132 5718839052\n",
      "7213967 6002666073\n",
      "6804802 6286493094\n",
      "6395637 6570320115\n",
      "5986472 6854147136\n",
      "5577307 7137974157\n",
      "5168142 7421801178\n",
      "4758977 7705628199\n",
      "4349812 7989455220\n",
      "3940647 8273282241\n",
      "3531482 8557109262\n",
      "3122317 8840936283\n",
      "2713152 9124763304\n",
      "2303987 9408590325\n",
      "1894822 9692417346\n",
      "1485657 9976244367\n",
      "1517926515475983\n"
     ]
    }
   ],
   "source": [
    "x = 0\n",
    "def euler_seq() -> int:\n",
    "    global x\n",
    "    x = (x + a) % m\n",
    "    return x\n",
    "\n",
    "m = 10 ** 100    \n",
    "# search up until range for eulercoins\n",
    "n = 10 ** 10\n",
    "t = 0               \n",
    "for _ in range(n):\n",
    "    z = euler_seq()\n",
    "    if z < m:\n",
    "        m = z\n",
    "        t += z\n",
    "        print(z, _)\n",
    "print(t)"
   ]
  },
  {
   "cell_type": "code",
   "execution_count": 3,
   "metadata": {},
   "outputs": [
    {
     "name": "stdout",
     "output_type": "stream",
     "text": [
      "1517926515475983\n"
     ]
    }
   ],
   "source": [
    "print(t)"
   ]
  },
  {
   "cell_type": "code",
   "execution_count": 4,
   "metadata": {},
   "outputs": [
    {
     "data": {
      "text/plain": [
       "1"
      ]
     },
     "execution_count": 4,
     "metadata": {},
     "output_type": "execute_result"
    }
   ],
   "source": [
    "math.gcd(1504170715041707, 4503599627370517)"
   ]
  },
  {
   "cell_type": "code",
   "execution_count": null,
   "metadata": {},
   "outputs": [],
   "source": [
    "def small_miller_rabin(n: int) -> bool:\n",
    "    if n < 2:\n",
    "        return False\n",
    "    p = [2, 3, 5, 7]\n",
    "    d = n - 1\n",
    "    s = 0\n",
    "    while d % 2 == 0:\n",
    "        d //= 2\n",
    "        s += 1\n",
    "    for i in p:\n",
    "        if n == i:\n",
    "            return True\n",
    "        elif n % i == 0:\n",
    "            return False\n",
    "        a = i\n",
    "        x = pow(a, d, n)\n",
    "        for _ in range(s):\n",
    "            y = pow(x, 2, n)\n",
    "            if y == 1 and x != 1 and x != n - 1:\n",
    "                return False\n",
    "            x = y\n",
    "        if y != 1:\n",
    "            return False\n",
    "    return True\n",
    "\n",
    "\n",
    "l = [p for p in range(20001) if small_miller_rabin(p)]\n",
    "print(len(l))"
   ]
  }
 ],
 "metadata": {
  "kernelspec": {
   "display_name": ".venv",
   "language": "python",
   "name": "python3"
  },
  "language_info": {
   "codemirror_mode": {
    "name": "ipython",
    "version": 3
   },
   "file_extension": ".py",
   "mimetype": "text/x-python",
   "name": "python",
   "nbconvert_exporter": "python",
   "pygments_lexer": "ipython3",
   "version": "3.12.6"
  }
 },
 "nbformat": 4,
 "nbformat_minor": 2
}
