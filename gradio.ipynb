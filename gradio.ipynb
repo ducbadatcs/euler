{
 "cells": [
  {
   "cell_type": "code",
   "execution_count": 3,
   "metadata": {},
   "outputs": [
    {
     "name": "stdout",
     "output_type": "stream",
     "text": [
      "Defaulting to user installation because normal site-packages is not writeable\n",
      "Looking in indexes: https://pypi.org/simple, https://pypi.nvidia.com\n",
      "Requirement already satisfied: gradio_client in c:\\users\\minhduc\\appdata\\roaming\\python\\python313\\site-packages (1.7.1)\n",
      "Collecting ffmpeg\n",
      "  Downloading ffmpeg-1.4.tar.gz (5.1 kB)\n",
      "  Installing build dependencies: started\n",
      "  Installing build dependencies: finished with status 'done'\n",
      "  Getting requirements to build wheel: started\n",
      "  Getting requirements to build wheel: finished with status 'done'\n",
      "  Preparing metadata (pyproject.toml): started\n",
      "  Preparing metadata (pyproject.toml): finished with status 'done'\n",
      "Requirement already satisfied: fsspec in c:\\users\\minhduc\\appdata\\roaming\\python\\python313\\site-packages (from gradio_client) (2024.10.0)\n",
      "Requirement already satisfied: httpx>=0.24.1 in c:\\users\\minhduc\\appdata\\roaming\\python\\python313\\site-packages (from gradio_client) (0.28.1)\n",
      "Requirement already satisfied: huggingface-hub>=0.19.3 in c:\\users\\minhduc\\appdata\\roaming\\python\\python313\\site-packages (from gradio_client) (0.29.1)\n",
      "Requirement already satisfied: packaging in c:\\users\\minhduc\\appdata\\roaming\\python\\python313\\site-packages (from gradio_client) (24.1)\n",
      "Requirement already satisfied: typing-extensions~=4.0 in c:\\users\\minhduc\\appdata\\roaming\\python\\python313\\site-packages (from gradio_client) (4.12.2)\n",
      "Requirement already satisfied: websockets<15.0,>=10.0 in c:\\users\\minhduc\\appdata\\roaming\\python\\python313\\site-packages (from gradio_client) (14.2)\n",
      "Requirement already satisfied: anyio in c:\\users\\minhduc\\appdata\\roaming\\python\\python313\\site-packages (from httpx>=0.24.1->gradio_client) (4.8.0)\n",
      "Requirement already satisfied: certifi in c:\\users\\minhduc\\appdata\\roaming\\python\\python313\\site-packages (from httpx>=0.24.1->gradio_client) (2024.12.14)\n",
      "Requirement already satisfied: httpcore==1.* in c:\\users\\minhduc\\appdata\\roaming\\python\\python313\\site-packages (from httpx>=0.24.1->gradio_client) (1.0.7)\n",
      "Requirement already satisfied: idna in c:\\users\\minhduc\\appdata\\roaming\\python\\python313\\site-packages (from httpx>=0.24.1->gradio_client) (3.10)\n",
      "Requirement already satisfied: h11<0.15,>=0.13 in c:\\users\\minhduc\\appdata\\roaming\\python\\python313\\site-packages (from httpcore==1.*->httpx>=0.24.1->gradio_client) (0.14.0)\n",
      "Requirement already satisfied: filelock in c:\\users\\minhduc\\appdata\\roaming\\python\\python313\\site-packages (from huggingface-hub>=0.19.3->gradio_client) (3.16.1)\n",
      "Requirement already satisfied: pyyaml>=5.1 in c:\\users\\minhduc\\appdata\\roaming\\python\\python313\\site-packages (from huggingface-hub>=0.19.3->gradio_client) (6.0.2)\n",
      "Requirement already satisfied: requests in c:\\users\\minhduc\\appdata\\roaming\\python\\python313\\site-packages (from huggingface-hub>=0.19.3->gradio_client) (2.32.3)\n",
      "Requirement already satisfied: tqdm>=4.42.1 in c:\\users\\minhduc\\appdata\\roaming\\python\\python313\\site-packages (from huggingface-hub>=0.19.3->gradio_client) (4.67.1)\n",
      "Requirement already satisfied: colorama in c:\\users\\minhduc\\appdata\\roaming\\python\\python313\\site-packages (from tqdm>=4.42.1->huggingface-hub>=0.19.3->gradio_client) (0.4.6)\n",
      "Requirement already satisfied: sniffio>=1.1 in c:\\users\\minhduc\\appdata\\roaming\\python\\python313\\site-packages (from anyio->httpx>=0.24.1->gradio_client) (1.3.1)\n",
      "Requirement already satisfied: charset-normalizer<4,>=2 in c:\\users\\minhduc\\appdata\\roaming\\python\\python313\\site-packages (from requests->huggingface-hub>=0.19.3->gradio_client) (3.4.1)\n",
      "Requirement already satisfied: urllib3<3,>=1.21.1 in c:\\users\\minhduc\\appdata\\roaming\\python\\python313\\site-packages (from requests->huggingface-hub>=0.19.3->gradio_client) (2.3.0)\n",
      "Building wheels for collected packages: ffmpeg\n",
      "  Building wheel for ffmpeg (pyproject.toml): started\n",
      "  Building wheel for ffmpeg (pyproject.toml): finished with status 'done'\n",
      "  Created wheel for ffmpeg: filename=ffmpeg-1.4-py3-none-any.whl size=6138 sha256=29f10c0fc85f2fdc74fa9445a50c31b6c3f0299efa7927e42330c1d6c4e2e04d\n",
      "  Stored in directory: c:\\users\\minhduc\\appdata\\local\\pip\\cache\\wheels\\a4\\04\\6c\\ab972358c48aedc5be02f1d28968f2baa491a2837270932043\n",
      "Successfully built ffmpeg\n",
      "Installing collected packages: ffmpeg\n",
      "Successfully installed ffmpeg-1.4\n"
     ]
    },
    {
     "name": "stderr",
     "output_type": "stream",
     "text": [
      "\n",
      "[notice] A new release of pip is available: 25.0 -> 25.0.1\n",
      "[notice] To update, run: python.exe -m pip install --upgrade pip\n"
     ]
    }
   ],
   "source": [
    "!pip install gradio_client ffmpeg"
   ]
  },
  {
   "cell_type": "code",
   "execution_count": 10,
   "metadata": {},
   "outputs": [
    {
     "name": "stdout",
     "output_type": "stream",
     "text": [
      "Loaded as API: https://f313a04c270706f299.gradio.live/ ✔\n",
      " Hello mọi người, hình như hình đây trên tay mình đây đang là MFIO GD10 Một em tay nghe vừa mới ra mắt của nhà FIO Có giá là 250k Các bạn không nghe lầm đâu, đúng là 250k thôi Bây giờ mình sẽ unbox xem thử bên trong có những gì hả? Đầu tiên mình sẽ mở hộp xem thử bên trong có những gì trước đã Hàng sẽ chăm bị với chúng ta 2 cấp tiếp để có thể thay đổi tích cỡ, tiếp tay nghe cho phù hợp với người dùng Thì đây là nhân vật chính của chúng ta\n"
     ]
    }
   ],
   "source": [
    "from gradio_client import Client, handle_file\n",
    "\n",
    "client = Client(\"https://f313a04c270706f299.gradio.live/\")\n",
    "result = client.predict(\n",
    "    audio=handle_file(\"./tainghe_cut.mp3\"),\n",
    "    api_name=\"/predict\",\n",
    "    # show_error=True\n",
    ")\n",
    "print(result)"
   ]
  },
  {
   "cell_type": "code",
   "execution_count": null,
   "metadata": {},
   "outputs": [],
   "source": []
  }
 ],
 "metadata": {
  "kernelspec": {
   "display_name": "Python 3",
   "language": "python",
   "name": "python3"
  },
  "language_info": {
   "codemirror_mode": {
    "name": "ipython",
    "version": 3
   },
   "file_extension": ".py",
   "mimetype": "text/x-python",
   "name": "python",
   "nbconvert_exporter": "python",
   "pygments_lexer": "ipython3",
   "version": "3.13.1"
  }
 },
 "nbformat": 4,
 "nbformat_minor": 2
}
