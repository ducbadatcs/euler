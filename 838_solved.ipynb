{
 "cells": [
  {
   "cell_type": "code",
   "execution_count": 1,
   "metadata": {},
   "outputs": [],
   "source": [
    "import math\n",
    "import numpy as np"
   ]
  },
  {
   "cell_type": "code",
   "execution_count": 2,
   "metadata": {},
   "outputs": [
    {
     "data": {
      "text/plain": [
       "True"
      ]
     },
     "execution_count": 2,
     "metadata": {},
     "output_type": "execute_result"
    }
   ],
   "source": [
    "def small_miller_rabin(n: int) -> bool:\n",
    "    p = [2, 3, 5, 7, 11, 13, 17]\n",
    "    d = n - 1\n",
    "    s = 0\n",
    "    while d % 2 == 0:\n",
    "        d //= 2\n",
    "        s += 1\n",
    "    for i in p:\n",
    "        if n == i:\n",
    "            return True\n",
    "        elif n % i == 0:\n",
    "            return False\n",
    "        a = i\n",
    "        x = pow(a, d, n)\n",
    "        for _ in range(s):\n",
    "            y = pow(x, 2, n)\n",
    "            if y == 1 and x != 1 and x != n - 1:\n",
    "                return False\n",
    "            x = y\n",
    "        if y != 1:\n",
    "            return False\n",
    "    return True\n",
    "\n",
    "\n",
    "small_miller_rabin(10 ** 9 + 7)"
   ]
  },
  {
   "cell_type": "code",
   "execution_count": 3,
   "metadata": {},
   "outputs": [
    {
     "name": "stdout",
     "output_type": "stream",
     "text": [
      "78498\n"
     ]
    }
   ],
   "source": [
    "n = 10 ** 6\n",
    "l = [True for i in range(n + 1)]\n",
    "for i in range(2, math.isqrt(n) + 1):\n",
    "    if l[i]:\n",
    "        for j in range(i * i, n + 1, i):\n",
    "            l[j] = False\n",
    "l[0] = False\n",
    "l[1] = False\n",
    "m = [i for i in range(n + 1) if l[i]]\n",
    "print(len(m))"
   ]
  },
  {
   "cell_type": "code",
   "execution_count": 4,
   "metadata": {},
   "outputs": [
    {
     "name": "stdout",
     "output_type": "stream",
     "text": [
      "2\n"
     ]
    }
   ],
   "source": [
    "def product_coprime_number(l: list[int], n: int) -> bool:\n",
    "    for i in l:\n",
    "        if math.gcd(i, n) > 1:\n",
    "            return False\n",
    "    return True\n",
    "\n",
    "def smallest_prime_factor(n: int) -> int:\n",
    "    global m\n",
    "    global l\n",
    "    # if l[n]: return n\n",
    "    for i in m:\n",
    "        if n % i == 0:\n",
    "            return i\n",
    "        \n",
    "print(smallest_prime_factor(4 ** 5))"
   ]
  },
  {
   "cell_type": "code",
   "execution_count": 5,
   "metadata": {},
   "outputs": [
    {
     "name": "stdout",
     "output_type": "stream",
     "text": [
      "[2, 3, 5, 7, 11, 13, 17, 19, 23, 29, 31, 37, 41, 43, 47, 53, 59, 61, 67, 71, 73, 79, 83, 89, 97, 101, 103, 107, 109, 113, 127, 131, 137, 139, 149, 151, 157, 163, 167, 173, 179, 181, 191, 193, 197, 199, 211, 223, 227, 229, 233, 239, 241, 251, 257, 263, 269, 271, 277, 281, 283, 293, 307, 311, 313, 317, 331, 337, 347, 349, 353, 359, 367, 373, 379, 383, 389, 397, 401, 409, 419, 421, 431, 433, 439, 443, 449, 457, 461, 463, 467, 479, 487, 491, 499, 503, 509, 521, 523, 541]\n"
     ]
    }
   ],
   "source": [
    "print(m[:100])"
   ]
  },
  {
   "cell_type": "code",
   "execution_count": null,
   "metadata": {},
   "outputs": [
    {
     "name": "stdout",
     "output_type": "stream",
     "text": [
      "3 3\n",
      "13 13\n",
      "23 23\n",
      "43 43\n",
      "53 53\n",
      "73 73\n",
      "83 83\n",
      "103 103\n",
      "113 113\n",
      "133 7\n",
      "163 163\n",
      "173 173\n",
      "193 193\n",
      "223 223\n",
      "233 233\n",
      "263 263\n",
      "283 283\n",
      "293 293\n",
      "313 313\n",
      "323 17\n",
      "353 353\n",
      "373 373\n",
      "383 383\n",
      "433 433\n",
      "443 443\n",
      "463 463\n",
      "503 503\n",
      "523 523\n",
      "563 563\n",
      "593 593\n",
      "613 613\n",
      "643 643\n",
      "653 653\n",
      "673 673\n",
      "683 683\n",
      "703 19\n",
      "733 733\n",
      "743 743\n",
      "773 773\n",
      "823 823\n",
      "853 853\n",
      "863 863\n",
      "883 883\n",
      "953 953\n",
      "983 983\n",
      "1013 1013\n",
      "1033 1033\n",
      "1063 1063\n",
      "1073 29\n",
      "1093 1093\n",
      "1103 1103\n",
      "1123 1123\n",
      "1153 1153\n",
      "1163 1163\n",
      "1193 1193\n",
      "1213 1213\n",
      "1223 1223\n",
      "1283 1283\n",
      "1303 1303\n",
      "1373 1373\n",
      "1423 1423\n",
      "1433 1433\n",
      "1453 1453\n",
      "1483 1483\n",
      "1493 1493\n",
      "1523 1523\n",
      "1543 1543\n",
      "1553 1553\n",
      "1583 1583\n",
      "1613 1613\n",
      "1663 1663\n",
      "1693 1693\n",
      "1723 1723\n",
      "1733 1733\n",
      "1753 1753\n",
      "1783 1783\n",
      "1823 1823\n",
      "1873 1873\n",
      "1913 1913\n",
      "1933 1933\n",
      "1973 1973\n",
      "1993 1993\n",
      "2003 2003\n",
      "2053 2053\n",
      "2063 2063\n",
      "2083 2083\n",
      "2113 2113\n",
      "2143 2143\n",
      "2153 2153\n",
      "2183 37\n",
      "2203 2203\n",
      "2213 2213\n",
      "2243 2243\n",
      "2273 2273\n",
      "2293 2293\n",
      "2333 2333\n",
      "2383 2383\n",
      "2393 2393\n",
      "2423 2423\n",
      "2473 2473\n",
      "2503 2503\n",
      "2543 2543\n",
      "2593 2593\n",
      "2633 2633\n",
      "2663 2663\n",
      "2683 2683\n",
      "2693 2693\n",
      "2713 2713\n",
      "2753 2753\n",
      "2773 47\n",
      "[3, 7, 13, 17, 19, 23, 29, 37, 43, 47, 53, 73, 83, 103, 113, 163, 173, 193, 223, 233, 263, 283, 293, 313, 353, 373, 383, 433, 443, 463, 503, 523, 563, 593, 613, 643, 653, 673, 683, 733, 743, 773, 823, 853, 863, 883, 953, 983, 1013, 1033, 1063, 1093, 1103, 1123, 1153, 1163, 1193, 1213, 1223, 1283, 1303, 1373, 1423, 1433, 1453, 1483, 1493, 1523, 1543, 1553, 1583, 1613, 1663, 1693, 1723, 1733, 1753, 1783, 1823, 1873, 1913, 1933, 1973, 1993, 2003, 2053, 2063, 2083, 2113, 2143, 2153, 2203, 2213, 2243, 2273, 2293, 2333, 2383, 2393, 2423, 2473, 2503, 2543, 2593, 2633, 2663, 2683, 2693, 2713, 2753]\n",
      "718.402865277639\n"
     ]
    }
   ],
   "source": [
    "n = 2800\n",
    "       \n",
    "t = set()\n",
    "for i in range(3, n + 1, 10):\n",
    "    if product_coprime_number(t, i):\n",
    "        a = smallest_prime_factor(i)\n",
    "        print(i, a)\n",
    "        t.add(a)\n",
    "\n",
    "# clean that out\n",
    "t = sorted(list(set(t)))\n",
    "print(t)\n",
    "print(sum([math.log(i) for i in t]))"
   ]
  },
  {
   "cell_type": "code",
   "execution_count": 8,
   "metadata": {},
   "outputs": [
    {
     "data": {
      "text/plain": [
       "29.474582378037862"
      ]
     },
     "execution_count": 8,
     "metadata": {},
     "output_type": "execute_result"
    }
   ],
   "source": [
    "math.exp(718.402865277639 - 715.019337)"
   ]
  },
  {
   "cell_type": "code",
   "execution_count": null,
   "metadata": {},
   "outputs": [],
   "source": []
  }
 ],
 "metadata": {
  "kernelspec": {
   "display_name": "Python 3",
   "language": "python",
   "name": "python3"
  },
  "language_info": {
   "codemirror_mode": {
    "name": "ipython",
    "version": 3
   },
   "file_extension": ".py",
   "mimetype": "text/x-python",
   "name": "python",
   "nbconvert_exporter": "python",
   "pygments_lexer": "ipython3",
   "version": "3.13.1"
  }
 },
 "nbformat": 4,
 "nbformat_minor": 2
}
