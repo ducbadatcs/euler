{
 "cells": [
  {
   "cell_type": "markdown",
   "metadata": {},
   "source": [
    "$$\\sum_{i=1}^m x_i = m \\Rightarrow \\max P_m = \\prod_{i=1} {x_i}^i = ?$$"
   ]
  },
  {
   "cell_type": "markdown",
   "metadata": {},
   "source": []
  },
  {
   "cell_type": "markdown",
   "metadata": {},
   "source": [
    "We apply the [Weighted AM-GM Inequality](https://en.wikipedia.org/wiki/AM%E2%80%93GM_inequality#Weighted_AM%E2%80%93GM_inequality) and set the weights $w_i =  i$ for each case. Then $$w = \\sum_{i = 1}^m w_i = \\sum_{i = 1}^m i = \\frac{m(m + 1)}{2}$$"
   ]
  },
  {
   "cell_type": "markdown",
   "metadata": {},
   "source": [
    "and \n",
    "$$\n",
    "\\displaystyle{P_m = \\prod_{i=1} {x_i}^i \\Rightarrow {P_m}^{\\frac{1}{w}} = \\sqrt[w]{\\prod_{i=1} {x_i}^i} \\leq \\frac{\\sum_{i=1}^m w_i x_i}{w} = \\frac{\\sum_{i=1}^m i x_i}{w}} \\\\~\\\\\n",
    "\n",
    "= \\frac{1}{w} \\sum_{i=1}^m i x_i\n",
    "$$\n",
    "\n"
   ]
  },
  {
   "cell_type": "markdown",
   "metadata": {},
   "source": [
    "So in other words the max value of $P_m$ is $\\displaystyle{(\\frac{1}{w} \\sum_{i=1}^m ix_i)^w}$"
   ]
  },
  {
   "cell_type": "markdown",
   "metadata": {},
   "source": [
    "The problem is now "
   ]
  },
  {
   "cell_type": "markdown",
   "metadata": {},
   "source": [
    "this is hard to visualize, let's write it down"
   ]
  },
  {
   "cell_type": "code",
   "execution_count": null,
   "metadata": {},
   "outputs": [
    {
     "data": {
      "text/plain": [
       "array([0.58254829, 0.72265536, 0.88535901, 0.94244568, 0.39386869,\n",
       "       0.69525793, 0.91380337, 0.00613337, 0.0528563 , 0.13617729])"
      ]
     },
     "execution_count": 3,
     "metadata": {},
     "output_type": "execute_result"
    }
   ],
   "source": [
    "import numpy as np\n",
    "\n",
    "m = 10\n",
    "\n"
   ]
  },
  {
   "cell_type": "code",
   "execution_count": 5,
   "metadata": {},
   "outputs": [
    {
     "data": {
      "text/plain": [
       "np.float64(2.2982925569784243)"
      ]
     },
     "execution_count": 5,
     "metadata": {},
     "output_type": "execute_result"
    }
   ],
   "source": [
    "np.pow(4112, 1/10)"
   ]
  },
  {
   "cell_type": "code",
   "execution_count": null,
   "metadata": {},
   "outputs": [],
   "source": []
  },
  {
   "cell_type": "markdown",
   "metadata": {},
   "source": [
    "forget all this, let's try to solve a simpler problem. If $\\sum_{i=1}^m x_i = m$, what is $\\max \\sum_{i=1}^m ix_i$ ?"
   ]
  },
  {
   "cell_type": "markdown",
   "metadata": {},
   "source": []
  }
 ],
 "metadata": {
  "kernelspec": {
   "display_name": "Python 3",
   "language": "python",
   "name": "python3"
  },
  "language_info": {
   "codemirror_mode": {
    "name": "ipython",
    "version": 3
   },
   "file_extension": ".py",
   "mimetype": "text/x-python",
   "name": "python",
   "nbconvert_exporter": "python",
   "pygments_lexer": "ipython3",
   "version": "3.12.9"
  }
 },
 "nbformat": 4,
 "nbformat_minor": 2
}
