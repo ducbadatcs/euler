{
 "cells": [
  {
   "cell_type": "code",
   "execution_count": 2,
   "metadata": {},
   "outputs": [],
   "source": [
    "import math, os, sys, itertools, decimal\n",
    "import numpy as np\n",
    "import pandas as pd\n",
    "import matplotlib.pyplot as plt\n"
   ]
  },
  {
   "cell_type": "code",
   "execution_count": 3,
   "metadata": {},
   "outputs": [
    {
     "data": {
      "text/plain": [
       "True"
      ]
     },
     "execution_count": 3,
     "metadata": {},
     "output_type": "execute_result"
    }
   ],
   "source": [
    "a = int(\"3,317,044,064,679,887,385,961,981\".replace(\",\", \"\"))\n",
    "n = 5 * 10 ** 7\n",
    "2*n**2 < a"
   ]
  },
  {
   "cell_type": "code",
   "execution_count": 3,
   "metadata": {},
   "outputs": [],
   "source": [
    "primes = [2, 3, 5, 7, 11, 13, 17, 19, 23, 29, 31, 37, 41]\n",
    "known_t_factors: list[list[int]] = []\n",
    "\n",
    "def miller_rabin(n: int) -> int:\n",
    "    # return 0 if composite but no info, 1 if prime, and a GCD factor if found\n",
    "    #n - 1 = d * 2^s\n",
    "    primes = [2, 3, 5, 7, 11, 13, 17, 19, 23, 29, 31, 37, 41]\n",
    "    d = n - 1\n",
    "    s = 0\n",
    "    while d % 2 == 0:\n",
    "        d //= 2\n",
    "        s += 1\n",
    "    for i in primes:\n",
    "        if n == i: return True\n",
    "        elif n % i == 0: return False\n",
    "        a = i\n",
    "        x = pow(a, d, n)\n",
    "        for _ in range(s):\n",
    "            y = pow(x, 2, n)\n",
    "            if y == 1 and x != 1 and x != n - 1: \n",
    "                return False\n",
    "            x = y\n",
    "        if y != 1: return False\n",
    "    return True"
   ]
  },
  {
   "cell_type": "code",
   "execution_count": 60,
   "metadata": {},
   "outputs": [],
   "source": []
  },
  {
   "cell_type": "code",
   "execution_count": 5,
   "metadata": {},
   "outputs": [
    {
     "name": "stdout",
     "output_type": "stream",
     "text": [
      "[(89, 217), (287, 257), (1939, 31201), (4031, 24601), (9536, 24311), (11171, 54721), (32383, 1819009), (37829, 131041), (53623, 5297), (109680, 330991), (238721, 80891009), (327229, 6577121), (1920799, 54902401)]\n",
      "5437849\n"
     ]
    }
   ],
   "source": [
    "def T(n: int) -> int: return 2 * n * n - 1\n",
    "\n",
    "def modified_gcd(n: int, m: int) -> int:\n",
    "    # gcd of T(n) and m\n",
    "    n %= m\n",
    "    t = T(n) % m\n",
    "    return math.gcd(t, m)   \n",
    "\n",
    "\n",
    "info = []\n",
    "primes = [2, 3, 5, 7, 11, 13, 17, 19, 23, 29, 31, 37,\n",
    "          41]\n",
    "\n",
    "def modified_miller_rabin(n: int) -> tuple[str, int]:\n",
    "    \"\"\"\n",
    "    return the status code + probable factor\n",
    "    (\"prime\" | \"composite\", arbinary int)\n",
    "    (\"multiple of\" , with an int to prove)\n",
    "    \"\"\"\n",
    "    \n",
    "    m = T(n)\n",
    "    \n",
    "    for z in info:\n",
    "        # if n % z[1] == z[0] % z[1]:\n",
    "        if math.gcd(z[1], n - z[0]) > 1:\n",
    "            return (\"multiple of\", z[1])\n",
    "\n",
    "    d = 1\n",
    "    s = 0\n",
    "    for i in [2, n - 1, n + 1]:\n",
    "        x = i\n",
    "        while x % 2 == 0:\n",
    "            x //= 2\n",
    "            s += 1\n",
    "        d *= x\n",
    "    # print(f\"s = {s}, d = {d}, m = {m}\")\n",
    "    for i in primes:\n",
    "        if m == i:\n",
    "            return (\"prime\", i)\n",
    "        elif m % i == 0:\n",
    "            info.append((n, i))\n",
    "            return (\"multiple of\", i)\n",
    "        a = i \n",
    "        x = pow(a, d, m)\n",
    "        for _ in range(s):\n",
    "            y = pow(x, 2, m)\n",
    "            if y == 1 and x != 1 and x != m - 1:\n",
    "                z = math.gcd(x - 1, m)\n",
    "                info.append((n, z))\n",
    "                return (\"multiple of \", z)\n",
    "            x = y\n",
    "        if y != 1:\n",
    "            return (\"composite\", 0)\n",
    "    return (\"probably prime\", m)\n",
    "    \n",
    "N = 5 * 10 ** 7\n",
    "prange = []\n",
    "for i in range(2, N + 1):\n",
    "    a = modified_miller_rabin(i)\n",
    "    # print(a)\n",
    "    if a[0][-5:] == \"prime\":\n",
    "        prange.append(i)\n",
    "print(info)\n",
    "# print(prange)\n",
    "print(len(prange))"
   ]
  },
  {
   "cell_type": "code",
   "execution_count": 6,
   "metadata": {},
   "outputs": [
    {
     "ename": "KeyboardInterrupt",
     "evalue": "",
     "output_type": "error",
     "traceback": [
      "\u001b[31m---------------------------------------------------------------------------\u001b[39m",
      "\u001b[31mKeyboardInterrupt\u001b[39m                         Traceback (most recent call last)",
      "\u001b[36mCell\u001b[39m\u001b[36m \u001b[39m\u001b[32mIn[6]\u001b[39m\u001b[32m, line 67\u001b[39m\n\u001b[32m     65\u001b[39m \u001b[38;5;28;01mif\u001b[39;00m i % \u001b[32m2\u001b[39m == \u001b[32m0\u001b[39m \u001b[38;5;129;01mand\u001b[39;00m i > \u001b[32m2\u001b[39m:\n\u001b[32m     66\u001b[39m     \u001b[38;5;28;01mcontinue\u001b[39;00m  \u001b[38;5;66;03m# Skip even numbers (except 2)\u001b[39;00m\n\u001b[32m---> \u001b[39m\u001b[32m67\u001b[39m result = \u001b[43mmodified_miller_rabin\u001b[49m\u001b[43m(\u001b[49m\u001b[43mi\u001b[49m\u001b[43m)\u001b[49m\n\u001b[32m     68\u001b[39m \u001b[38;5;28;01mif\u001b[39;00m result[\u001b[32m0\u001b[39m][-\u001b[32m5\u001b[39m:] == \u001b[33m\"\u001b[39m\u001b[33mprime\u001b[39m\u001b[33m\"\u001b[39m:\n\u001b[32m     69\u001b[39m     prange.append(i)\n",
      "\u001b[36mCell\u001b[39m\u001b[36m \u001b[39m\u001b[32mIn[6]\u001b[39m\u001b[32m, line 20\u001b[39m, in \u001b[36mmodified_miller_rabin\u001b[39m\u001b[34m(n)\u001b[39m\n\u001b[32m     12\u001b[39m \u001b[38;5;28;01mdef\u001b[39;00m\u001b[38;5;250m \u001b[39m\u001b[34mmodified_miller_rabin\u001b[39m(n: \u001b[38;5;28mint\u001b[39m) -> \u001b[38;5;28mtuple\u001b[39m[\u001b[38;5;28mstr\u001b[39m, \u001b[38;5;28mint\u001b[39m]:\n\u001b[32m     13\u001b[39m \u001b[38;5;250m    \u001b[39m\u001b[33;03m\"\"\"\u001b[39;00m\n\u001b[32m     14\u001b[39m \u001b[33;03m    Return status code + probable factor:\u001b[39;00m\n\u001b[32m     15\u001b[39m \u001b[33;03m    - (\"prime\", n)\u001b[39;00m\n\u001b[32m     16\u001b[39m \u001b[33;03m    - (\"composite\", 0)\u001b[39;00m\n\u001b[32m     17\u001b[39m \u001b[33;03m    - (\"multiple of\", factor)\u001b[39;00m\n\u001b[32m     18\u001b[39m \u001b[33;03m    \"\"\"\u001b[39;00m\n\u001b[32m---> \u001b[39m\u001b[32m20\u001b[39m     m = \u001b[43mT\u001b[49m\u001b[43m(\u001b[49m\u001b[43mn\u001b[49m\u001b[43m)\u001b[49m\n\u001b[32m     22\u001b[39m     \u001b[38;5;66;03m# Check against previously found factors\u001b[39;00m\n\u001b[32m     23\u001b[39m     \u001b[38;5;28;01mfor\u001b[39;00m z \u001b[38;5;129;01min\u001b[39;00m info:\n",
      "\u001b[36mCell\u001b[39m\u001b[36m \u001b[39m\u001b[32mIn[6]\u001b[39m\u001b[32m, line 4\u001b[39m, in \u001b[36mT\u001b[39m\u001b[34m(n)\u001b[39m\n\u001b[32m      1\u001b[39m \u001b[38;5;28;01mimport\u001b[39;00m\u001b[38;5;250m \u001b[39m\u001b[34;01mmath\u001b[39;00m\n\u001b[32m----> \u001b[39m\u001b[32m4\u001b[39m \u001b[38;5;28;01mdef\u001b[39;00m\u001b[38;5;250m \u001b[39m\u001b[34mT\u001b[39m(n: \u001b[38;5;28mint\u001b[39m) -> \u001b[38;5;28mint\u001b[39m:\n\u001b[32m      5\u001b[39m     \u001b[38;5;28;01mreturn\u001b[39;00m \u001b[32m2\u001b[39m * n * n - \u001b[32m1\u001b[39m\n\u001b[32m      8\u001b[39m info = []\n",
      "\u001b[31mKeyboardInterrupt\u001b[39m: "
     ]
    }
   ],
   "source": [
    "import math\n",
    "\n",
    "\n",
    "def T(n: int) -> int:\n",
    "    return 2 * n * n - 1\n",
    "\n",
    "\n",
    "info = []\n",
    "primes = [2, 3, 5, 7, 11, 13, 17, 19, 23, 29, 31, 37, 41]\n",
    "\n",
    "\n",
    "def modified_miller_rabin(n: int) -> tuple[str, int]:\n",
    "    \"\"\"\n",
    "    Return status code + probable factor:\n",
    "    - (\"prime\", n)\n",
    "    - (\"composite\", 0)\n",
    "    - (\"multiple of\", factor)\n",
    "    \"\"\"\n",
    "\n",
    "    m = T(n)\n",
    "\n",
    "    # Check against previously found factors\n",
    "    for z in info:\n",
    "        if math.gcd(z[1], n - z[0]) > 1:\n",
    "            return (\"multiple of\", z[1])\n",
    "\n",
    "    if m < 2:\n",
    "        return (\"composite\", 0)\n",
    "\n",
    "    # Check small prime divisibility first\n",
    "    for i in primes:\n",
    "        if m == i:\n",
    "            return (\"prime\", i)\n",
    "        if m % i == 0:\n",
    "            info.append((n, i))\n",
    "            return (\"multiple of\", i)\n",
    "\n",
    "    # Miller-Rabin Primality Test\n",
    "    d, s = m - 1, 0\n",
    "    while d % 2 == 0:\n",
    "        d //= 2\n",
    "        s += 1\n",
    "\n",
    "    def check_composite(a):\n",
    "        x = pow(a, d, m)\n",
    "        if x == 1 or x == m - 1:\n",
    "            return False\n",
    "        for _ in range(s - 1):\n",
    "            x = pow(x, 2, m)\n",
    "            if x == m - 1:\n",
    "                return False\n",
    "        return True\n",
    "\n",
    "    test_bases = [2, 3, 5, 7, 11]\n",
    "    for a in test_bases:\n",
    "        if check_composite(a):\n",
    "            return (\"composite\", 0)\n",
    "\n",
    "    return (\"probably prime\", m)\n",
    "\n",
    "\n",
    "N = 5 * 10**7\n",
    "prange = []\n",
    "for i in range(2, N + 1):\n",
    "    if i % 2 == 0 and i > 2:\n",
    "        continue  # Skip even numbers (except 2)\n",
    "    result = modified_miller_rabin(i)\n",
    "    if result[0][-5:] == \"prime\":\n",
    "        prange.append(i)\n",
    "\n",
    "print(info)\n",
    "print(len(prange))"
   ]
  },
  {
   "cell_type": "code",
   "execution_count": null,
   "metadata": {},
   "outputs": [],
   "source": []
  }
 ],
 "metadata": {
  "kernelspec": {
   "display_name": "Python 3",
   "language": "python",
   "name": "python3"
  },
  "language_info": {
   "codemirror_mode": {
    "name": "ipython",
    "version": 3
   },
   "file_extension": ".py",
   "mimetype": "text/x-python",
   "name": "python",
   "nbconvert_exporter": "python",
   "pygments_lexer": "ipython3",
   "version": "3.12.9"
  }
 },
 "nbformat": 4,
 "nbformat_minor": 2
}
