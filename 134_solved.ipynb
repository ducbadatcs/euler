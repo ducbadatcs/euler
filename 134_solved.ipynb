{
 "cells": [
  {
   "cell_type": "code",
   "execution_count": 1,
   "metadata": {},
   "outputs": [],
   "source": [
    "import math"
   ]
  },
  {
   "cell_type": "markdown",
   "metadata": {},
   "source": [
    "To solve this, we look at 2 numbers $a$ and $b$, and define $S(a, b)$ as the smallest number ending with $a$ divisble by $b$. Define $n$ as the number of digits for $a$. Then:\n",
    "\n",
    "$$\n",
    "\\begin{matrix}\n",
    "S(a, b) = k * 10^n + a, & S(a, b) \\mod b = 0 \\\\~\\\\\n",
    "\\Rightarrow k * 10^n \\equiv b - a \\pmod{b} \\\\~\\\\\n",
    "\\Rightarrow k \\equiv (b - a) * 10^{-n} \\pmod{b}\n",
    "\\end{matrix}\n",
    "$$\n",
    "\n",
    "Then we obtain $k$ and calculate the original number."
   ]
  },
  {
   "cell_type": "code",
   "execution_count": 2,
   "metadata": {},
   "outputs": [
    {
     "data": {
      "text/plain": [
       "1219"
      ]
     },
     "execution_count": 2,
     "metadata": {},
     "output_type": "execute_result"
    }
   ],
   "source": [
    "def S(a: int, b: int) -> int:\n",
    "    n = len(str(a))\n",
    "    try:\n",
    "        k = ((b - a) * pow(10, -n, b)) % b\n",
    "    except ValueError:\n",
    "        return 0\n",
    "    return k * 10 ** n + a\n",
    "\n",
    "S(19, 23)"
   ]
  },
  {
   "cell_type": "code",
   "execution_count": 3,
   "metadata": {},
   "outputs": [
    {
     "name": "stdout",
     "output_type": "stream",
     "text": [
      "[2, 3, 5, 7, 11, 13, 17, 19, 23, 29, 31, 37, 41, 43, 47, 53, 59, 61, 67, 71]\n"
     ]
    }
   ],
   "source": [
    "# sieve of erat\n",
    "\n",
    "m = 2 * 10 ** 6 \n",
    "l = [True for i in range(m + 1)]\n",
    "l[0] = False\n",
    "l[1] = False\n",
    "\n",
    "i = 2\n",
    "while i * i < m:\n",
    "    if l[i]:\n",
    "        for p in range(i * i, m + 1, i):\n",
    "            l[p] = False\n",
    "    i += 1\n",
    "    \n",
    "z = []\n",
    "for i in range(2, m + 1):\n",
    "    if l[i]:\n",
    "        z.append(i)\n",
    "        \n",
    "print(z[:20])\n",
    "    "
   ]
  },
  {
   "cell_type": "code",
   "execution_count": 4,
   "metadata": {},
   "outputs": [],
   "source": [
    "z = z[2:]"
   ]
  },
  {
   "cell_type": "code",
   "execution_count": 5,
   "metadata": {},
   "outputs": [
    {
     "data": {
      "text/plain": [
       "18613426663617118"
      ]
     },
     "execution_count": 5,
     "metadata": {},
     "output_type": "execute_result"
    }
   ],
   "source": [
    "t = 0\n",
    "for i in range(len(z) - 1):\n",
    "    if z[i] != 3 and z[i] < 10 ** 6:\n",
    "        t += S(z[i], z[i + 1])\n",
    "t"
   ]
  },
  {
   "cell_type": "code",
   "execution_count": 6,
   "metadata": {},
   "outputs": [
    {
     "data": {
      "text/plain": [
       "0"
      ]
     },
     "execution_count": 6,
     "metadata": {},
     "output_type": "execute_result"
    }
   ],
   "source": [
    "S(3, 5)"
   ]
  },
  {
   "cell_type": "code",
   "execution_count": null,
   "metadata": {},
   "outputs": [],
   "source": []
  }
 ],
 "metadata": {
  "kernelspec": {
   "display_name": "Python 3",
   "language": "python",
   "name": "python3"
  },
  "language_info": {
   "codemirror_mode": {
    "name": "ipython",
    "version": 3
   },
   "file_extension": ".py",
   "mimetype": "text/x-python",
   "name": "python",
   "nbconvert_exporter": "python",
   "pygments_lexer": "ipython3",
   "version": "3.13.1"
  }
 },
 "nbformat": 4,
 "nbformat_minor": 2
}
