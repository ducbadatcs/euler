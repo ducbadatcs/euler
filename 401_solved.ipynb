{
 "cells": [
  {
   "cell_type": "markdown",
   "metadata": {},
   "source": [
    "Formula to sum up a multiplicative function $g$: https://codeforces.com/blog/entry/117635\n",
    "\n",
    "Assume we have multiplicative functions $f, g$. Define the partial sum\n",
    "\n",
    "$$\n",
    "F(x) = \\sum_{i=1}^x f(i), \\ \\ \\ G(x) = \\sum_{i=1}^x g(i)\n",
    "$$\n",
    "\n",
    "So in this notebook, we try to identify $f, g, F, G$ and let\n",
    "\n",
    "$$\n",
    "h(n) = \\sum_{d | n} f(d)g\\left(\\frac{n}{d}\\right) = \\sum_{d | n} f\\left(\\frac{n}{d}\\right)g(d)\n",
    "$$\n",
    "\n",
    "or using Dirichlet convolution: $h = f * g$\n",
    "\n",
    "And calculate the partial sum:\n",
    "\n",
    "$$\n",
    "H(x) = \\sum_{i=1}^x h(i)\n",
    "$$\n",
    "\n",
    "We can do it via the formula \n",
    "$$\n",
    "H(n) = \\sum_{i=1}^{\\left\\lfloor\\sqrt{n}\\right\\rfloor} f(i)G\\left(\\left\\lfloor\\frac{n}{i}\\right\\rfloor\\right) + \\sum_{j=1}^{\\left\\lfloor\\sqrt{n}\\right\\rfloor} g(j)F\\left(\\left\\lfloor \\frac{n}{j} \\right\\rfloor \\right) - F\\left(\\left\\lfloor \\sqrt{n}\\right\\rfloor \\right)G\\left(\\left\\lfloor \\sqrt{n} \\right\\rfloor \\right)"
   ]
  },
  {
   "cell_type": "markdown",
   "metadata": {
    "vscode": {
     "languageId": "plaintext"
    }
   },
   "source": [
    "In problem 401:\n",
    "\n",
    "$$\n",
    "f(x) = 1 \\\\\n",
    "g(x) = \\text{Id}_2(x) = x^2 \\\\\n",
    "F(x) = \\sum_{i=1}^x 1 = x \\\\\n",
    "G(x) = \\sum_{i=1}^x x^2 = \\frac{n(n+1)(2n+1)}{6} \\\\\n",
    "$$"
   ]
  },
  {
   "cell_type": "code",
   "execution_count": 1,
   "metadata": {},
   "outputs": [],
   "source": [
    "import math"
   ]
  },
  {
   "cell_type": "code",
   "execution_count": null,
   "metadata": {},
   "outputs": [],
   "source": [
    "def f(x: int) -> int:\n",
    "    return 1\n",
    "\n",
    "def g(x: int) -> int:\n",
    "    return x * x\n",
    "\n",
    "def F(x: int) -> int:\n",
    "    return x\n",
    "\n",
    "def G(x: int) -> int:\n",
    "    t = x * (x + 1) * (2*x + 1)\n",
    "    return t // 6"
   ]
  },
  {
   "cell_type": "code",
   "execution_count": 3,
   "metadata": {},
   "outputs": [
    {
     "name": "stdout",
     "output_type": "stream",
     "text": [
      "1\n",
      "6\n",
      "16\n",
      "37\n",
      "63\n",
      "113\n"
     ]
    }
   ],
   "source": [
    "def H(n: int) -> int:\n",
    "    t = math.isqrt(n)\n",
    "    x = 0\n",
    "    y = 0\n",
    "    z = 0\n",
    "    for i in range(1, t + 1):\n",
    "        x += f(i) * G(n // i)\n",
    "        y += g(i) * F(n // i)\n",
    "    return x + y - F(t) * G(t)\n",
    "\n",
    "for i in range(1, 7):\n",
    "    print(H(i))"
   ]
  },
  {
   "cell_type": "code",
   "execution_count": 4,
   "metadata": {},
   "outputs": [
    {
     "name": "stdout",
     "output_type": "stream",
     "text": [
      "1\n",
      "6\n",
      "16\n",
      "37\n",
      "63\n",
      "113\n"
     ]
    }
   ],
   "source": [
    "mod = 10**9 + 7\n",
    "\n",
    "def f_mod(x: int) -> int:\n",
    "    return 1 % mod\n",
    "\n",
    "\n",
    "def g_mod(x: int) -> int:\n",
    "    global mod\n",
    "    return (x * x) % mod\n",
    "\n",
    "\n",
    "def F_mod(x: int) -> int:\n",
    "    global mod\n",
    "    return x % mod\n",
    "\n",
    "\n",
    "def G_mod(x: int) -> int:\n",
    "    global mod\n",
    "    t = x * (x + 1) * (2*x + 1)\n",
    "    return (t // 6) % mod\n",
    "\n",
    "    # return t % mod * pow(6, -1, mod) % mod\n",
    "\n",
    "\n",
    "def H_mod(n: int) -> int:\n",
    "    t = math.isqrt(n)\n",
    "    x = 0\n",
    "    y = 0\n",
    "    z = 0\n",
    "    for i in range(1, t + 1):\n",
    "        x += f_mod(i) * G_mod(n // i)\n",
    "        y += g_mod(i) * F_mod(n // i)\n",
    "        x %= mod\n",
    "        y %= mod\n",
    "    return ((x + y % mod) - (F_mod(t) * G_mod(t) % mod) + mod) % mod\n",
    "\n",
    "\n",
    "for i in range(1, 7):\n",
    "    print(H_mod(i))"
   ]
  },
  {
   "cell_type": "code",
   "execution_count": 8,
   "metadata": {},
   "outputs": [
    {
     "data": {
      "text/plain": [
       "400685634386532129948866931891753981281632621"
      ]
     },
     "execution_count": 8,
     "metadata": {},
     "output_type": "execute_result"
    }
   ],
   "source": [
    "H(10 ** 15)"
   ]
  },
  {
   "cell_type": "code",
   "execution_count": null,
   "metadata": {},
   "outputs": [],
   "source": [
    " "
   ]
  }
 ],
 "metadata": {
  "kernelspec": {
   "display_name": "Python 3",
   "language": "python",
   "name": "python3"
  },
  "language_info": {
   "codemirror_mode": {
    "name": "ipython",
    "version": 3
   },
   "file_extension": ".py",
   "mimetype": "text/x-python",
   "name": "python",
   "nbconvert_exporter": "python",
   "pygments_lexer": "ipython3",
   "version": "3.12.9"
  }
 },
 "nbformat": 4,
 "nbformat_minor": 2
}
