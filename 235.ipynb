{
 "cells": [
  {
   "cell_type": "code",
   "execution_count": 1,
   "metadata": {},
   "outputs": [],
   "source": [
    "import math, os, sys, itertools\n",
    "import numpy as np\n",
    "import pandas as pd\n",
    "import matplotlib.pyplot as plt\n",
    "import decimal\n",
    "import mpmath as mp"
   ]
  },
  {
   "cell_type": "code",
   "execution_count": 2,
   "metadata": {},
   "outputs": [
    {
     "name": "stdout",
     "output_type": "stream",
     "text": [
      "Mpmath settings:\n",
      "  mp.prec = 103               [default: 53]\n",
      "  mp.dps = 30                 [default: 15]\n",
      "  mp.trap_complex = False     [default: False]\n"
     ]
    }
   ],
   "source": [
    "mp.mp.dps = 30\n",
    "print(mp.mp)"
   ]
  },
  {
   "cell_type": "code",
   "execution_count": 3,
   "metadata": {},
   "outputs": [
    {
     "data": {
      "text/plain": [
       "float"
      ]
     },
     "execution_count": 3,
     "metadata": {},
     "output_type": "execute_result"
    }
   ],
   "source": [
    "type(float(23))"
   ]
  },
  {
   "cell_type": "code",
   "execution_count": 4,
   "metadata": {},
   "outputs": [],
   "source": [
    "from typing import Callable\n",
    "\n",
    "epsilon: mp.ctx_mp_python.mpf = mp.power(10, -16)\n",
    "def derivative(f: Callable[[mp.ctx_mp_python.mpf], mp.ctx_mp_python.mpf], x: mp.ctx_mp_python.mpf) -> mp.ctx_mp_python.mpf:\n",
    "    return mp.ctx_mp_python.mpf(mp.ctx_mp_python.mpf(f(x + epsilon) - f(x - epsilon)) / mp.ctx_mp_python.mpf(epsilon * 2))"
   ]
  },
  {
   "cell_type": "code",
   "execution_count": 5,
   "metadata": {},
   "outputs": [],
   "source": [
    "def newton_method(f: Callable[[mp.ctx_mp_python.mpf], mp.ctx_mp_python.mpf], a: mp.ctx_mp_python.mpf, x0: mp.ctx_mp_python.mpf) -> mp.ctx_mp_python.mpf:\n",
    "    x: mp.ctx_mp_python.mpf = x0\n",
    "    for _ in range(10 ** 4):\n",
    "        x = x - (f(x) - a) / derivative(f, x)\n",
    "        print(x, f(x))\n",
    "        if math.isclose(f(x), a):\n",
    "            return x\n",
    "    return x"
   ]
  },
  {
   "cell_type": "code",
   "execution_count": 6,
   "metadata": {},
   "outputs": [],
   "source": [
    "def arithmetic_geometric_sum(a: mp.ctx_mp_python.mpf, d: mp.ctx_mp_python.mpf, b: mp.ctx_mp_python.mpf, r: mp.ctx_mp_python.mpf, n: int) -> mp.ctx_mp_python.mpf:\n",
    "    return (a*b - (a + n*d) * b * mp.power(r, n)) / (1 - r) + (d * b * r * (1 - pow(r, n))) / (pow(1 - r, 2))"
   ]
  },
  {
   "cell_type": "code",
   "execution_count": 7,
   "metadata": {},
   "outputs": [],
   "source": [
    "def s(r: mp.ctx_mp_python.mpf) -> mp.ctx_mp_python.mpf:\n",
    "    t = mp.ctx_mp_python.mpf(0)\n",
    "    a = mp.ctx_mp_python.mpf(1)\n",
    "    for k in range(1, 5001):\n",
    "        t += (900 - 3 * k) * a\n",
    "        a *= r\n",
    "    return t\n"
   ]
  },
  {
   "cell_type": "code",
   "execution_count": 8,
   "metadata": {},
   "outputs": [
    {
     "data": {
      "text/plain": [
       "mpf('-23526666.4294883860453791292496046')"
      ]
     },
     "execution_count": 8,
     "metadata": {},
     "output_type": "execute_result"
    }
   ],
   "source": [
    "def S(r: mp.ctx_mp_python.mpf) -> mp.ctx_mp_python.mpf:\n",
    "    return arithmetic_geometric_sum(897, -3, 1, r, 5000)\n",
    "\n",
    "\n",
    "S(1 - 0.0001)"
   ]
  },
  {
   "cell_type": "code",
   "execution_count": null,
   "metadata": {},
   "outputs": [],
   "source": [
    "def arithmetic_geometric_sum(a, d, b, r, n):\n",
    "    r_n = mp.power(r, n)\n",
    "    one_minus_r = mp.mpf(1) - r\n",
    "    return (\n",
    "        (a * b - (a + n * d) * b * r_n) / one_minus_r\n",
    "        + (d * b * r * (1 - r_n)) / (one_minus_r**2)\n",
    "    )\n",
    "\n",
    "\n",
    "# really small\n",
    "def S(r: mp.ctx_mp_python.mpf) -> mp.ctx_mp_python.mpf:\n",
    "    return arithmetic_geometric_sum(897, -3, 1, r, 5000)\n",
    "\n",
    "\n",
    "prec = mp.power(10, -16)\n",
    "\n",
    "\n",
    "def bisection_method(\n",
    "    f: Callable[[mp.ctx_mp_python.mpf], mp.ctx_mp_python.mpf],\n",
    "    l: mp.ctx_mp_python.mpf, r: mp.ctx_mp_python.mpf, a: mp.ctx_mp_python.mpf,\n",
    ") -> mp.ctx_mp_python.mpf:\n",
    "    for _ in range(10 **6):\n",
    "        c = mp.ctx_mp_python.mpf(l + r) / 2.0\n",
    "        z = f(c)\n",
    "        if mp.fabs(mp.fsub(z, a)) < prec:\n",
    "            print(c, z)\n",
    "            return c\n",
    "        # monotone decreasing\n",
    "        if z < a:\n",
    "            l = c\n",
    "        else:\n",
    "            r = c\n",
    "\n",
    "    # If the loop exits without finding the desired value, return the midpoint\n",
    "    return (l + r) / 2\n",
    "        \n",
    "\n",
    "f = bisection_method(s, mp.mpf(0.00000001), mp.mpf(2), mp.mpf(-6 * 10**11))\n",
    "print(f\"Result: {f}\")"
   ]
  },
  {
   "cell_type": "code",
   "execution_count": 19,
   "metadata": {},
   "outputs": [
    {
     "data": {
      "text/plain": [
       "mpf('-5581462350911864201344174863.194629994340744')"
      ]
     },
     "execution_count": 19,
     "metadata": {},
     "output_type": "execute_result"
    }
   ],
   "source": [
    "s(f)"
   ]
  },
  {
   "cell_type": "code",
   "execution_count": 1,
   "metadata": {},
   "outputs": [
    {
     "name": "stdout",
     "output_type": "stream",
     "text": [
      "-8.258333333333333\n",
      "Hoàng Minh Đức\n",
      "105541452\n",
      "\n"
     ]
    }
   ],
   "source": [
    "def average(l: list[float]) -> float:\n",
    "    t = 0\n",
    "    for i in l: t += i\n",
    "    return t / len(l)\n",
    "\n",
    "if __name__ == \"__main__\":\n",
    "    l = [2.5, -1.4, -7.2, -11.7, -13.5, -13.5, -14.9, -15.2, -14.0, -9.7, -2.6, 2.1]\n",
    "    a = average(l)\n",
    "    print(a)\n",
    "    print(\"Hoàng Minh Đức\") # name\n",
    "    print(\"105541452\") # id\n",
    "    print(\"\")"
   ]
  },
  {
   "cell_type": "code",
   "execution_count": null,
   "metadata": {},
   "outputs": [],
   "source": []
  }
 ],
 "metadata": {
  "kernelspec": {
   "display_name": "Python 3",
   "language": "python",
   "name": "python3"
  },
  "language_info": {
   "codemirror_mode": {
    "name": "ipython",
    "version": 3
   },
   "file_extension": ".py",
   "mimetype": "text/x-python",
   "name": "python",
   "nbconvert_exporter": "python",
   "pygments_lexer": "ipython3",
   "version": "3.12.7"
  }
 },
 "nbformat": 4,
 "nbformat_minor": 2
}
