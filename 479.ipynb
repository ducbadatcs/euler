{
 "cells": [
  {
   "cell_type": "markdown",
   "metadata": {},
   "source": [
    "\n",
    "Hi! I am solving Project Euler problem 479.\n",
    "\n",
    "The problem is as follows.\n",
    "\n",
    "> For some $k$, define $a_k, b_k, c_k$ as the three solutions to the equation $$\\frac{1}{x} = \\left(\\frac{k}{x}\\right)^2 (k + x^2) - kx$$\n",
    "> Let $$S(n) = \\sum_{p=1}^n \\sum_{k=1}^n (a_k + b_k)^p(b_k + c_k)^p(c_k + a_k)^p$$ \n",
    "$S(n)$ is always an integer. $S(4) = 51160$. Evaluate $S(10^6) \\mod (10^9 + 7)$.\n",
    "\n",
    "I start by expanding the equation first.\n",
    "\n",
    "$$\n",
    "\\frac{1}{x} = \\left(\\frac{k}{x}\\right)^2 (k + x^2) - kx = \\frac{k^2}{x^2}(k + x^2) - kx \\\\~\\\\= \\frac{k^3}{x^2} + k^2 - kx \\\\~\\\\\n",
    "\\Rightarrow 1 = \\frac{k^3}{x} + k^2x - kx^2 \\Rightarrow x = k^3 + k^2x^2 - kx^3 \\\\~\\\\\n",
    "\\Rightarrow kx^3 -k^2x^2 + x - k^3 = 0\n",
    "$$\n",
    "\n",
    "Let $a_k = a, b_k = b, c_k = c$. Using [Viete's formula](https://en.wikipedia.org/wiki/Vieta%27s_formulas#Example):\n",
    "\n",
    "$$\n",
    "\\begin{cases}\n",
    "a + b + c = k \\\\\n",
    "ab + bc + ac = \\frac{1}{k} \\\\\n",
    "abc = k^2 \n",
    "\\end{cases}\n",
    "$$\n",
    "\n",
    "---\n",
    "\n",
    "Now, consider the product:\n",
    "\n",
    "$$\n",
    "(a + b)(b + c)(a + c) = (a + b)(ab + ac +bc +c^2) \\\\~\\\\ = a^2b + a^2c + abc + ac^2 + ab^2 + abc + b^2c + bc^2 \\\\~\\\\ = (a^2b + ab^2 + abc  + b^2c + bc^2 + abc + a^2c + ac^2 + abc) - abc \\\\~\\\\ = ab(a + b + c) + bc(a + b + c) + ac(a + b + c) - abc \\\\~\\\\ = (ab + bc + ac)(a + b + c) - abc \\\\~\\\\ = \\frac{1}{k} \\times k - k^2  = 1 - k^2\n",
    "$$\n",
    "\n",
    "and \n",
    "\n",
    "$$\n",
    "S(n) = \\sum_{p=1}^n \\sum_{k=1}^n (a_k + b_k)^p(b_k + c_k)^p(c_k + a_k)^p \\\\~\\\\ = \\sum_{p=1}^n \\sum_{k=1}^n \\left[(a_k + b_k)(b_k + c_k)(c_k + a_k)\\right]^p = \\sum_{p=1}^n \\sum_{k=1}^n \\left(1-k^2\\right)^p = \\sum_{k=1}^n \\sum_{p=1}^n \\left(1-k^2\\right)^p \\\\~\\\\ = \\sum_{k=1}^n \\left(\\sum_{p=1}^n \\left(1-k^2\\right)^p \\right)\n",
    "$$\n",
    "\n",
    "Consider the geometric sum $\\displaystyle{\\sum_{p=1}^n \\left(1-k^2\\right)^p}$. Define $a = 1 - k^2$ and $$\\displaystyle{\\sum_{p=1}^n \\left(1-k^2\\right)^p = \\sum_{p=1}^n a^p = \\frac{a^{n + 1} - 1}{a - 1} - 1}$$\n",
    "\n",
    "Therefore $$S(n) = \\sum_{k=1}^n \\left[\\frac{(1-k^2)^{n + 1} - 1}{(1 - k^2) - 1} - 1\\right]$$"
   ]
  },
  {
   "cell_type": "markdown",
   "metadata": {},
   "source": [
    "But the problem is that we need to implement this modulo $10^9 + 7$. Well, first we trim off some parts: \n",
    "$$S(n) = \\sum_{k=1}^n \\left[\\frac{(1-k^2)^{n + 1} - 1}{(1 - k^2) - 1} - 1\\right] \\\\~\\\\ = \\sum_{k=1}^n \\left[\\frac{(1-k^2)^{n + 1} - 1}{-k^2} - 1\\right]$$ \n",
    "\n",
    "Now we need to worry about signs, but that's ez enough"
   ]
  },
  {
   "cell_type": "markdown",
   "metadata": {},
   "source": [
    "Also we take modulo $10^9 + 7$ so we can simply use modular inverses in place of division.\n",
    "\n",
    "Small little proof: Let there be integers $a, b, n$ such that $b = na$ and a prime $p$ that divides none of $a, n, b$ then \n",
    "\n",
    "$$\n",
    "\\frac{an}{a} \\equiv an \\cdot a^{-1} \\equiv n \\pmod p  \n",
    "$$"
   ]
  },
  {
   "cell_type": "code",
   "execution_count": 7,
   "metadata": {},
   "outputs": [
    {
     "data": {
      "text/plain": [
       "2"
      ]
     },
     "execution_count": 7,
     "metadata": {},
     "output_type": "execute_result"
    }
   ],
   "source": [
    "pow(-2, -1, 5)"
   ]
  },
  {
   "cell_type": "code",
   "execution_count": null,
   "metadata": {},
   "outputs": [
    {
     "data": {
      "text/plain": [
       "191541795"
      ]
     },
     "execution_count": 10,
     "metadata": {},
     "output_type": "execute_result"
    },
    {
     "ename": "",
     "evalue": "",
     "output_type": "error",
     "traceback": [
      "\u001b[1;31mThe Kernel crashed while executing code in the current cell or a previous cell. \n",
      "\u001b[1;31mPlease review the code in the cell(s) to identify a possible cause of the failure. \n",
      "\u001b[1;31mClick <a href='https://aka.ms/vscodeJupyterKernelCrash'>here</a> for more info. \n",
      "\u001b[1;31mView Jupyter <a href='command:jupyter.viewOutput'>log</a> for further details."
     ]
    }
   ],
   "source": [
    "# wait\n",
    "# so you're telling me Python's pow function support negative inputs\n",
    "n = 10 ** 6\n",
    "mod = 10 ** 9 + 7\n",
    "t = 0\n",
    "\n",
    "for k in range(1, n + 1):\n",
    "    z = (pow(1 - k * k, n + 1, mod) - 1) % mod\n",
    "    z *= pow(- k * k, -1, mod)\n",
    "    z -= 1\n",
    "    t += z % mod\n",
    "t % mod"
   ]
  },
  {
   "cell_type": "markdown",
   "metadata": {},
   "source": [
    "bonus: how big is $S(n)$ really?\n"
   ]
  },
  {
   "cell_type": "code",
   "execution_count": null,
   "metadata": {},
   "outputs": [],
   "source": [
    "#"
   ]
  }
 ],
 "metadata": {
  "kernelspec": {
   "display_name": "Python 3",
   "language": "python",
   "name": "python3"
  },
  "language_info": {
   "codemirror_mode": {
    "name": "ipython",
    "version": 3
   },
   "file_extension": ".py",
   "mimetype": "text/x-python",
   "name": "python",
   "nbconvert_exporter": "python",
   "pygments_lexer": "ipython3",
   "version": "3.12.9"
  }
 },
 "nbformat": 4,
 "nbformat_minor": 2
}
