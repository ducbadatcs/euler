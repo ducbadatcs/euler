{
 "cells": [
  {
   "cell_type": "markdown",
   "metadata": {},
   "source": [
    "\n",
    "Hi! I am solving Project Euler problem 479.\n",
    "\n",
    "The problem is as follows.\n",
    "\n",
    "> For some $k$, define $a_k, b_k, c_k$ as the three solutions to the equation $$\\frac{1}{x} = \\left(\\frac{k}{x}\\right)^2 (k + x^2) - kx$$\n",
    "> Let $$S(n) = \\sum_{p=1}^n \\sum_{k=1}^n (a_k + b_k)^p(b_k + c_k)^p(c_k + a_k)^p$$ \n",
    "$S(n)$ is always an integer. $S(4) = 51160$. Evaluate $S(10^6) \\mod (10^9 + 7)$.\n",
    "\n",
    "I start by expanding the equation first.\n",
    "\n",
    "$$\n",
    "\\frac{1}{x} = \\left(\\frac{k}{x}\\right)^2 (k + x^2) - kx = \\frac{k^2}{x^2}(k + x^2) - kx \\\\~\\\\= \\frac{k^3}{x^2} + k^2 - kx \\\\~\\\\\n",
    "\\Rightarrow 1 = \\frac{k^3}{x} + k^2x - kx^2 \\Rightarrow x = k^3 + k^2x^2 - kx^3 \\\\~\\\\\n",
    "\\Rightarrow kx^3 -k^2x^2 + x - k^3 = 0\n",
    "$$\n",
    "\n",
    "Let $a_k = a, b_k = b, c_k = c$. Using [Viete's formula](https://en.wikipedia.org/wiki/Vieta%27s_formulas#Example):\n",
    "\n",
    "$$\n",
    "\\begin{cases}\n",
    "a + b + c = k \\\\\n",
    "ab + bc + ac = \\frac{1}{k} \\\\\n",
    "abc = k^2 \n",
    "\\end{cases}\n",
    "$$\n",
    "\n",
    "---\n",
    "\n",
    "Now, consider the product:\n",
    "\n",
    "$$\n",
    "(a + b)(b + c)(a + c) = (a + b)(ab + ac +bc +c^2) \\\\~\\\\ = a^2b + a^2c + abc + ac^2 + ab^2 + abc + b^2c + bc^2 \\\\~\\\\ = (a^2b + ab^2 + abc  + b^2c + bc^2 + abc + a^2c + ac^2 + abc) - abc \\\\~\\\\ = ab(a + b + c) + bc(a + b + c) + ac(a + b + c) - abc \\\\~\\\\ = (ab + bc + ac)(a + b + c) - abc \\\\~\\\\ = \\frac{1}{k} \\times k - k^2  = 1 - k^2\n",
    "$$\n",
    "\n",
    "and \n",
    "\n",
    "$$\n",
    "S(n) = \\sum_{p=1}^n \\sum_{k=1}^n (a_k + b_k)^p(b_k + c_k)^p(c_k + a_k)^p \\\\~\\\\ = \\sum_{p=1}^n \\sum_{k=1}^n \\left[(a_k + b_k)(b_k + c_k)(c_k + a_k)\\right]^p = \\sum_{p=1}^n \\sum_{k=1}^n \\left(1-k^2\\right)^p = \\sum_{k=1}^n \\sum_{p=1}^n \\left(1-k^2\\right)^p \\\\~\\\\ = \\sum_{k=1}^n \\left(\\sum_{p=1}^n \\left(1-k^2\\right)^p \\right)\n",
    "$$\n",
    "\n",
    "Consider the geometric sum $\\displaystyle{\\sum_{p=1}^n \\left(1-k^2\\right)^p}$. Define $a = 1 - k^2$ and $$\\displaystyle{\\sum_{p=1}^n \\left(1-k^2\\right)^p = \\sum_{p=1}^n a^p = \\frac{a^{n + 1} - 1}{a - 1} - 1}$$\n",
    "\n",
    "Therefore $$S(n) = \\sum_{k=1}^n \\left[\\frac{(1-k^2)^{n + 1} - 1}{(1 - k^2) - 1} - 1\\right]$$"
   ]
  },
  {
   "cell_type": "code",
   "execution_count": 8,
   "metadata": {},
   "outputs": [
    {
     "ename": "KeyboardInterrupt",
     "evalue": "",
     "output_type": "error",
     "traceback": [
      "\u001b[31m---------------------------------------------------------------------------\u001b[39m",
      "\u001b[31mKeyboardInterrupt\u001b[39m                         Traceback (most recent call last)",
      "\u001b[36mCell\u001b[39m\u001b[36m \u001b[39m\u001b[32mIn[8]\u001b[39m\u001b[32m, line 16\u001b[39m\n\u001b[32m     13\u001b[39m         t += (fastpow(\u001b[32m1\u001b[39m - k ** \u001b[32m2\u001b[39m, n + \u001b[32m1\u001b[39m) - \u001b[32m1\u001b[39m) // (-k * k) - \u001b[32m1\u001b[39m\n\u001b[32m     14\u001b[39m     \u001b[38;5;28;01mreturn\u001b[39;00m t\n\u001b[32m---> \u001b[39m\u001b[32m16\u001b[39m \u001b[43mS\u001b[49m\u001b[43m(\u001b[49m\u001b[32;43m10\u001b[39;49m\u001b[43m \u001b[49m\u001b[43m*\u001b[49m\u001b[43m*\u001b[49m\u001b[43m \u001b[49m\u001b[32;43m5\u001b[39;49m\u001b[43m)\u001b[49m\n",
      "\u001b[36mCell\u001b[39m\u001b[36m \u001b[39m\u001b[32mIn[8]\u001b[39m\u001b[32m, line 13\u001b[39m, in \u001b[36mS\u001b[39m\u001b[34m(n)\u001b[39m\n\u001b[32m     11\u001b[39m t = \u001b[32m0\u001b[39m\n\u001b[32m     12\u001b[39m \u001b[38;5;28;01mfor\u001b[39;00m k \u001b[38;5;129;01min\u001b[39;00m \u001b[38;5;28mrange\u001b[39m(\u001b[32m1\u001b[39m, n + \u001b[32m1\u001b[39m):\n\u001b[32m---> \u001b[39m\u001b[32m13\u001b[39m     t += (\u001b[43mfastpow\u001b[49m\u001b[43m(\u001b[49m\u001b[32;43m1\u001b[39;49m\u001b[43m \u001b[49m\u001b[43m-\u001b[49m\u001b[43m \u001b[49m\u001b[43mk\u001b[49m\u001b[43m \u001b[49m\u001b[43m*\u001b[49m\u001b[43m*\u001b[49m\u001b[43m \u001b[49m\u001b[32;43m2\u001b[39;49m\u001b[43m,\u001b[49m\u001b[43m \u001b[49m\u001b[43mn\u001b[49m\u001b[43m \u001b[49m\u001b[43m+\u001b[49m\u001b[43m \u001b[49m\u001b[32;43m1\u001b[39;49m\u001b[43m)\u001b[49m - \u001b[32m1\u001b[39m) // (-k * k) - \u001b[32m1\u001b[39m\n\u001b[32m     14\u001b[39m \u001b[38;5;28;01mreturn\u001b[39;00m t\n",
      "\u001b[36mCell\u001b[39m\u001b[36m \u001b[39m\u001b[32mIn[8]\u001b[39m\u001b[32m, line 1\u001b[39m, in \u001b[36mfastpow\u001b[39m\u001b[34m(a, b)\u001b[39m\n\u001b[32m----> \u001b[39m\u001b[32m1\u001b[39m \u001b[38;5;28;01mdef\u001b[39;00m\u001b[38;5;250m \u001b[39m\u001b[34mfastpow\u001b[39m(a: \u001b[38;5;28mint\u001b[39m, b: \u001b[38;5;28mint\u001b[39m) -> \u001b[38;5;28mint\u001b[39m:\n\u001b[32m      2\u001b[39m     t = \u001b[32m1\u001b[39m\n\u001b[32m      3\u001b[39m     \u001b[38;5;28;01mwhile\u001b[39;00m b > \u001b[32m0\u001b[39m:\n",
      "\u001b[31mKeyboardInterrupt\u001b[39m: "
     ]
    }
   ],
   "source": [
    "def fastpow(a: int, b: int) -> int:\n",
    "    t = 1\n",
    "    while b > 0:\n",
    "        if b % 2 == 1:\n",
    "            t = t * a\n",
    "        a *= a\n",
    "        b //= 2\n",
    "    return t\n",
    "\n",
    "def S(n: int) -> int:\n",
    "    t = 0\n",
    "    for k in range(1, n + 1):\n",
    "        t += (fastpow(1 - k ** 2, n + 1) - 1) // (-k * k) - 1\n",
    "    return t\n",
    "\n",
    "S(10 ** 5)"
   ]
  },
  {
   "cell_type": "markdown",
   "metadata": {},
   "source": [
    "But the problem is that we need to implement this modulo $10^9 + 7$. Well, first we trim off some parts: \n",
    "$$S(n) = \\sum_{k=1}^n \\left[\\frac{(1-k^2)^{n + 1} - 1}{(1 - k^2) - 1} - 1\\right] \\\\~\\\\ = \\sum_{k=1}^n \\left[\\frac{(1-k^2)^{n + 1} - 1}{-k^2} - 1\\right]$$ \n",
    "\n",
    "Now we need to worry about signs, but that's ez enough"
   ]
  },
  {
   "cell_type": "code",
   "execution_count": 9,
   "metadata": {},
   "outputs": [],
   "source": [
    "def fastpow_with_sign(a: int, b: int) -> tuple[int, int]:\n",
    "    sign = 0\n",
    "    if a > 0: sign = 1\n",
    "    elif a < 0: sign = 1 if b % 2 == 0 else -1\n",
    "    \n",
    "    return (fastpow(abs(a), abs(b)), sign)"
   ]
  },
  {
   "cell_type": "markdown",
   "metadata": {},
   "source": [
    "Also we take modulo $10^9 + 7$ so we can simply use modular inverses in place of division.\n",
    "\n",
    "Small little proof: Let there be integers $a, b, n$ such that $b = na$ and a prime $p$ that divides none of $a, n, b$ then \n",
    "\n",
    "$$\n",
    "\\frac{an}{a} \\equiv an \\cdot a^{-1} \\equiv n \\pmod p  \n",
    "$$"
   ]
  },
  {
   "cell_type": "code",
   "execution_count": 7,
   "metadata": {},
   "outputs": [
    {
     "data": {
      "text/plain": [
       "2"
      ]
     },
     "execution_count": 7,
     "metadata": {},
     "output_type": "execute_result"
    }
   ],
   "source": [
    "pow(-2, -1, 5)"
   ]
  },
  {
   "cell_type": "code",
   "execution_count": 10,
   "metadata": {},
   "outputs": [
    {
     "data": {
      "text/plain": [
       "191541795"
      ]
     },
     "execution_count": 10,
     "metadata": {},
     "output_type": "execute_result"
    }
   ],
   "source": [
    "# wait\n",
    "# so you're telling me Python's pow function support negative inputs\n",
    "n = 10 ** 6\n",
    "mod = 10 ** 9 + 7\n",
    "t = 0\n",
    "\n",
    "for k in range(1, n + 1):\n",
    "    z = (pow(1 - k * k, n + 1, mod) - 1) % mod\n",
    "    z *= pow(- k * k, -1, mod)\n",
    "    z -= 1\n",
    "    t += z % mod\n",
    "t % mod"
   ]
  },
  {
   "cell_type": "code",
   "execution_count": null,
   "metadata": {},
   "outputs": [],
   "source": []
  }
 ],
 "metadata": {
  "kernelspec": {
   "display_name": "Python 3",
   "language": "python",
   "name": "python3"
  },
  "language_info": {
   "codemirror_mode": {
    "name": "ipython",
    "version": 3
   },
   "file_extension": ".py",
   "mimetype": "text/x-python",
   "name": "python",
   "nbconvert_exporter": "python",
   "pygments_lexer": "ipython3",
   "version": "3.12.9"
  }
 },
 "nbformat": 4,
 "nbformat_minor": 2
}
