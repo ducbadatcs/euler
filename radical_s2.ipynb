{
 "cells": [
  {
   "cell_type": "code",
   "execution_count": 1,
   "metadata": {},
   "outputs": [],
   "source": [
    "import math\n",
    "import mpmath"
   ]
  },
  {
   "cell_type": "markdown",
   "metadata": {},
   "source": [
    "Here, I implement a `Radical_s2` class, which has two values `a, b` of type int. It will be used to define a value of $a + b\\sqrt{2}$. Here, for the sake of necessity, I implement three methods: a constructor for iniitialization, addition and subtraction, and the comparision operator $<$"
   ]
  },
  {
   "cell_type": "markdown",
   "metadata": {},
   "source": [
    "To implement the operator $<$ between two `Radical_s2`, without using floating-point arithmetic, we assume that there are two radicals $a + b\\sqrt{2}$ and $c + d\\sqrt{2}$, and let $a + b\\sqrt{2} < c + d\\sqrt{2}$. Then, we have:\n",
    "\n",
    "$$\n",
    "a + b\\sqrt{2} < c + d\\sqrt{2} \\\\\n",
    "\\Rightarrow (a - c) + (b - d)\\sqrt{2} < 0 \\\\\n",
    "\\Rightarrow (a - c) < (d - b)\\sqrt{2} \\\\\n",
    "$$\n",
    "\n",
    "If $b = d$ then the results depends on $a - c$, and vice versa for $a - c$. Otherwise, if both are nonzero:\n",
    "\n",
    "Let $x = a - c, y = b - d$, with both nonzero (since we did the zero check above). Now we have the equation: \n",
    "\n",
    "$$\n",
    "x < y\\sqrt{2}\n",
    "$$\n",
    "\n",
    "We focus on the signs of these variables:\n",
    "\n",
    "$$\n",
    "\\begin{cases}\n",
    "x <= 0, y >= 0 \\Rightarrow True \\\\\n",
    "x >= 0, y <= 0 \\Rightarrow False\n",
    "\\end{cases}\n",
    "$$\n",
    "\n",
    "We have two cases, where $x$ and $y$ has the same sign. If both $x > 0, y > 0$, then we can easily take \n",
    "\n",
    "$$\n",
    "x < y\\sqrt{2} \\Rightarrow \\frac{x}{y} < \\sqrt{2} \\Rightarrow \\frac{x^2}{y^2} < 2 \\Rightarrow x^2 < 2y^2\n",
    "$$\n",
    "\n",
    "and do the same except flip the sign for $x < 0, y < 0$, except we flip the sign."
   ]
  },
  {
   "cell_type": "code",
   "execution_count": 2,
   "metadata": {},
   "outputs": [],
   "source": [
    "from typing import Any"
   ]
  },
  {
   "cell_type": "code",
   "execution_count": 3,
   "metadata": {},
   "outputs": [],
   "source": [
    "def sgn(n: int) -> int:\n",
    "    # sign function to aid comparison\n",
    "    if n == 0: return 0\n",
    "    return -1 if n < 0 else 1\n",
    "\n",
    "class Radical_s2:\n",
    "    def __init__(self, a: int, b: int = 0) -> None:\n",
    "        self.a: int = a\n",
    "        self.b: int = b\n",
    "    \n",
    "    def __add__(self, other: Any) -> \"Radical_s2\":\n",
    "        if isinstance(other, int):\n",
    "            other = Radical_s2(other, 0)\n",
    "        return Radical_s2(self.a + other.a, self.b + other.b)\n",
    "    \n",
    "    def __sub__(self, other: Any) -> \"Radical_s2\":\n",
    "        if isinstance(other, int):\n",
    "            other = Radical_s2(other, 0)\n",
    "        return Radical_s2(self.a - other.a, self.b - other.b)\n",
    "    \n",
    "    def __mul__(self, other: Any) -> \"Radical_s2\":\n",
    "        if isinstance(other, int):\n",
    "            other = Radical_s2(other, 0)\n",
    "        a = self.a \n",
    "        b = self.b\n",
    "        c = other.a\n",
    "        d = other.b\n",
    "        return Radical_s2(a*c + 2*b*d, a*d + b*c)\n",
    "\n",
    "    \n",
    "    def __eq__(self, other: Any) -> bool:\n",
    "        if isinstance(other, int):\n",
    "            other = Radical_s2(other, 0)\n",
    "        return self.a == other.a and self.b == other.b\n",
    "    \n",
    "    def __lt__(self, other: Any) -> bool:\n",
    "        # variables to copy the progress above\n",
    "        if isinstance(other, int):\n",
    "            other = Radical_s2(other, 0)\n",
    "        elif isinstance(other, float):\n",
    "            return float(self) < float(other) # cba to write the whole thing\n",
    "        a = self.a\n",
    "        b = self.b\n",
    "        c = other.a\n",
    "        d = other.b\n",
    "        # some basic comparisons\n",
    "        if a == c and b == d: return False\n",
    "        elif a == c and b != d: return b < d\n",
    "        elif b == d and a != c: return a < c\n",
    "        # sign compare\n",
    "        else:\n",
    "            x = a - c\n",
    "            y = d - b\n",
    "            # the equal signs are just for fun, we already check for them\n",
    "            if x <= 0 and y >= 0: return True\n",
    "            elif x >= 0 and y <= 0: return False\n",
    "            \n",
    "            elif x >= 0 and y >= 0: return x ** 2 <= 2 * (y ** 2)\n",
    "            else: return x ** 2 >= 2 * (y ** 2) # flip the sign\n",
    "    \n",
    "    def __gt__(self, other: \"Radical_s2\") -> bool:\n",
    "        # excat same thing, just flip signs\n",
    "        # variables to copy the progress above\n",
    "        if isinstance(other, int):\n",
    "            other = Radical_s2(other, 0) # at this point idc anymore\n",
    "        elif isinstance(other, float):\n",
    "            return float(self) > float(other)  # cba to write the whole thing\n",
    "        a = self.a\n",
    "        b = self.b\n",
    "        c = other.a\n",
    "        d = other.b\n",
    "        if a == c and b == d: return False\n",
    "        elif a == c and b != d: return b > d\n",
    "        elif b == d and a != c: return a > c\n",
    "        else:\n",
    "            x = a - c\n",
    "            y = d - b\n",
    "            if x <= 0 and y >= 0: return False\n",
    "            elif x >= 0 and y <= 0: return True\n",
    "            elif x >= 0 and y >= 0: return x ** 2 >= 2 * (y ** 2)\n",
    "            else: return x ** 2 <= 2 * (y ** 2) # flip the sign\n",
    "    \n",
    "    def __float__(self) -> float:\n",
    "        # convert to float to check by eye\n",
    "        return float(self.a) + math.sqrt(2) * self.b \n",
    "    \n",
    "    def __str__(self) -> str:\n",
    "        return f\"{self.a} \" + (\"+\" if self.b > 0 else \"-\") + f\" {abs(self.b)}√2\""
   ]
  },
  {
   "cell_type": "code",
   "execution_count": 4,
   "metadata": {},
   "outputs": [
    {
     "name": "stdout",
     "output_type": "stream",
     "text": [
      "70 + 28√2\n"
     ]
    }
   ],
   "source": [
    "print(Radical_s2(5, 2) * 14)"
   ]
  },
  {
   "cell_type": "code",
   "execution_count": 5,
   "metadata": {},
   "outputs": [
    {
     "name": "stdout",
     "output_type": "stream",
     "text": [
      "5.485281374238571\n",
      "-171.9482681718907\n",
      "True\n"
     ]
    }
   ],
   "source": [
    "a = Radical_s2(-3, 6)\n",
    "b = Radical_s2(2, -123)\n",
    "print(float(a))\n",
    "print(float(b))\n",
    "print(a > b)"
   ]
  },
  {
   "cell_type": "code",
   "execution_count": 6,
   "metadata": {},
   "outputs": [
    {
     "data": {
      "text/plain": [
       "False"
      ]
     },
     "execution_count": 6,
     "metadata": {},
     "output_type": "execute_result"
    }
   ],
   "source": [
    "Radical_s2(1, 1) > 3"
   ]
  },
  {
   "cell_type": "markdown",
   "metadata": {},
   "source": [
    "Now we implement the closest integer function. Consider a radical $a + b\\sqrt{2}$. Since $a$ is already an integer, we investigate the case of $b\\sqrt{2}$, and then add $a$ to the result. We can do by simply taking the square root of $2b^2$ and compare that to integers. But since we don't use floating point, we square them up, and compare the distances."
   ]
  },
  {
   "cell_type": "markdown",
   "metadata": {},
   "source": [
    "Also luckily the answer is always definite, since $\\frac{v^2 + (v + 1)^2}{2}$ can never be an integer, in other words, $2b^2$ can never lie perfectly in between $v^2$ and $(v + 1)^2$, and will therefore be bias towards one. So we just check which is closer, and return the corresponding value. EZ"
   ]
  },
  {
   "cell_type": "code",
   "execution_count": 7,
   "metadata": {},
   "outputs": [
    {
     "name": "stdout",
     "output_type": "stream",
     "text": [
      "0.0 0\n",
      "1.4142135623730951 1\n",
      "2.8284271247461903 3\n",
      "4.242640687119286 4\n",
      "5.656854249492381 6\n",
      "7.0710678118654755 7\n",
      "8.485281374238571 8\n",
      "9.899494936611665 10\n",
      "11.313708498984761 11\n",
      "12.727922061357857 13\n",
      "14.142135623730951 14\n",
      "15.556349186104047 16\n",
      "16.970562748477143 17\n",
      "18.38477631085024 18\n",
      "19.79898987322333 20\n",
      "21.213203435596427 21\n",
      "22.627416997969522 23\n",
      "24.041630560342618 24\n",
      "25.455844122715714 25\n",
      "26.870057685088806 27\n"
     ]
    }
   ],
   "source": [
    "def closest_integer_to_s2(r: int) -> int:\n",
    "    sq = 2 * r * r # precompute this value\n",
    "    v = math.isqrt(sq)\n",
    "    \n",
    "    # now we compare 2 * b * b to see which is closer, v^2 or (v + 1)^2. Return the closer one\n",
    "    x = abs(sq - v * v)\n",
    "    y = abs(sq - (v + 1) * (v + 1))\n",
    "    \n",
    "    # check closer\n",
    "    result = 0\n",
    "    if x < y: result = v\n",
    "    elif x > y: result = v + 1\n",
    "    \n",
    "    return result \n",
    "\n",
    "def closest_integer(r: Radical_s2) -> int:\n",
    "    return r.a + closest_integer_to_s2(r.b)\n",
    "\n",
    "for i in range(20):\n",
    "    t = Radical_s2(0, i)\n",
    "    print(float(t), closest_integer(t))"
   ]
  },
  {
   "cell_type": "code",
   "execution_count": 8,
   "metadata": {},
   "outputs": [
    {
     "name": "stdout",
     "output_type": "stream",
     "text": [
      "-35 + 25√2\n",
      "0.3553390593273775\n"
     ]
    }
   ],
   "source": [
    "# now let's actually go to the logic\n",
    "\n",
    "# f(n): distance between n\\sqrt{2} and the closest integer to that number\n",
    "\n",
    "def f(n: int) -> Radical_s2:\n",
    "    a = closest_integer_to_s2(n)\n",
    "    # -a + n\\sqrt{2}, or a - n\\sqrt{2}\n",
    "    return Radical_s2(-a, n) if Radical_s2(0, n) > a else Radical_s2(a, -n)\n",
    "\n",
    "a = 5\n",
    "print(f(a) * a) \n",
    "print(float(f(a) * a))"
   ]
  },
  {
   "cell_type": "code",
   "execution_count": 14,
   "metadata": {},
   "outputs": [],
   "source": [
    "# and now, the final function\n",
    "def L(n: int) -> Radical_s2:\n",
    "    return f(n) * n"
   ]
  },
  {
   "cell_type": "code",
   "execution_count": 15,
   "metadata": {},
   "outputs": [
    {
     "name": "stdout",
     "output_type": "stream",
     "text": [
      "1\n",
      "2\n",
      "6 - 4√2\n",
      "2\n",
      "0.3431457505076194\n"
     ]
    }
   ],
   "source": [
    "# nơ we can finally do it\n",
    "t = 10 ** 10\n",
    "for i in range(1, 10 ** 6 + 1):\n",
    "    if L(i) < t:\n",
    "        print(i)\n",
    "        t = L(i)\n",
    "        z = i\n",
    "print(t)\n",
    "print(z)\n",
    "print(float(t))"
   ]
  },
  {
   "cell_type": "code",
   "execution_count": 10,
   "metadata": {},
   "outputs": [
    {
     "data": {
      "text/plain": [
       "True"
      ]
     },
     "execution_count": 10,
     "metadata": {},
     "output_type": "execute_result"
    }
   ],
   "source": [
    "Radical_s2(-7, 5) < Radical_s2(6, -4)"
   ]
  },
  {
   "cell_type": "code",
   "execution_count": 12,
   "metadata": {},
   "outputs": [],
   "source": [
    "import numpy as np\n",
    "import matplotlib.pyplot as plt"
   ]
  },
  {
   "cell_type": "code",
   "execution_count": null,
   "metadata": {},
   "outputs": [],
   "source": [
    "z = np.arange(1, 1001)\n",
    "v = np.array()"
   ]
  },
  {
   "cell_type": "code",
   "execution_count": 28,
   "metadata": {},
   "outputs": [
    {
     "name": "stdout",
     "output_type": "stream",
     "text": [
      "2\n",
      "0.3431457505076194\n"
     ]
    }
   ],
   "source": [
    "def f(a: float) -> float:\n",
    "    return math.fabs(a - round(a))\n",
    "\n",
    "def L(n: int) -> float:\n",
    "    # the function itself\n",
    "    return n * f(n * math.sqrt(2))\n",
    "\n",
    "t = 10 ** 10 # some big value\n",
    "z = 0\n",
    "for i in range(1, 10 ** 7 + 1):\n",
    "    if L(i) <= t:\n",
    "        z = i\n",
    "        t = L(i)\n",
    "        \n",
    "print(z)\n",
    "print(t)"
   ]
  },
  {
   "cell_type": "code",
   "execution_count": 15,
   "metadata": {},
   "outputs": [
    {
     "name": "stdout",
     "output_type": "stream",
     "text": [
      "1\n",
      "0.2679491924311228\n"
     ]
    },
    {
     "data": {
      "text/plain": [
       "[<matplotlib.lines.Line2D at 0x1c2b49d0a50>]"
      ]
     },
     "execution_count": 15,
     "metadata": {},
     "output_type": "execute_result"
    },
    {
     "data": {
      "image/png": "[encoded data removed]",
      "text/plain": [
       "<Figure size 640x480 with 1 Axes>"
      ]
     },
     "metadata": {},
     "output_type": "display_data"
    }
   ],
   "source": [
    "import numpy as np\n",
    "import matplotlib.pyplot as plt\n",
    "import math\n",
    "\n",
    "def f(a: float) -> float:\n",
    "    return math.fabs(a - round(a))\n",
    "\n",
    "def L(n: int) -> float:\n",
    "    # the function itself\n",
    "    return n * f(n * math.sqrt(3))\n",
    "\n",
    "x = np.arange(1, 100001)\n",
    "\n",
    "y = np.array([np.log(L(i)) for i in x])\n",
    "\n",
    "t = 10 ** 10  # some big value\n",
    "z = 0\n",
    "for i in range(1, 10 ** 7 + 1):\n",
    "    if L(i) <= t:\n",
    "        z = i\n",
    "        t = L(i)\n",
    "\n",
    "print(z)\n",
    "print(t)\n",
    "\n",
    "\n",
    "plt.plot(x, y)"
   ]
  },
  {
   "cell_type": "code",
   "execution_count": null,
   "metadata": {},
   "outputs": [],
   "source": []
  }
 ],
 "metadata": {
  "kernelspec": {
   "display_name": "Python 3",
   "language": "python",
   "name": "python3"
  },
  "language_info": {
   "codemirror_mode": {
    "name": "ipython",
    "version": 3
   },
   "file_extension": ".py",
   "mimetype": "text/x-python",
   "name": "python",
   "nbconvert_exporter": "python",
   "pygments_lexer": "ipython3",
   "version": "3.13.1"
  }
 },
 "nbformat": 4,
 "nbformat_minor": 2
}
