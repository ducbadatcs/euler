{
 "cells": [
  {
   "cell_type": "code",
   "execution_count": null,
   "metadata": {},
   "outputs": [
    {
     "ename": "",
     "evalue": "",
     "output_type": "error",
     "traceback": [
      "\u001b[1;31mThe Kernel crashed while executing code in the current cell or a previous cell. \n",
      "\u001b[1;31mPlease review the code in the cell(s) to identify a possible cause of the failure. \n",
      "\u001b[1;31mClick <a href='https://aka.ms/vscodeJupyterKernelCrash'>here</a> for more info. \n",
      "\u001b[1;31mView Jupyter <a href='command:jupyter.viewOutput'>log</a> for further details."
     ]
    }
   ],
   "source": [
    "import math"
   ]
  },
  {
   "cell_type": "markdown",
   "metadata": {},
   "source": [
    "We have\n",
    "\n",
    "$$\n",
    "\\varphi(n) = n \\prod_{p \\ | \\ n} \\left(1 - \\frac{1}{p} \\right)\n",
    "$$\n",
    "\n",
    "and we define \n",
    "\n",
    "$$\n",
    "p(n) = \\frac{\\varphi(n)}{n} = \\prod_{p \\ | \\ n} \\left(1 - \\frac{1}{p} \\right) \\\\~\\\\\n",
    "\\Rightarrow \n",
    "\\begin{cases}\n",
    "\\varphi(n) = np(n) \\\\\n",
    "p(n ^ i) = p(n) \\Rightarrow \\varphi(n^i) = n^ip(n)\n",
    "\\end{cases}\n",
    "$$\n",
    "\n",
    "So now let's evaluate $f(n)$ without the mod.:\n",
    "\n",
    "$$\n",
    "f(n) = \\sum_{i = 1}^n \\varphi(n^i)\\\\~\\\\\n",
    "= \\sum_{i = 1}^n n^i p(n) \\\\~\\\\\n",
    "= p(n) \\sum_{i = 1}^n \\left( n^i \\right) \\\\~\\\\\n",
    "= np(n) \\left( \\frac{n^n - 1}{n - 1} \\right)\n",
    "= \\varphi(n) \\left( \\frac{n^n - 1}{n - 1} \\right)\n",
    "$$\n",
    "\n",
    "Now, this is where the $\\mod{(n + 1)}$ comes into play. We have $n \\equiv -1 \\pmod{(n + 1)}$ and:\n",
    "\n",
    "$$\n",
    "f(n) \\equiv \\varphi(n) \\left( \\frac{(-1)^{(n)} - 1}{-2} \\right) \\mod{(n + 1)}\n",
    "$$"
   ]
  },
  {
   "cell_type": "markdown",
   "metadata": {},
   "source": []
  }
 ],
 "metadata": {
  "kernelspec": {
   "display_name": "Python 3",
   "language": "python",
   "name": "python3"
  },
  "language_info": {
   "codemirror_mode": {
    "name": "ipython",
    "version": 3
   },
   "file_extension": ".py",
   "mimetype": "text/x-python",
   "name": "python",
   "nbconvert_exporter": "python",
   "pygments_lexer": "ipython3",
   "version": "3.13.1"
  }
 },
 "nbformat": 4,
 "nbformat_minor": 2
}
