{
 "cells": [
  {
   "cell_type": "code",
   "execution_count": 1,
   "metadata": {},
   "outputs": [],
   "source": [
    "import math, sys, os, itertools\n",
    "import pandas as pd\n",
    "import numpy as np"
   ]
  },
  {
   "cell_type": "code",
   "execution_count": 2,
   "metadata": {},
   "outputs": [
    {
     "name": "stdout",
     "output_type": "stream",
     "text": [
      "1 1\n",
      "2 1\n",
      "3 1\n",
      "4 4\n",
      "5 1\n",
      "6 1\n",
      "7 1\n",
      "8 4\n",
      "9 9\n",
      "10 1\n",
      "11 1\n",
      "12 4\n",
      "13 1\n",
      "14 1\n",
      "15 1\n",
      "16 16\n",
      "17 1\n",
      "18 9\n",
      "19 1\n",
      "20 4\n",
      "21 1\n",
      "22 1\n",
      "23 1\n",
      "24 4\n",
      "25 25\n",
      "26 1\n",
      "27 9\n",
      "28 4\n",
      "29 1\n",
      "30 1\n",
      "31 1\n",
      "32 16\n",
      "33 1\n",
      "34 1\n",
      "35 1\n",
      "36 36\n",
      "37 1\n",
      "38 1\n",
      "39 1\n",
      "40 4\n",
      "41 1\n",
      "42 1\n",
      "43 1\n",
      "44 4\n",
      "45 9\n",
      "46 1\n",
      "47 1\n",
      "48 16\n",
      "49 49\n",
      "50 25\n",
      "51 1\n",
      "52 4\n",
      "53 1\n",
      "54 9\n",
      "55 1\n",
      "56 4\n",
      "57 1\n",
      "58 1\n",
      "59 1\n",
      "60 4\n",
      "61 1\n",
      "62 1\n",
      "63 9\n",
      "64 64\n",
      "65 1\n",
      "66 1\n",
      "67 1\n",
      "68 4\n",
      "69 1\n",
      "70 1\n",
      "71 1\n",
      "72 36\n",
      "73 1\n",
      "74 1\n",
      "75 25\n",
      "76 4\n",
      "77 1\n",
      "78 1\n",
      "79 1\n",
      "80 16\n",
      "81 81\n",
      "82 1\n",
      "83 1\n",
      "84 4\n",
      "85 1\n",
      "86 1\n",
      "87 1\n",
      "88 4\n",
      "89 1\n",
      "90 9\n",
      "91 1\n",
      "92 4\n",
      "93 1\n",
      "94 1\n",
      "95 1\n",
      "96 16\n",
      "97 1\n",
      "98 49\n",
      "99 9\n",
      "100 100\n"
     ]
    }
   ],
   "source": [
    "def g(n: int) -> int:\n",
    "    for i in range(math.isqrt(n) + 2, 0, -1):\n",
    "        if n % (i * i) == 0:\n",
    "            return i * i\n",
    "l = [g(i) for i in range(1, 101)]\n",
    "for i, v in enumerate(l):\n",
    "    print(i + 1, v)"
   ]
  },
  {
   "cell_type": "code",
   "execution_count": 6,
   "metadata": {},
   "outputs": [
    {
     "data": {
      "text/plain": [
       "True"
      ]
     },
     "execution_count": 6,
     "metadata": {},
     "output_type": "execute_result"
    }
   ],
   "source": [
    "import numpy as np\n",
    "np.iinfo(np.int64).max > 2 * (5 * 10 ** 7)"
   ]
  },
  {
   "cell_type": "code",
   "execution_count": 14,
   "metadata": {},
   "outputs": [
    {
     "ename": "TypeError",
     "evalue": "return arrays must be of ArrayType",
     "output_type": "error",
     "traceback": [
      "\u001b[1;31m---------------------------------------------------------------------------\u001b[0m",
      "\u001b[1;31mTypeError\u001b[0m                                 Traceback (most recent call last)",
      "Cell \u001b[1;32mIn[14], line 3\u001b[0m\n\u001b[0;32m      1\u001b[0m a \u001b[38;5;241m=\u001b[39m np\u001b[38;5;241m.\u001b[39mint64(\u001b[38;5;241m2\u001b[39m)\n\u001b[1;32m----> 3\u001b[0m \u001b[43mnp\u001b[49m\u001b[38;5;241;43m.\u001b[39;49m\u001b[43mpow\u001b[49m\u001b[43m(\u001b[49m\u001b[43ma\u001b[49m\u001b[43m,\u001b[49m\u001b[43m \u001b[49m\u001b[38;5;241;43m1000\u001b[39;49m\u001b[43m,\u001b[49m\u001b[43m \u001b[49m\u001b[38;5;241;43m3\u001b[39;49m\u001b[43m)\u001b[49m\n",
      "\u001b[1;31mTypeError\u001b[0m: return arrays must be of ArrayType"
     ]
    }
   ],
   "source": [
    "a = np.int64(2)\n",
    "\n",
    "np.pow(a, 1000, 3)"
   ]
  },
  {
   "cell_type": "code",
   "execution_count": null,
   "metadata": {},
   "outputs": [],
   "source": []
  }
 ],
 "metadata": {
  "kernelspec": {
   "display_name": ".venv",
   "language": "python",
   "name": "python3"
  },
  "language_info": {
   "codemirror_mode": {
    "name": "ipython",
    "version": 3
   },
   "file_extension": ".py",
   "mimetype": "text/x-python",
   "name": "python",
   "nbconvert_exporter": "python",
   "pygments_lexer": "ipython3",
   "version": "3.12.6"
  }
 },
 "nbformat": 4,
 "nbformat_minor": 2
}
