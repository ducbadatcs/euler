{
 "cells": [
  {
   "cell_type": "code",
   "execution_count": 1,
   "metadata": {},
   "outputs": [],
   "source": [
    "import math\n",
    "import numpy as np"
   ]
  },
  {
   "cell_type": "code",
   "execution_count": 2,
   "metadata": {},
   "outputs": [
    {
     "name": "stdout",
     "output_type": "stream",
     "text": [
      "\n",
      "39 12\n",
      "27 9\n",
      "\n"
     ]
    }
   ],
   "source": [
    "class matrix_22:\n",
    "    def __init__(self, a: int, b: int, c: int, d: int):\n",
    "        # form\n",
    "        # a b\n",
    "        # c d\n",
    "        self.a = a\n",
    "        self.b = b\n",
    "        self.c = c\n",
    "        self.d = d\n",
    "    \n",
    "    def __str__(self):\n",
    "        return f\"\\n{self.a} {self.b}\\n{self.c} {self.d}\\n\"\n",
    "    \n",
    "    \n",
    "        \n",
    "\"\"\"\n",
    "a b   e f \n",
    "c d x g h\n",
    "\"\"\"\n",
    "\n",
    "\n",
    "def matrix_22_add(A: matrix_22, B: matrix_22) -> matrix_22:\n",
    "    a, b, c, d = A.a, A.b, A.c, A.d\n",
    "    e, f, g, h = B.a, B.b, B.c, B.d\n",
    "    return matrix_22(\n",
    "        a + e, b + f, c + g, d + h\n",
    "    )\n",
    "    \n",
    "def matrix_22_subtract(A: matrix_22, B: matrix_22) -> matrix_22:\n",
    "    a, b, c, d = A.a, A.b, A.c, A.d\n",
    "    e, f, g, h = B.a, B.b, B.c, B.d\n",
    "    return matrix_22(\n",
    "        a - e, b - f, c - g, d - h\n",
    "    )\n",
    "        \n",
    "def matrix_22_multiply(A: matrix_22, B: matrix_22) -> matrix_22:\n",
    "    a, b, c, d = A.a, A.b, A.c, A.d\n",
    "    e, f, g, h = B.a, B.b, B.c, B.d\n",
    "    return matrix_22(\n",
    "\t\ta*e + b*g,\n",
    "\t\ta*f + b*h,\n",
    "\t\tc*e + d*g,\n",
    "\t\tc*f + d*h\n",
    "\t)\n",
    "    \n",
    "def matrix_22_determinant(A: matrix_22) -> int:\n",
    "    return A.a * A.d - A.b * A.c\n",
    "\n",
    "def matrix_22_multiply_scalar(A: matrix_22, n: int) -> matrix_22:\n",
    "    return matrix_22(\n",
    "        A.a * n, A.b * n, A.c * n, A.d*n\n",
    "    )\n",
    "    \n",
    "print(matrix_22_multiply(\n",
    "\tmatrix_22(7, 5, 6, 3), matrix_22(2, 1, 5, 1)\n",
    "))"
   ]
  },
  {
   "cell_type": "code",
   "execution_count": 3,
   "metadata": {},
   "outputs": [
    {
     "name": "stdout",
     "output_type": "stream",
     "text": [
      "\n",
      "62 124\n",
      "186 248\n",
      "\n"
     ]
    }
   ],
   "source": [
    "print(matrix_22_multiply_scalar(matrix_22(1, 2, 3, 4), 62))"
   ]
  },
  {
   "cell_type": "code",
   "execution_count": 4,
   "metadata": {},
   "outputs": [],
   "source": [
    "Fi = matrix_22(1, 1, 1, 0)\n",
    "I = matrix_22(1, 0, 0, 1)"
   ]
  },
  {
   "cell_type": "code",
   "execution_count": 5,
   "metadata": {},
   "outputs": [
    {
     "name": "stdout",
     "output_type": "stream",
     "text": [
      "\n",
      "89 55\n",
      "55 34\n",
      "\n"
     ]
    }
   ],
   "source": [
    "def matrix_22_power(A: matrix_22, n: int) -> matrix_22:\n",
    "    t = I\n",
    "    while n > 0:\n",
    "        if n % 2 == 1: t = matrix_22_multiply(t, A)\n",
    "        A = matrix_22_multiply(A, A)\n",
    "        n //= 2\n",
    "    return t\n",
    "\n",
    "print(matrix_22_power(Fi, 10))\n",
    "\n",
    "            "
   ]
  },
  {
   "cell_type": "code",
   "execution_count": 6,
   "metadata": {},
   "outputs": [
    {
     "data": {
      "text/plain": [
       "21"
      ]
     },
     "execution_count": 6,
     "metadata": {},
     "output_type": "execute_result"
    }
   ],
   "source": [
    "def fibonacci_number(n: int) -> int:\n",
    "    return matrix_22_power(Fi, n).b\n",
    "\n",
    "fibonacci_number(8)"
   ]
  },
  {
   "cell_type": "code",
   "execution_count": 7,
   "metadata": {},
   "outputs": [
    {
     "name": "stdout",
     "output_type": "stream",
     "text": [
      "\n",
      "937501 546875\n",
      "546875 390626\n",
      "\n"
     ]
    }
   ],
   "source": [
    "def matrix_22_mod(A: matrix_22, m: int) -> matrix_22:\n",
    "    A.a = (A.a + m * 10) % m\n",
    "    A.b = (A.b + m * 10) % m\n",
    "    A.c = (A.c + m * 10) % m\n",
    "    A.d = (A.d + m * 10) % m\n",
    "    return A\n",
    "\n",
    "def matrix_22_power_mod(A: matrix_22, n: int, m: int) -> matrix_22:\n",
    "    t = I\n",
    "    while n > 0:\n",
    "        if n % 2 == 1:\n",
    "            t = matrix_22_multiply(t, A)\n",
    "            t = matrix_22_mod(t, m)\n",
    "            \n",
    "        A = matrix_22_multiply(A, A)\n",
    "        A = matrix_22_mod(A, m)\n",
    "        n //= 2\n",
    "    return t\n",
    "\n",
    "print(matrix_22_power_mod(Fi, 10 ** 15, 10 ** 6))"
   ]
  },
  {
   "cell_type": "code",
   "execution_count": 12,
   "metadata": {},
   "outputs": [
    {
     "name": "stdout",
     "output_type": "stream",
     "text": [
      "\n",
      "1 0\n",
      "0 1\n",
      "\n"
     ]
    }
   ],
   "source": [
    "print(matrix_22_subtract(matrix_22_multiply(Fi, Fi), matrix_22_multiply(Fi, I)))"
   ]
  },
  {
   "cell_type": "code",
   "execution_count": 14,
   "metadata": {},
   "outputs": [
    {
     "data": {
      "text/plain": [
       "array([[1., 1.],\n",
       "       [1., 0.]])"
      ]
     },
     "execution_count": 14,
     "metadata": {},
     "output_type": "execute_result"
    }
   ],
   "source": [
    "# inverse of B - I\n",
    "np.linalg.inv(\n",
    "    np.array([\n",
    "        [0, 1], [1, -1]\n",
    "    ])\n",
    ")"
   ]
  },
  {
   "cell_type": "code",
   "execution_count": 10,
   "metadata": {},
   "outputs": [
    {
     "name": "stdout",
     "output_type": "stream",
     "text": [
      "\n",
      "1 0\n",
      "0 1\n",
      "\n"
     ]
    }
   ],
   "source": [
    "v = matrix_22_multiply(\n",
    "\tmatrix_22(1, 1, 1, 0), \n",
    "\tmatrix_22(0, 1, 1, -1)\n",
    ")\n",
    "print(v)"
   ]
  },
  {
   "cell_type": "code",
   "execution_count": 30,
   "metadata": {},
   "outputs": [
    {
     "name": "stdout",
     "output_type": "stream",
     "text": [
      "\n",
      "6571702164784850 4381134776523234\n",
      "4381134776523234 2190567388261616\n",
      "\n",
      "\n",
      "33734122132 16867126002\n",
      "16867126002 16866996130\n",
      "\n"
     ]
    },
    {
     "data": {
      "text/plain": [
       "16867126002"
      ]
     },
     "execution_count": 30,
     "metadata": {},
     "output_type": "execute_result"
    }
   ],
   "source": [
    "def F(n: int, x: int) -> int:\n",
    "    B: matrix_22 = matrix_22_multiply_scalar(Fi, x)\n",
    "    f = matrix_22_subtract(matrix_22_power(B, n + 1), I)\n",
    "    print(f)\n",
    "    \n",
    "    x = B.a\n",
    "    f = matrix_22_multiply(f, matrix_22(1, x, x, 1 - x))\n",
    "    \n",
    "    v =  x * x + x - 1\n",
    "    f.a //= v\n",
    "    f.b //= v\n",
    "    f.c //= v\n",
    "    f.d //= v\n",
    "    print(f)\n",
    "    return f.b\n",
    "\n",
    "F(2, 129873)"
   ]
  },
  {
   "cell_type": "markdown",
   "metadata": {},
   "source": [
    "I will now bring this fucking shit to my grave: $$\\frac{a}{b} \\mod M = \\frac{a \\mod bM}{b}$$ if $b | a$"
   ]
  },
  {
   "cell_type": "markdown",
   "metadata": {},
   "source": [
    "turns out all this garbage doesn't matter and we have:\n",
    "\n",
    "$$\n",
    "F_n(x) = \\frac{f_{n + 1} x^{n + 1} + f_{n} x^{n + 2} - x}{x^2 + x - 1}\n",
    "$$"
   ]
  },
  {
   "cell_type": "code",
   "execution_count": 40,
   "metadata": {},
   "outputs": [
    {
     "data": {
      "text/plain": [
       "15"
      ]
     },
     "execution_count": 40,
     "metadata": {},
     "output_type": "execute_result"
    }
   ],
   "source": [
    "def fibonacci_number_mod(n: int, m: int) -> int:\n",
    "    return matrix_22_power_mod(Fi, n, m).b\n",
    "\n",
    "fibonacci_number_mod(100, 20)"
   ]
  },
  {
   "cell_type": "code",
   "execution_count": 41,
   "metadata": {},
   "outputs": [
    {
     "name": "stdout",
     "output_type": "stream",
     "text": [
      "252541322550\n"
     ]
    }
   ],
   "source": [
    "M = math.factorial(15)\n",
    "t = 0\n",
    "n = 10 ** 15\n",
    "for x in range(101):\n",
    "    b = x * x + x - 1\n",
    "    v = (fibonacci_number_mod(n + 1, b * M) * pow(x, n + 1, b * M)) % (b * M)\n",
    "    v = (v + fibonacci_number_mod(n, b * M) * pow(x, n + 2, b * M)) % (b * M)\n",
    "    v = (v - x) % (b * M)\n",
    "    t += v // (b)\n",
    "    t %= M\n",
    "print(t)\n"
   ]
  },
  {
   "cell_type": "code",
   "execution_count": null,
   "metadata": {},
   "outputs": [],
   "source": []
  }
 ],
 "metadata": {
  "kernelspec": {
   "display_name": "Python 3",
   "language": "python",
   "name": "python3"
  },
  "language_info": {
   "codemirror_mode": {
    "name": "ipython",
    "version": 3
   },
   "file_extension": ".py",
   "mimetype": "text/x-python",
   "name": "python",
   "nbconvert_exporter": "python",
   "pygments_lexer": "ipython3",
   "version": "3.13.1"
  }
 },
 "nbformat": 4,
 "nbformat_minor": 2
}
