{
 "cells": [
  {
   "cell_type": "markdown",
   "metadata": {},
   "source": [
    "Use the formula number of subrectangles $$M(m, n) = \\frac{mn(m + 1)(n + 1)}{4}$$"
   ]
  },
  {
   "cell_type": "code",
   "execution_count": 8,
   "metadata": {},
   "outputs": [
    {
     "name": "stdout",
     "output_type": "stream",
     "text": [
      "2 -1 36 77\n"
     ]
    }
   ],
   "source": [
    "t = 10 ** 17\n",
    "v = 2 * 10 ** 6\n",
    "d = 0\n",
    "x = 0\n",
    "y = 0\n",
    "for i in range(1, 1000):\n",
    "    for j in range(1, 1000):\n",
    "        a = i * j * (i + 1) * (j + 1) // 4\n",
    "        if abs(v - a) < t: \n",
    "            t = abs(v - a)\n",
    "            d = 1 if a > v else -1\n",
    "            x = i\n",
    "            y = j \n",
    "print(t, d, x, y)"
   ]
  },
  {
   "cell_type": "code",
   "execution_count": 10,
   "metadata": {},
   "outputs": [
    {
     "name": "stdout",
     "output_type": "stream",
     "text": [
      "2772\n"
     ]
    }
   ],
   "source": [
    "print(x * y)"
   ]
  },
  {
   "cell_type": "code",
   "execution_count": null,
   "metadata": {},
   "outputs": [],
   "source": []
  }
 ],
 "metadata": {
  "kernelspec": {
   "display_name": "Python 3",
   "language": "python",
   "name": "python3"
  },
  "language_info": {
   "codemirror_mode": {
    "name": "ipython",
    "version": 3
   },
   "file_extension": ".py",
   "mimetype": "text/x-python",
   "name": "python",
   "nbconvert_exporter": "python",
   "pygments_lexer": "ipython3",
   "version": "3.12.6"
  }
 },
 "nbformat": 4,
 "nbformat_minor": 2
}
